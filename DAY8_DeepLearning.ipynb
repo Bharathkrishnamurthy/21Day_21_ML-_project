{
  "cells": [
    {
      "cell_type": "markdown",
      "metadata": {
        "id": "view-in-github",
        "colab_type": "text"
      },
      "source": [
        "<a href=\"https://colab.research.google.com/github/Bharathkrishnamurthy/21Day_21_ML-_project/blob/main/DAY8_DeepLearning.ipynb\" target=\"_parent\"><img src=\"https://colab.research.google.com/assets/colab-badge.svg\" alt=\"Open In Colab\"/></a>"
      ]
    },
    {
      "cell_type": "markdown",
      "metadata": {
        "id": "Ftk2uYUWmU7D"
      },
      "source": [
        "# Fashion-MNIST Classification Project\n",
        "\n",
        "This project aims to build and compare different deep learning models for classifying images from the Fashion-MNIST dataset. We will explore the impact of increasing model complexity, from a simple Artificial Neural Network (ANN) to more sophisticated Convolutional Neural Networks (CNNs), on performance and efficiency.\n",
        "\n",
        "**Project Agenda & Steps:**\n",
        "\n",
        "1.  **Dataset Setup:**\n",
        "    *   Import necessary libraries.\n",
        "    *   Load the Fashion-MNIST dataset.\n",
        "    *   Preprocess the data (normalize and reshape images, one-hot encode labels).\n",
        "    *   Verify the shapes of the processed data.\n",
        "\n",
        "2.  **Model Building:**\n",
        "    *   Define the architecture for each model:\n",
        "        *   Basic ANN Model\n",
        "        *   Basic CNN Model\n",
        "        *   Deeper CNN Model\n",
        "\n",
        "3.  **Model Training:**\n",
        "    *   Train each model using the prepared training data.\n",
        "    *   Implement Early Stopping and Model Checkpointing to optimize training and save the best model weights.\n",
        "\n",
        "4.  **Model Evaluation:**\n",
        "    *   Load the best weights for each trained model.\n",
        "    *   Evaluate each model's performance on the test set using metrics like loss and accuracy.\n",
        "    *   Visualize the training history (accuracy and loss curves) for comparison.\n",
        "    *   Generate and visualize confusion matrices to understand model performance on each class.\n",
        "\n",
        "5.  **Prediction Analysis:**\n",
        "    *   Use the best performing model (Basic CNN in this case) to make predictions on the test set.\n",
        "    *   Identify and visualize examples of both correctly and incorrectly classified images to gain insights into model behavior.\n",
        "\n",
        "**Goal:** To analyze and demonstrate how model complexity influences classification accuracy and efficiency on the Fashion-MNIST dataset."
      ]
    },
    {
      "cell_type": "markdown",
      "metadata": {
        "id": "h9yRPmUen6za"
      },
      "source": [
        "### 1. Dataset Setup Documentation\n",
        "\n",
        "#### 1.1) Library Imports\n",
        "\n",
        "This section imports the essential libraries:  \n",
        "- **NumPy** for numerical operations  \n",
        "- **TensorFlow / Keras** for building and training deep learning models  \n",
        "- **Matplotlib** for visualizations"
      ]
    },
    {
      "cell_type": "code",
      "execution_count": null,
      "metadata": {
        "id": "7wnw8BxIohAi"
      },
      "outputs": [],
      "source": [
        "import numpy as np\n",
        "import tensorflow as tf\n",
        "import pandas as pd\n",
        "import matplotlib.pyplot as plt\n",
        "from tensorflow import keras\n",
        "\n",
        "import plotly.graph_objects as go\n",
        "from plotly.subplots import make_subplots\n"
      ]
    },
    {
      "cell_type": "markdown",
      "metadata": {
        "id": "RxPD5FCApyd4"
      },
      "source": [
        "1.2) Load Dataset"
      ]
    },
    {
      "cell_type": "markdown",
      "metadata": {
        "id": "zemHW1pvp8GV"
      },
      "source": [
        "Load the Fashion_MNSIT dataset from keras,splitting it into\n",
        "\n",
        "\n",
        "\n",
        "(train_images,train_labels)-->training set\n",
        "\n",
        "(test_images,test_labels)-->test set\n",
        "\n"
      ]
    },
    {
      "cell_type": "code",
      "execution_count": null,
      "metadata": {
        "id": "oA20eWYQq452"
      },
      "outputs": [],
      "source": [
        "(train_images, train_labels), (test_images, test_labels) = keras.datasets.fashion_mnist.load_data()"
      ]
    },
    {
      "cell_type": "markdown",
      "metadata": {
        "id": "zlzmVjcBsPMB"
      },
      "source": [
        "#### 1.3) Normalize Data\n",
        "\n",
        "Scale pixel values from **0–255** to the range **0–1** for faster and more stable training.  \n",
        "\n",
        "**Example:**  \n",
        "- Before: a pixel value could be `200`  \n",
        "- After: `200 / 255 ≈ 0.78`  \n"
      ]
    },
    {
      "cell_type": "code",
      "execution_count": null,
      "metadata": {
        "id": "f6HlU8xYsde2"
      },
      "outputs": [],
      "source": [
        "train_images = train_images / 255.0\n",
        "test_images = test_images / 255.0"
      ]
    },
    {
      "cell_type": "markdown",
      "metadata": {
        "id": "l6pZVbjdsnXP"
      },
      "source": [
        "#### 1.4) Reshape Data\n",
        "\n",
        "Reshape images to **28×28×1** by adding a channel dimension, making them compatible with CNN layers.  \n",
        "\n",
        "**Example:**  \n",
        "- Before: `(60000, 28, 28)` → 60,000 grayscale images without channel info  \n",
        "- After: `(60000, 28, 28, 1)` → channel dimension (`1`) added for CNN input  "
      ]
    },
    {
      "cell_type": "code",
      "execution_count": null,
      "metadata": {
        "id": "TftxUA71utsU"
      },
      "outputs": [],
      "source": [
        "train_images = train_images.reshape((train_images.shape[0], 28, 28, 1))\n",
        "test_images = test_images.reshape((test_images.shape[0], 28, 28, 1))"
      ]
    },
    {
      "cell_type": "markdown",
      "metadata": {
        "id": "X_qwm9AGvMJj"
      },
      "source": [
        "#### 1.5) One-Hot Encode Labels\n",
        "\n",
        "Convert class labels (0–9) into **one-hot encoded vectors** with 10 output classes, required for multi-class classification.  \n",
        "\n",
        "**Example:**  \n",
        "- Original label: `3`  \n",
        "- One-hot encoded: `[0, 0, 0, 1, 0, 0, 0, 0, 0, 0]`  \n"
      ]
    },
    {
      "cell_type": "code",
      "execution_count": null,
      "metadata": {
        "id": "1CGLv44OwUWT"
      },
      "outputs": [],
      "source": [
        "train_labels_one_hot = keras.utils.to_categorical(train_labels, num_classes=10)\n",
        "test_labels_one_hot = keras.utils.to_categorical(test_labels, num_classes=10)"
      ]
    },
    {
      "cell_type": "markdown",
      "metadata": {
        "id": "cP1jcylhjfzZ"
      },
      "source": [
        "#### 1.6) Verify Dataset Shapes\n",
        "\n",
        "Print the shapes of images and labels after preprocessing to confirm everything is in the expected format.  \n",
        "\n",
        "**Example output:**  \n",
        "- Training images shape: `(60000, 28, 28, 1)`  \n",
        "- Testing images shape: `(10000, 28, 28, 1)`  \n",
        "- Training labels shape: `(60000, 10)`  \n",
        "- Testing labels shape: `(10000, 10)`  \n"
      ]
    },
    {
      "cell_type": "code",
      "execution_count": null,
      "metadata": {
        "id": "Yo9tj92TjcDQ"
      },
      "outputs": [],
      "source": [
        "print(\"Training images shape:\", train_images.shape)\n",
        "print(\"Testing images shape:\",test_images.shape)\n",
        "print(\"Training labels shape:\",train_labels_one_hot.shape)\n",
        "print(\"Testing labels shape:\",test_labels_one_hot.shape)"
      ]
    },
    {
      "cell_type": "markdown",
      "metadata": {
        "id": "iJzQJ7NAkrW-"
      },
      "source": [
        "### 2. Model Building\n",
        "\n",
        " 2.1) Basic ANN Model\n",
        "\n",
        " - **Flatten (28×28→784)** → 0 params  \n",
        "- **Dense (128, ReLU)** → 100,480 params  \n",
        "- **Dense (64, ReLU)** → 8,256 params  \n",
        "- **Dense (10, Softmax)** → 650 params  \n",
        "\n",
        "**Total params:** ~109K"
      ]
    },
    {
      "cell_type": "code",
      "execution_count": null,
      "metadata": {
        "id": "mVNrM7vKkTbw"
      },
      "outputs": [],
      "source": [
        "ann_model = keras.Sequential([\n",
        "    keras.layers.Flatten(input_shape=(28,28,1)),\n",
        "    keras.layers.Dense(128, activation='relu'),\n",
        "    keras.layers.Dense(64, activation='relu'),\n",
        "    keras.layers.Dense(10, activation='softmax')\n",
        "])\n",
        "\n",
        "ann_model.compile(optimizer='adam',\n",
        "                  loss='categorical_crossentropy',\n",
        "                  metrics=['accuracy']\n",
        "                  )\n",
        "ann_model.summary()"
      ]
    },
    {
      "cell_type": "markdown",
      "metadata": {
        "id": "HRrv-ZhwmwCM"
      },
      "source": [
        "### 2.2) Basic CNN Model"
      ]
    },
    {
      "cell_type": "markdown",
      "metadata": {
        "id": "SPXeTLl-m3eY"
      },
      "source": [
        "- **Conv2D (32, 3×3) + MaxPool** → 320 params  \n",
        "- **Conv2D (64, 3×3) + MaxPool** → 18,496 params  \n",
        "- **Flatten**  \n",
        "- **Dense (64, ReLU)** → 102,464 params  \n",
        "- **Dense (10, Softmax)** → 650 params  \n",
        "\n",
        "**Total params:** ~121K  "
      ]
    },
    {
      "cell_type": "code",
      "execution_count": null,
      "metadata": {
        "id": "7CzIYsHnm_NV"
      },
      "outputs": [],
      "source": [
        "basic_cnn_model = keras.Sequential([\n",
        "    keras.layers.Conv2D(32 ,(3, 3), activation='relu',input_shape=(28,28,1)),\n",
        "    keras.layers.MaxPooling2D((2, 2)),\n",
        "    keras.layers.Conv2D(64 ,(3, 3), activation=\"relu\"),\n",
        "    keras.layers.MaxPooling2D((2, 2)),\n",
        "    keras.layers.Flatten(),\n",
        "    keras.layers.Dense(64, activation='relu'),\n",
        "    keras.layers.Dense(10, activation='softmax')\n",
        "    ])\n",
        "\n",
        "basic_cnn_model.compile(optimizer='adam',\n",
        "                        loss='categorical_crossentropy',\n",
        "                        metrics=['accuracy'])\n",
        "\n",
        "basic_cnn_model.summary()"
      ]
    },
    {
      "cell_type": "markdown",
      "metadata": {
        "id": "yM0pm_OY4QET"
      },
      "source": [
        "#### 2.3) Deeper CNN Model"
      ]
    },
    {
      "cell_type": "markdown",
      "metadata": {
        "id": "GtMs5mhl4Gyf"
      },
      "source": [
        "- **Conv2D (32, 3×3) + BN + MaxPool + Dropout** → 320 + 64 params  \n",
        "- **Conv2D (64, 3×3) + BN + MaxPool + Dropout** → 18,496 + 128 params  \n",
        "- **Conv2D (128, 3×3) + BN + MaxPool + Dropout** → 73,856 + 256 params  \n",
        "- **Flatten**  \n",
        "- **Dense (128, ReLU) + BN + Dropout** → 147,584 + 256 params  \n",
        "- **Dense (10, Softmax)** → 1,290 params  \n",
        "\n",
        "**Total params:** ~242K  "
      ]
    },
    {
      "cell_type": "code",
      "execution_count": null,
      "metadata": {
        "id": "dj5gMlEq4uKV"
      },
      "outputs": [],
      "source": [
        "deeper_cnn_model = keras.Sequential([\n",
        "    keras.layers.Conv2D(32, (3, 3), activation='relu', input_shape=(28, 28, 1)),\n",
        "    keras.layers.BatchNormalization(),\n",
        "    keras.layers.MaxPooling2D((2, 2)),\n",
        "    keras.layers.Dropout(0.25),\n",
        "\n",
        "    keras.layers.Conv2D(64, (3, 3), activation='relu'),\n",
        "    keras.layers.BatchNormalization(),\n",
        "    keras.layers.MaxPooling2D((2, 2)),\n",
        "    keras.layers.Dropout(0.25),\n",
        "\n",
        "    keras.layers.Conv2D(128, (3, 3), activation='relu'),\n",
        "    keras.layers.BatchNormalization(),\n",
        "    keras.layers.MaxPooling2D((2, 2)),\n",
        "    keras.layers.Dropout(0.25),\n",
        "\n",
        "    keras.layers.Flatten(),\n",
        "    keras.layers.Dense(128, activation='relu'),\n",
        "    keras.layers.BatchNormalization(),\n",
        "    keras.layers.Dropout(0.5),\n",
        "\n",
        "    keras.layers.Dense(10, activation='softmax')\n",
        "])\n",
        "\n",
        "deeper_cnn_model.compile(optimizer='adam',\n",
        "                         loss='categorical_crossentropy',\n",
        "                         metrics=['accuracy'])\n",
        "\n",
        "deeper_cnn_model.summary()"
      ]
    },
    {
      "cell_type": "markdown",
      "metadata": {
        "id": "Qj4Ot-zt5Hqs"
      },
      "source": [
        "3.Train the models"
      ]
    },
    {
      "cell_type": "markdown",
      "metadata": {
        "id": "D8gGFTHd5RF5"
      },
      "source": [
        "3.1 Train ANN model"
      ]
    },
    {
      "cell_type": "markdown",
      "metadata": {
        "id": "-pz5I9-k5ZVL"
      },
      "source": [
        "- **EarlyStopping**: monitors validation loss, stops if no improvement for 5 epochs, restores best weights.  \n",
        "- **ModelCheckpoint**: saves best ANN weights (`best_ann_model_weights.weights.h5`) based on validation loss.  \n",
        "- **Training**:  \n",
        "  - Epochs: up to 30 (early stopping controls actual run)  \n",
        "  - Batch size: 64  \n",
        "  - Validation on test set  \n",
        "  - Callbacks: EarlyStopping + ModelCheckpoint  "
      ]
    },
    {
      "cell_type": "code",
      "execution_count": null,
      "metadata": {
        "id": "fx70_w5Y5XOi"
      },
      "outputs": [],
      "source": [
        "early_stopping = keras.callbacks.EarlyStopping(\n",
        "    monitor='val_loss',\n",
        "    patience=5,\n",
        "    restore_best_weights=True\n",
        ")\n",
        "\n",
        "model_checkpoint_ann = keras.callbacks.ModelCheckpoint(\n",
        "    filepath='best_ann_model_weights.weights.h5',\n",
        "    monitor='val_loss',\n",
        "    save_best_only=True,\n",
        "    save_weights_only=True,\n",
        "    mode='min',\n",
        "    verbose=1\n",
        ")\n",
        "\n",
        "print(\"Training ANN model...\")\n",
        "ann_history = ann_model.fit(\n",
        "    train_images,\n",
        "    train_labels_one_hot,\n",
        "    epochs=30,\n",
        "    batch_size=64,\n",
        "    validation_data=(test_images, test_labels_one_hot),\n",
        "    callbacks=[early_stopping, model_checkpoint_ann]\n",
        ")\n",
        "print(\"ANN model training finished.\")"
      ]
    },
    {
      "cell_type": "markdown",
      "metadata": {
        "id": "tZZlucme6HNa"
      },
      "source": [
        "3.2 Training Basic CNN model"
      ]
    },
    {
      "cell_type": "markdown",
      "metadata": {
        "id": "2xQEjiRH6MFW"
      },
      "source": [
        "ModelCheckpoint: saves best Basic CNN weights (best_basic_cnn_model_weights.weights.h5) based on validation loss.\n",
        "\n",
        "Training:\n",
        "Epochs: up to 30 (early stopping controls actual run)\n",
        "\n",
        "Batch size: 64\n",
        "Validation on test set\n",
        "\n",
        "Callbacks: EarlyStopping + ModelCheckpoint"
      ]
    },
    {
      "cell_type": "code",
      "execution_count": 11,
      "metadata": {
        "colab": {
          "base_uri": "https://localhost:8080/"
        },
        "id": "UAqOpfVB6Uls",
        "outputId": "b606d6ee-0970-470c-89d1-1b170e58fc67"
      },
      "outputs": [
        {
          "output_type": "stream",
          "name": "stdout",
          "text": [
            "Training Basic CNN model...\n",
            "Epoch 1/30\n",
            "\u001b[1m937/938\u001b[0m \u001b[32m━━━━━━━━━━━━━━━━━━━\u001b[0m\u001b[37m━\u001b[0m \u001b[1m0s\u001b[0m 47ms/step - accuracy: 0.7403 - loss: 0.7277\n",
            "Epoch 1: val_loss improved from inf to 0.41365, saving model to best_basic_cnn_model_weights.weights.h5\n",
            "\u001b[1m938/938\u001b[0m \u001b[32m━━━━━━━━━━━━━━━━━━━━\u001b[0m\u001b[37m\u001b[0m \u001b[1m51s\u001b[0m 53ms/step - accuracy: 0.7405 - loss: 0.7273 - val_accuracy: 0.8450 - val_loss: 0.4137\n",
            "Epoch 2/30\n",
            "\u001b[1m937/938\u001b[0m \u001b[32m━━━━━━━━━━━━━━━━━━━\u001b[0m\u001b[37m━\u001b[0m \u001b[1m0s\u001b[0m 46ms/step - accuracy: 0.8730 - loss: 0.3525\n",
            "Epoch 2: val_loss improved from 0.41365 to 0.34003, saving model to best_basic_cnn_model_weights.weights.h5\n",
            "\u001b[1m938/938\u001b[0m \u001b[32m━━━━━━━━━━━━━━━━━━━━\u001b[0m\u001b[37m\u001b[0m \u001b[1m77s\u001b[0m 48ms/step - accuracy: 0.8730 - loss: 0.3525 - val_accuracy: 0.8763 - val_loss: 0.3400\n",
            "Epoch 3/30\n",
            "\u001b[1m937/938\u001b[0m \u001b[32m━━━━━━━━━━━━━━━━━━━\u001b[0m\u001b[37m━\u001b[0m \u001b[1m0s\u001b[0m 47ms/step - accuracy: 0.8918 - loss: 0.2949\n",
            "Epoch 3: val_loss improved from 0.34003 to 0.30786, saving model to best_basic_cnn_model_weights.weights.h5\n",
            "\u001b[1m938/938\u001b[0m \u001b[32m━━━━━━━━━━━━━━━━━━━━\u001b[0m\u001b[37m\u001b[0m \u001b[1m47s\u001b[0m 50ms/step - accuracy: 0.8918 - loss: 0.2949 - val_accuracy: 0.8871 - val_loss: 0.3079\n",
            "Epoch 4/30\n",
            "\u001b[1m937/938\u001b[0m \u001b[32m━━━━━━━━━━━━━━━━━━━\u001b[0m\u001b[37m━\u001b[0m \u001b[1m0s\u001b[0m 48ms/step - accuracy: 0.9045 - loss: 0.2646\n",
            "Epoch 4: val_loss improved from 0.30786 to 0.29765, saving model to best_basic_cnn_model_weights.weights.h5\n",
            "\u001b[1m938/938\u001b[0m \u001b[32m━━━━━━━━━━━━━━━━━━━━\u001b[0m\u001b[37m\u001b[0m \u001b[1m47s\u001b[0m 50ms/step - accuracy: 0.9045 - loss: 0.2646 - val_accuracy: 0.8890 - val_loss: 0.2977\n",
            "Epoch 5/30\n",
            "\u001b[1m937/938\u001b[0m \u001b[32m━━━━━━━━━━━━━━━━━━━\u001b[0m\u001b[37m━\u001b[0m \u001b[1m0s\u001b[0m 47ms/step - accuracy: 0.9135 - loss: 0.2334\n",
            "Epoch 5: val_loss improved from 0.29765 to 0.27324, saving model to best_basic_cnn_model_weights.weights.h5\n",
            "\u001b[1m938/938\u001b[0m \u001b[32m━━━━━━━━━━━━━━━━━━━━\u001b[0m\u001b[37m\u001b[0m \u001b[1m82s\u001b[0m 50ms/step - accuracy: 0.9135 - loss: 0.2334 - val_accuracy: 0.9017 - val_loss: 0.2732\n",
            "Epoch 6/30\n",
            "\u001b[1m938/938\u001b[0m \u001b[32m━━━━━━━━━━━━━━━━━━━━\u001b[0m\u001b[37m\u001b[0m \u001b[1m0s\u001b[0m 47ms/step - accuracy: 0.9212 - loss: 0.2165\n",
            "Epoch 6: val_loss did not improve from 0.27324\n",
            "\u001b[1m938/938\u001b[0m \u001b[32m━━━━━━━━━━━━━━━━━━━━\u001b[0m\u001b[37m\u001b[0m \u001b[1m84s\u001b[0m 53ms/step - accuracy: 0.9212 - loss: 0.2165 - val_accuracy: 0.8927 - val_loss: 0.3009\n",
            "Epoch 7/30\n",
            "\u001b[1m938/938\u001b[0m \u001b[32m━━━━━━━━━━━━━━━━━━━━\u001b[0m\u001b[37m\u001b[0m \u001b[1m0s\u001b[0m 47ms/step - accuracy: 0.9280 - loss: 0.1925\n",
            "Epoch 7: val_loss improved from 0.27324 to 0.26017, saving model to best_basic_cnn_model_weights.weights.h5\n",
            "\u001b[1m938/938\u001b[0m \u001b[32m━━━━━━━━━━━━━━━━━━━━\u001b[0m\u001b[37m\u001b[0m \u001b[1m79s\u001b[0m 50ms/step - accuracy: 0.9280 - loss: 0.1926 - val_accuracy: 0.9064 - val_loss: 0.2602\n",
            "Epoch 8/30\n",
            "\u001b[1m938/938\u001b[0m \u001b[32m━━━━━━━━━━━━━━━━━━━━\u001b[0m\u001b[37m\u001b[0m \u001b[1m0s\u001b[0m 46ms/step - accuracy: 0.9333 - loss: 0.1813\n",
            "Epoch 8: val_loss did not improve from 0.26017\n",
            "\u001b[1m938/938\u001b[0m \u001b[32m━━━━━━━━━━━━━━━━━━━━\u001b[0m\u001b[37m\u001b[0m \u001b[1m81s\u001b[0m 48ms/step - accuracy: 0.9333 - loss: 0.1813 - val_accuracy: 0.9066 - val_loss: 0.2667\n",
            "Epoch 9/30\n",
            "\u001b[1m937/938\u001b[0m \u001b[32m━━━━━━━━━━━━━━━━━━━\u001b[0m\u001b[37m━\u001b[0m \u001b[1m0s\u001b[0m 45ms/step - accuracy: 0.9383 - loss: 0.1645\n",
            "Epoch 9: val_loss improved from 0.26017 to 0.25139, saving model to best_basic_cnn_model_weights.weights.h5\n",
            "\u001b[1m938/938\u001b[0m \u001b[32m━━━━━━━━━━━━━━━━━━━━\u001b[0m\u001b[37m\u001b[0m \u001b[1m45s\u001b[0m 48ms/step - accuracy: 0.9383 - loss: 0.1645 - val_accuracy: 0.9124 - val_loss: 0.2514\n",
            "Epoch 10/30\n",
            "\u001b[1m938/938\u001b[0m \u001b[32m━━━━━━━━━━━━━━━━━━━━\u001b[0m\u001b[37m\u001b[0m \u001b[1m0s\u001b[0m 50ms/step - accuracy: 0.9450 - loss: 0.1481\n",
            "Epoch 10: val_loss did not improve from 0.25139\n",
            "\u001b[1m938/938\u001b[0m \u001b[32m━━━━━━━━━━━━━━━━━━━━\u001b[0m\u001b[37m\u001b[0m \u001b[1m87s\u001b[0m 53ms/step - accuracy: 0.9450 - loss: 0.1481 - val_accuracy: 0.9103 - val_loss: 0.2714\n",
            "Epoch 11/30\n",
            "\u001b[1m938/938\u001b[0m \u001b[32m━━━━━━━━━━━━━━━━━━━━\u001b[0m\u001b[37m\u001b[0m \u001b[1m0s\u001b[0m 48ms/step - accuracy: 0.9492 - loss: 0.1371\n",
            "Epoch 11: val_loss did not improve from 0.25139\n",
            "\u001b[1m938/938\u001b[0m \u001b[32m━━━━━━━━━━━━━━━━━━━━\u001b[0m\u001b[37m\u001b[0m \u001b[1m48s\u001b[0m 51ms/step - accuracy: 0.9492 - loss: 0.1371 - val_accuracy: 0.9108 - val_loss: 0.2652\n",
            "Epoch 12/30\n",
            "\u001b[1m938/938\u001b[0m \u001b[32m━━━━━━━━━━━━━━━━━━━━\u001b[0m\u001b[37m\u001b[0m \u001b[1m0s\u001b[0m 47ms/step - accuracy: 0.9520 - loss: 0.1256\n",
            "Epoch 12: val_loss did not improve from 0.25139\n",
            "\u001b[1m938/938\u001b[0m \u001b[32m━━━━━━━━━━━━━━━━━━━━\u001b[0m\u001b[37m\u001b[0m \u001b[1m46s\u001b[0m 49ms/step - accuracy: 0.9520 - loss: 0.1256 - val_accuracy: 0.9091 - val_loss: 0.2779\n",
            "Epoch 13/30\n",
            "\u001b[1m937/938\u001b[0m \u001b[32m━━━━━━━━━━━━━━━━━━━\u001b[0m\u001b[37m━\u001b[0m \u001b[1m0s\u001b[0m 47ms/step - accuracy: 0.9581 - loss: 0.1145\n",
            "Epoch 13: val_loss did not improve from 0.25139\n",
            "\u001b[1m938/938\u001b[0m \u001b[32m━━━━━━━━━━━━━━━━━━━━\u001b[0m\u001b[37m\u001b[0m \u001b[1m46s\u001b[0m 49ms/step - accuracy: 0.9581 - loss: 0.1145 - val_accuracy: 0.9084 - val_loss: 0.2931\n",
            "Epoch 14/30\n",
            "\u001b[1m937/938\u001b[0m \u001b[32m━━━━━━━━━━━━━━━━━━━\u001b[0m\u001b[37m━\u001b[0m \u001b[1m0s\u001b[0m 49ms/step - accuracy: 0.9586 - loss: 0.1106\n",
            "Epoch 14: val_loss did not improve from 0.25139\n",
            "\u001b[1m938/938\u001b[0m \u001b[32m━━━━━━━━━━━━━━━━━━━━\u001b[0m\u001b[37m\u001b[0m \u001b[1m84s\u001b[0m 51ms/step - accuracy: 0.9586 - loss: 0.1106 - val_accuracy: 0.9131 - val_loss: 0.2918\n",
            "Basic CNN model training finished.\n"
          ]
        }
      ],
      "source": [
        "model_checkpoint_basic_cnn = keras.callbacks.ModelCheckpoint(\n",
        "    filepath='best_basic_cnn_model_weights.weights.h5',\n",
        "    monitor='val_loss',\n",
        "    save_best_only=True,\n",
        "    save_weights_only=True,\n",
        "    mode='min',\n",
        "    verbose=1\n",
        ")\n",
        "\n",
        "print(\"Training Basic CNN model...\")\n",
        "basic_cnn_history = basic_cnn_model.fit(\n",
        "    train_images,\n",
        "    train_labels_one_hot,\n",
        "    epochs=30,\n",
        "    batch_size=64,\n",
        "    validation_data=(test_images, test_labels_one_hot),\n",
        "    callbacks=[early_stopping, model_checkpoint_basic_cnn]\n",
        ")\n",
        "print(\"Basic CNN model training finished.\")"
      ]
    },
    {
      "cell_type": "markdown",
      "metadata": {
        "id": "8SdwViDv-2Qe"
      },
      "source": [
        "\n",
        "3.3) Training Deeper CNN Model"
      ]
    },
    {
      "cell_type": "markdown",
      "metadata": {
        "id": "I8nqakJ-_Gp2"
      },
      "source": [
        "- **ModelCheckpoint**: saves best Deeper CNN weights (`best_deeper_cnn_model_weights.weights.h5`) based on validation loss.  \n",
        "- **Training**:  \n",
        "  - Epochs: up to 30 (early stopping controls actual run)  \n",
        "  - Batch size: 64  \n",
        "  - Validation on test set  \n",
        "  - Callbacks: EarlyStopping + ModelCheckpoint"
      ]
    },
    {
      "cell_type": "code",
      "execution_count": 12,
      "metadata": {
        "colab": {
          "base_uri": "https://localhost:8080/"
        },
        "id": "ZRzlp6VL_GXq",
        "outputId": "9eca7dab-c001-46f8-8043-a1bf4af6b268"
      },
      "outputs": [
        {
          "output_type": "stream",
          "name": "stdout",
          "text": [
            "Training Deeper CNN model...\n",
            "Epoch 1/30\n",
            "\u001b[1m938/938\u001b[0m \u001b[32m━━━━━━━━━━━━━━━━━━━━\u001b[0m\u001b[37m\u001b[0m \u001b[1m0s\u001b[0m 82ms/step - accuracy: 0.6424 - loss: 1.0629\n",
            "Epoch 1: val_loss improved from inf to 0.51543, saving model to best_deeper_cnn_model_weights.weights.h5\n",
            "\u001b[1m938/938\u001b[0m \u001b[32m━━━━━━━━━━━━━━━━━━━━\u001b[0m\u001b[37m\u001b[0m \u001b[1m86s\u001b[0m 88ms/step - accuracy: 0.6425 - loss: 1.0625 - val_accuracy: 0.8140 - val_loss: 0.5154\n",
            "Epoch 2/30\n",
            "\u001b[1m937/938\u001b[0m \u001b[32m━━━━━━━━━━━━━━━━━━━\u001b[0m\u001b[37m━\u001b[0m \u001b[1m0s\u001b[0m 88ms/step - accuracy: 0.8142 - loss: 0.5210\n",
            "Epoch 2: val_loss improved from 0.51543 to 0.38649, saving model to best_deeper_cnn_model_weights.weights.h5\n",
            "\u001b[1m938/938\u001b[0m \u001b[32m━━━━━━━━━━━━━━━━━━━━\u001b[0m\u001b[37m\u001b[0m \u001b[1m88s\u001b[0m 94ms/step - accuracy: 0.8142 - loss: 0.5209 - val_accuracy: 0.8522 - val_loss: 0.3865\n",
            "Epoch 3/30\n",
            "\u001b[1m937/938\u001b[0m \u001b[32m━━━━━━━━━━━━━━━━━━━\u001b[0m\u001b[37m━\u001b[0m \u001b[1m0s\u001b[0m 84ms/step - accuracy: 0.8458 - loss: 0.4309\n",
            "Epoch 3: val_loss did not improve from 0.38649\n",
            "\u001b[1m938/938\u001b[0m \u001b[32m━━━━━━━━━━━━━━━━━━━━\u001b[0m\u001b[37m\u001b[0m \u001b[1m82s\u001b[0m 87ms/step - accuracy: 0.8458 - loss: 0.4309 - val_accuracy: 0.8494 - val_loss: 0.4034\n",
            "Epoch 4/30\n",
            "\u001b[1m938/938\u001b[0m \u001b[32m━━━━━━━━━━━━━━━━━━━━\u001b[0m\u001b[37m\u001b[0m \u001b[1m0s\u001b[0m 88ms/step - accuracy: 0.8526 - loss: 0.4095\n",
            "Epoch 4: val_loss improved from 0.38649 to 0.33925, saving model to best_deeper_cnn_model_weights.weights.h5\n",
            "\u001b[1m938/938\u001b[0m \u001b[32m━━━━━━━━━━━━━━━━━━━━\u001b[0m\u001b[37m\u001b[0m \u001b[1m85s\u001b[0m 91ms/step - accuracy: 0.8526 - loss: 0.4095 - val_accuracy: 0.8754 - val_loss: 0.3393\n",
            "Epoch 5/30\n",
            "\u001b[1m937/938\u001b[0m \u001b[32m━━━━━━━━━━━━━━━━━━━\u001b[0m\u001b[37m━\u001b[0m \u001b[1m0s\u001b[0m 82ms/step - accuracy: 0.8628 - loss: 0.3811\n",
            "Epoch 5: val_loss did not improve from 0.33925\n",
            "\u001b[1m938/938\u001b[0m \u001b[32m━━━━━━━━━━━━━━━━━━━━\u001b[0m\u001b[37m\u001b[0m \u001b[1m136s\u001b[0m 85ms/step - accuracy: 0.8627 - loss: 0.3811 - val_accuracy: 0.8503 - val_loss: 0.3976\n",
            "Epoch 6/30\n",
            "\u001b[1m938/938\u001b[0m \u001b[32m━━━━━━━━━━━━━━━━━━━━\u001b[0m\u001b[37m\u001b[0m \u001b[1m0s\u001b[0m 87ms/step - accuracy: 0.8702 - loss: 0.3605\n",
            "Epoch 6: val_loss did not improve from 0.33925\n",
            "\u001b[1m938/938\u001b[0m \u001b[32m━━━━━━━━━━━━━━━━━━━━\u001b[0m\u001b[37m\u001b[0m \u001b[1m85s\u001b[0m 91ms/step - accuracy: 0.8702 - loss: 0.3605 - val_accuracy: 0.8653 - val_loss: 0.3520\n",
            "Epoch 7/30\n",
            "\u001b[1m937/938\u001b[0m \u001b[32m━━━━━━━━━━━━━━━━━━━\u001b[0m\u001b[37m━\u001b[0m \u001b[1m0s\u001b[0m 82ms/step - accuracy: 0.8691 - loss: 0.3567\n",
            "Epoch 7: val_loss improved from 0.33925 to 0.31722, saving model to best_deeper_cnn_model_weights.weights.h5\n",
            "\u001b[1m938/938\u001b[0m \u001b[32m━━━━━━━━━━━━━━━━━━━━\u001b[0m\u001b[37m\u001b[0m \u001b[1m79s\u001b[0m 85ms/step - accuracy: 0.8691 - loss: 0.3567 - val_accuracy: 0.8812 - val_loss: 0.3172\n",
            "Epoch 8/30\n",
            "\u001b[1m937/938\u001b[0m \u001b[32m━━━━━━━━━━━━━━━━━━━\u001b[0m\u001b[37m━\u001b[0m \u001b[1m0s\u001b[0m 82ms/step - accuracy: 0.8772 - loss: 0.3387\n",
            "Epoch 8: val_loss improved from 0.31722 to 0.31108, saving model to best_deeper_cnn_model_weights.weights.h5\n",
            "\u001b[1m938/938\u001b[0m \u001b[32m━━━━━━━━━━━━━━━━━━━━\u001b[0m\u001b[37m\u001b[0m \u001b[1m82s\u001b[0m 85ms/step - accuracy: 0.8772 - loss: 0.3387 - val_accuracy: 0.8838 - val_loss: 0.3111\n",
            "Epoch 9/30\n",
            "\u001b[1m938/938\u001b[0m \u001b[32m━━━━━━━━━━━━━━━━━━━━\u001b[0m\u001b[37m\u001b[0m \u001b[1m0s\u001b[0m 83ms/step - accuracy: 0.8785 - loss: 0.3338\n",
            "Epoch 9: val_loss did not improve from 0.31108\n",
            "\u001b[1m938/938\u001b[0m \u001b[32m━━━━━━━━━━━━━━━━━━━━\u001b[0m\u001b[37m\u001b[0m \u001b[1m83s\u001b[0m 88ms/step - accuracy: 0.8785 - loss: 0.3338 - val_accuracy: 0.8814 - val_loss: 0.3194\n",
            "Epoch 10/30\n",
            "\u001b[1m937/938\u001b[0m \u001b[32m━━━━━━━━━━━━━━━━━━━\u001b[0m\u001b[37m━\u001b[0m \u001b[1m0s\u001b[0m 82ms/step - accuracy: 0.8836 - loss: 0.3212\n",
            "Epoch 10: val_loss improved from 0.31108 to 0.28932, saving model to best_deeper_cnn_model_weights.weights.h5\n",
            "\u001b[1m938/938\u001b[0m \u001b[32m━━━━━━━━━━━━━━━━━━━━\u001b[0m\u001b[37m\u001b[0m \u001b[1m80s\u001b[0m 85ms/step - accuracy: 0.8836 - loss: 0.3212 - val_accuracy: 0.8923 - val_loss: 0.2893\n",
            "Epoch 11/30\n",
            "\u001b[1m937/938\u001b[0m \u001b[32m━━━━━━━━━━━━━━━━━━━\u001b[0m\u001b[37m━\u001b[0m \u001b[1m0s\u001b[0m 82ms/step - accuracy: 0.8869 - loss: 0.3116\n",
            "Epoch 11: val_loss did not improve from 0.28932\n",
            "\u001b[1m938/938\u001b[0m \u001b[32m━━━━━━━━━━━━━━━━━━━━\u001b[0m\u001b[37m\u001b[0m \u001b[1m79s\u001b[0m 85ms/step - accuracy: 0.8869 - loss: 0.3116 - val_accuracy: 0.8773 - val_loss: 0.3324\n",
            "Epoch 12/30\n",
            "\u001b[1m937/938\u001b[0m \u001b[32m━━━━━━━━━━━━━━━━━━━\u001b[0m\u001b[37m━\u001b[0m \u001b[1m0s\u001b[0m 82ms/step - accuracy: 0.8862 - loss: 0.3087\n",
            "Epoch 12: val_loss did not improve from 0.28932\n",
            "\u001b[1m938/938\u001b[0m \u001b[32m━━━━━━━━━━━━━━━━━━━━\u001b[0m\u001b[37m\u001b[0m \u001b[1m82s\u001b[0m 85ms/step - accuracy: 0.8862 - loss: 0.3087 - val_accuracy: 0.8913 - val_loss: 0.3004\n",
            "Epoch 13/30\n",
            "\u001b[1m937/938\u001b[0m \u001b[32m━━━━━━━━━━━━━━━━━━━\u001b[0m\u001b[37m━\u001b[0m \u001b[1m0s\u001b[0m 82ms/step - accuracy: 0.8864 - loss: 0.3087\n",
            "Epoch 13: val_loss did not improve from 0.28932\n",
            "\u001b[1m938/938\u001b[0m \u001b[32m━━━━━━━━━━━━━━━━━━━━\u001b[0m\u001b[37m\u001b[0m \u001b[1m82s\u001b[0m 85ms/step - accuracy: 0.8864 - loss: 0.3087 - val_accuracy: 0.8890 - val_loss: 0.3105\n",
            "Epoch 14/30\n",
            "\u001b[1m937/938\u001b[0m \u001b[32m━━━━━━━━━━━━━━━━━━━\u001b[0m\u001b[37m━\u001b[0m \u001b[1m0s\u001b[0m 83ms/step - accuracy: 0.8904 - loss: 0.3007\n",
            "Epoch 14: val_loss did not improve from 0.28932\n",
            "\u001b[1m938/938\u001b[0m \u001b[32m━━━━━━━━━━━━━━━━━━━━\u001b[0m\u001b[37m\u001b[0m \u001b[1m81s\u001b[0m 87ms/step - accuracy: 0.8904 - loss: 0.3007 - val_accuracy: 0.8912 - val_loss: 0.2993\n",
            "Epoch 15/30\n",
            "\u001b[1m937/938\u001b[0m \u001b[32m━━━━━━━━━━━━━━━━━━━\u001b[0m\u001b[37m━\u001b[0m \u001b[1m0s\u001b[0m 82ms/step - accuracy: 0.8911 - loss: 0.2941\n",
            "Epoch 15: val_loss improved from 0.28932 to 0.28286, saving model to best_deeper_cnn_model_weights.weights.h5\n",
            "\u001b[1m938/938\u001b[0m \u001b[32m━━━━━━━━━━━━━━━━━━━━\u001b[0m\u001b[37m\u001b[0m \u001b[1m80s\u001b[0m 85ms/step - accuracy: 0.8911 - loss: 0.2941 - val_accuracy: 0.8944 - val_loss: 0.2829\n",
            "Epoch 16/30\n",
            "\u001b[1m937/938\u001b[0m \u001b[32m━━━━━━━━━━━━━━━━━━━\u001b[0m\u001b[37m━\u001b[0m \u001b[1m0s\u001b[0m 82ms/step - accuracy: 0.8955 - loss: 0.2874\n",
            "Epoch 16: val_loss did not improve from 0.28286\n",
            "\u001b[1m938/938\u001b[0m \u001b[32m━━━━━━━━━━━━━━━━━━━━\u001b[0m\u001b[37m\u001b[0m \u001b[1m80s\u001b[0m 85ms/step - accuracy: 0.8955 - loss: 0.2874 - val_accuracy: 0.8915 - val_loss: 0.2886\n",
            "Epoch 17/30\n",
            "\u001b[1m937/938\u001b[0m \u001b[32m━━━━━━━━━━━━━━━━━━━\u001b[0m\u001b[37m━\u001b[0m \u001b[1m0s\u001b[0m 82ms/step - accuracy: 0.8964 - loss: 0.2855\n",
            "Epoch 17: val_loss did not improve from 0.28286\n",
            "\u001b[1m938/938\u001b[0m \u001b[32m━━━━━━━━━━━━━━━━━━━━\u001b[0m\u001b[37m\u001b[0m \u001b[1m80s\u001b[0m 85ms/step - accuracy: 0.8964 - loss: 0.2855 - val_accuracy: 0.8940 - val_loss: 0.2859\n",
            "Epoch 18/30\n",
            "\u001b[1m938/938\u001b[0m \u001b[32m━━━━━━━━━━━━━━━━━━━━\u001b[0m\u001b[37m\u001b[0m \u001b[1m0s\u001b[0m 82ms/step - accuracy: 0.8982 - loss: 0.2808\n",
            "Epoch 18: val_loss did not improve from 0.28286\n",
            "\u001b[1m938/938\u001b[0m \u001b[32m━━━━━━━━━━━━━━━━━━━━\u001b[0m\u001b[37m\u001b[0m \u001b[1m80s\u001b[0m 85ms/step - accuracy: 0.8982 - loss: 0.2808 - val_accuracy: 0.8771 - val_loss: 0.3278\n",
            "Epoch 19/30\n",
            "\u001b[1m937/938\u001b[0m \u001b[32m━━━━━━━━━━━━━━━━━━━\u001b[0m\u001b[37m━\u001b[0m \u001b[1m0s\u001b[0m 82ms/step - accuracy: 0.8989 - loss: 0.2792\n",
            "Epoch 19: val_loss improved from 0.28286 to 0.27868, saving model to best_deeper_cnn_model_weights.weights.h5\n",
            "\u001b[1m938/938\u001b[0m \u001b[32m━━━━━━━━━━━━━━━━━━━━\u001b[0m\u001b[37m\u001b[0m \u001b[1m79s\u001b[0m 85ms/step - accuracy: 0.8989 - loss: 0.2792 - val_accuracy: 0.8993 - val_loss: 0.2787\n",
            "Epoch 20/30\n",
            "\u001b[1m937/938\u001b[0m \u001b[32m━━━━━━━━━━━━━━━━━━━\u001b[0m\u001b[37m━\u001b[0m \u001b[1m0s\u001b[0m 82ms/step - accuracy: 0.9008 - loss: 0.2729\n",
            "Epoch 20: val_loss improved from 0.27868 to 0.27514, saving model to best_deeper_cnn_model_weights.weights.h5\n",
            "\u001b[1m938/938\u001b[0m \u001b[32m━━━━━━━━━━━━━━━━━━━━\u001b[0m\u001b[37m\u001b[0m \u001b[1m80s\u001b[0m 85ms/step - accuracy: 0.9008 - loss: 0.2729 - val_accuracy: 0.8983 - val_loss: 0.2751\n",
            "Epoch 21/30\n",
            "\u001b[1m937/938\u001b[0m \u001b[32m━━━━━━━━━━━━━━━━━━━\u001b[0m\u001b[37m━\u001b[0m \u001b[1m0s\u001b[0m 82ms/step - accuracy: 0.8986 - loss: 0.2775\n",
            "Epoch 21: val_loss did not improve from 0.27514\n",
            "\u001b[1m938/938\u001b[0m \u001b[32m━━━━━━━━━━━━━━━━━━━━\u001b[0m\u001b[37m\u001b[0m \u001b[1m81s\u001b[0m 86ms/step - accuracy: 0.8986 - loss: 0.2775 - val_accuracy: 0.8983 - val_loss: 0.2787\n",
            "Epoch 22/30\n",
            "\u001b[1m937/938\u001b[0m \u001b[32m━━━━━━━━━━━━━━━━━━━\u001b[0m\u001b[37m━\u001b[0m \u001b[1m0s\u001b[0m 82ms/step - accuracy: 0.9027 - loss: 0.2691\n",
            "Epoch 22: val_loss improved from 0.27514 to 0.27051, saving model to best_deeper_cnn_model_weights.weights.h5\n",
            "\u001b[1m938/938\u001b[0m \u001b[32m━━━━━━━━━━━━━━━━━━━━\u001b[0m\u001b[37m\u001b[0m \u001b[1m80s\u001b[0m 85ms/step - accuracy: 0.9027 - loss: 0.2691 - val_accuracy: 0.9014 - val_loss: 0.2705\n",
            "Epoch 23/30\n",
            "\u001b[1m937/938\u001b[0m \u001b[32m━━━━━━━━━━━━━━━━━━━\u001b[0m\u001b[37m━\u001b[0m \u001b[1m0s\u001b[0m 82ms/step - accuracy: 0.9005 - loss: 0.2730\n",
            "Epoch 23: val_loss improved from 0.27051 to 0.26673, saving model to best_deeper_cnn_model_weights.weights.h5\n",
            "\u001b[1m938/938\u001b[0m \u001b[32m━━━━━━━━━━━━━━━━━━━━\u001b[0m\u001b[37m\u001b[0m \u001b[1m80s\u001b[0m 85ms/step - accuracy: 0.9005 - loss: 0.2730 - val_accuracy: 0.9033 - val_loss: 0.2667\n",
            "Epoch 24/30\n",
            "\u001b[1m937/938\u001b[0m \u001b[32m━━━━━━━━━━━━━━━━━━━\u001b[0m\u001b[37m━\u001b[0m \u001b[1m0s\u001b[0m 83ms/step - accuracy: 0.9019 - loss: 0.2674\n",
            "Epoch 24: val_loss did not improve from 0.26673\n",
            "\u001b[1m938/938\u001b[0m \u001b[32m━━━━━━━━━━━━━━━━━━━━\u001b[0m\u001b[37m\u001b[0m \u001b[1m80s\u001b[0m 86ms/step - accuracy: 0.9019 - loss: 0.2674 - val_accuracy: 0.8889 - val_loss: 0.2928\n",
            "Epoch 25/30\n",
            "\u001b[1m938/938\u001b[0m \u001b[32m━━━━━━━━━━━━━━━━━━━━\u001b[0m\u001b[37m\u001b[0m \u001b[1m0s\u001b[0m 83ms/step - accuracy: 0.9044 - loss: 0.2638\n",
            "Epoch 25: val_loss did not improve from 0.26673\n",
            "\u001b[1m938/938\u001b[0m \u001b[32m━━━━━━━━━━━━━━━━━━━━\u001b[0m\u001b[37m\u001b[0m \u001b[1m80s\u001b[0m 85ms/step - accuracy: 0.9044 - loss: 0.2638 - val_accuracy: 0.8726 - val_loss: 0.3459\n",
            "Epoch 26/30\n",
            "\u001b[1m937/938\u001b[0m \u001b[32m━━━━━━━━━━━━━━━━━━━\u001b[0m\u001b[37m━\u001b[0m \u001b[1m0s\u001b[0m 83ms/step - accuracy: 0.9057 - loss: 0.2616\n",
            "Epoch 26: val_loss improved from 0.26673 to 0.26387, saving model to best_deeper_cnn_model_weights.weights.h5\n",
            "\u001b[1m938/938\u001b[0m \u001b[32m━━━━━━━━━━━━━━━━━━━━\u001b[0m\u001b[37m\u001b[0m \u001b[1m82s\u001b[0m 85ms/step - accuracy: 0.9057 - loss: 0.2616 - val_accuracy: 0.9043 - val_loss: 0.2639\n",
            "Epoch 27/30\n",
            "\u001b[1m937/938\u001b[0m \u001b[32m━━━━━━━━━━━━━━━━━━━\u001b[0m\u001b[37m━\u001b[0m \u001b[1m0s\u001b[0m 83ms/step - accuracy: 0.9037 - loss: 0.2626\n",
            "Epoch 27: val_loss did not improve from 0.26387\n",
            "\u001b[1m938/938\u001b[0m \u001b[32m━━━━━━━━━━━━━━━━━━━━\u001b[0m\u001b[37m\u001b[0m \u001b[1m81s\u001b[0m 86ms/step - accuracy: 0.9037 - loss: 0.2626 - val_accuracy: 0.9008 - val_loss: 0.2676\n",
            "Epoch 28/30\n",
            "\u001b[1m937/938\u001b[0m \u001b[32m━━━━━━━━━━━━━━━━━━━\u001b[0m\u001b[37m━\u001b[0m \u001b[1m0s\u001b[0m 83ms/step - accuracy: 0.9045 - loss: 0.2615\n",
            "Epoch 28: val_loss did not improve from 0.26387\n",
            "\u001b[1m938/938\u001b[0m \u001b[32m━━━━━━━━━━━━━━━━━━━━\u001b[0m\u001b[37m\u001b[0m \u001b[1m81s\u001b[0m 86ms/step - accuracy: 0.9045 - loss: 0.2615 - val_accuracy: 0.8807 - val_loss: 0.3149\n",
            "Epoch 29/30\n",
            "\u001b[1m937/938\u001b[0m \u001b[32m━━━━━━━━━━━━━━━━━━━\u001b[0m\u001b[37m━\u001b[0m \u001b[1m0s\u001b[0m 83ms/step - accuracy: 0.9053 - loss: 0.2589\n",
            "Epoch 29: val_loss improved from 0.26387 to 0.26230, saving model to best_deeper_cnn_model_weights.weights.h5\n",
            "\u001b[1m938/938\u001b[0m \u001b[32m━━━━━━━━━━━━━━━━━━━━\u001b[0m\u001b[37m\u001b[0m \u001b[1m80s\u001b[0m 86ms/step - accuracy: 0.9053 - loss: 0.2589 - val_accuracy: 0.9049 - val_loss: 0.2623\n",
            "Epoch 30/30\n",
            "\u001b[1m937/938\u001b[0m \u001b[32m━━━━━━━━━━━━━━━━━━━\u001b[0m\u001b[37m━\u001b[0m \u001b[1m0s\u001b[0m 83ms/step - accuracy: 0.9031 - loss: 0.2642\n",
            "Epoch 30: val_loss did not improve from 0.26230\n",
            "\u001b[1m938/938\u001b[0m \u001b[32m━━━━━━━━━━━━━━━━━━━━\u001b[0m\u001b[37m\u001b[0m \u001b[1m81s\u001b[0m 86ms/step - accuracy: 0.9031 - loss: 0.2642 - val_accuracy: 0.8857 - val_loss: 0.3145\n",
            "Deeper CNN model training finished.\n"
          ]
        }
      ],
      "source": [
        "model_checkpoint_deeper_cnn = keras.callbacks.ModelCheckpoint(\n",
        "    filepath='best_deeper_cnn_model_weights.weights.h5',\n",
        "    monitor='val_loss',\n",
        "    save_best_only=True,\n",
        "    save_weights_only=True,\n",
        "    mode='min',\n",
        "    verbose=1\n",
        ")\n",
        "\n",
        "print(\"Training Deeper CNN model...\")\n",
        "deeper_cnn_history = deeper_cnn_model.fit(\n",
        "    train_images,\n",
        "    train_labels_one_hot,\n",
        "    epochs=30,\n",
        "    batch_size=64,\n",
        "    validation_data=(test_images, test_labels_one_hot),\n",
        "    callbacks=[early_stopping, model_checkpoint_deeper_cnn]\n",
        ")\n",
        "print(\"Deeper CNN model training finished.\")"
      ]
    },
    {
      "cell_type": "markdown",
      "source": [
        "4) Model Evaluation"
      ],
      "metadata": {
        "id": "uQ2Z4arfq0X1"
      }
    },
    {
      "cell_type": "markdown",
      "source": [
        "#### 4.1) Model Evaluation Code Explanation\n",
        "\n",
        "Import utilities → Load weights (ANN, Basic CNN, Deeper CNN) → Evaluate on test set → Get loss & accuracy → Print results"
      ],
      "metadata": {
        "id": "aA1gBfIWqy-s"
      }
    },
    {
      "cell_type": "code",
      "source": [
        "c"
      ],
      "metadata": {
        "colab": {
          "base_uri": "https://localhost:8080/",
          "height": 559
        },
        "id": "plnlAm1crMI-",
        "outputId": "a8e215ae-73c3-41ed-8a7d-ffcaf9ee886c"
      },
      "execution_count": 13,
      "outputs": [
        {
          "output_type": "stream",
          "name": "stderr",
          "text": [
            "/tmp/ipython-input-282429710.py:44: UserWarning: Glyph 10024 (\\N{SPARKLES}) missing from font(s) DejaVu Sans.\n",
            "  plt.tight_layout()\n",
            "/usr/local/lib/python3.12/dist-packages/IPython/core/pylabtools.py:151: UserWarning: Glyph 10024 (\\N{SPARKLES}) missing from font(s) DejaVu Sans.\n",
            "  fig.canvas.print_figure(bytes_io, **kw)\n"
          ]
        },
        {
          "output_type": "display_data",
          "data": {
            "text/plain": [
              "<Figure size 1200x500 with 2 Axes>"
            ],
            "image/png": "[encoded data removed]"
          },
          "metadata": {}
        }
      ]
    },
    {
      "cell_type": "markdown",
      "source": [
        "#### 4.2) Model Evaluation (Confusion Matrix & Report)\n",
        "\n",
        "- Predict test images (ANN, Basic CNN, Deeper CNN)  \n",
        "- Convert one-hot labels to integers  \n",
        "- Get predicted labels with `argmax`  \n",
        "- Print confusion matrix & classification report for each model"
      ],
      "metadata": {
        "id": "ZNcB8AyksKDB"
      }
    },
    {
      "cell_type": "code",
      "source": [
        "import numpy as np\n",
        "import matplotlib.pyplot as plt\n",
        "import seaborn as sns\n",
        "from sklearn.metrics import confusion_matrix\n",
        "\n",
        "# Predictions\n",
        "ann_predictions = ann_model.predict(test_images)\n",
        "basic_cnn_predictions = basic_cnn_model.predict(test_images)\n",
        "deeper_cnn_predictions = deeper_cnn_model.predict(test_images)\n",
        "\n",
        "# Convert labels\n",
        "test_labels_int = np.argmax(test_labels_one_hot, axis=1)\n",
        "\n",
        "ann_predicted_labels = np.argmax(ann_predictions, axis=1)\n",
        "basic_cnn_predicted_labels = np.argmax(basic_cnn_predictions, axis=1)\n",
        "deeper_cnn_predicted_labels = np.argmax(deeper_cnn_predictions, axis=1)\n",
        "\n",
        "# Confusion matrices\n",
        "cm_ann = confusion_matrix(test_labels_int, ann_predicted_labels)\n",
        "cm_basic = confusion_matrix(test_labels_int, basic_cnn_predicted_labels)\n",
        "cm_deeper = confusion_matrix(test_labels_int, deeper_cnn_predicted_labels)\n",
        "\n",
        "# Plot side by side\n",
        "fig, axes = plt.subplots(1, 3, figsize=(18, 5))\n",
        "\n",
        "sns.heatmap(cm_ann, annot=True, fmt=\"d\", cmap=\"Blues\", ax=axes[0])\n",
        "axes[0].set_title(\"ANN Model\")\n",
        "axes[0].set_xlabel(\"Predicted\")\n",
        "axes[0].set_ylabel(\"Actual\")\n",
        "\n",
        "sns.heatmap(cm_basic, annot=True, fmt=\"d\", cmap=\"Blues\", ax=axes[1])\n",
        "axes[1].set_title(\"Basic CNN Model\")\n",
        "axes[1].set_xlabel(\"Predicted\")\n",
        "axes[1].set_ylabel(\"Actual\")\n",
        "\n",
        "sns.heatmap(cm_deeper, annot=True, fmt=\"d\", cmap=\"Blues\", ax=axes[2])\n",
        "axes[2].set_title(\"Deeper CNN Model\")\n",
        "axes[2].set_xlabel(\"Predicted\")\n",
        "axes[2].set_ylabel(\"Actual\")\n",
        "\n",
        "plt.tight_layout()\n",
        "plt.show()"
      ],
      "metadata": {
        "id": "9IEA3hH3sMFs"
      },
      "execution_count": null,
      "outputs": []
    },
    {
      "cell_type": "markdown",
      "source": [
        "#### 4.3) Model Comparison\n",
        "\n",
        "- Created a dataframe to store **test loss** and **test accuracy** for ANN, Basic CNN, and Deeper CNN.  \n",
        "- Plotted training history for each model (accuracy & loss vs. epochs).  \n",
        "- Helps compare how models learn and generalize over time.  "
      ],
      "metadata": {
        "id": "N907l3CrsiCd"
      }
    },
    {
      "cell_type": "code",
      "source": [
        "import plotly.graph_objects as go\n",
        "from plotly.subplots import make_subplots\n",
        "\n",
        "models = {\n",
        "    \"ANN\": (\"cyan\", ann_history),\n",
        "    \"Basic CNN\": (\"magenta\", basic_cnn_history),\n",
        "    \"Deeper CNN\": (\"yellow\", deeper_cnn_history)\n",
        "}\n",
        "\n",
        "performance_data = {\n",
        "    'Model': ['ANN', 'Basic CNN', 'Deeper CNN'],\n",
        "    'Test Loss': [loss_ann, loss_basic_cnn, loss_deeper_cnn],\n",
        "    'Test Accuracy': [accuracy_ann, accuracy_basic_cnn, accuracy_deeper_cnn]\n",
        "}\n",
        "\n",
        "performance_df = pd.DataFrame(performance_data)\n",
        "\n",
        "fig = make_subplots(rows=1, cols=2, subplot_titles=('Accuracy', 'Loss'))\n",
        "\n",
        "for name, (color, history) in models.items():\n",
        "    # Accuracy\n",
        "    fig.add_trace(go.Scatter(y=history.history['accuracy'], mode='lines',\n",
        "                             name=name, line=dict(color=color, dash='solid')), row=1, col=1)\n",
        "    fig.add_trace(go.Scatter(y=history.history['val_accuracy'], mode='lines',\n",
        "                             name=name, line=dict(color=color, dash='dot'), showlegend=False), row=1, col=1)\n",
        "\n",
        "    # Loss\n",
        "    fig.add_trace(go.Scatter(y=history.history['loss'], mode='lines',\n",
        "                             name=name, line=dict(color=color, dash='solid')), row=1, col=2)\n",
        "    fig.add_trace(go.Scatter(y=history.history['val_loss'], mode='lines',\n",
        "                             name=name, line=dict(color=color, dash='dot'), showlegend=False), row=1, col=2)\n",
        "\n",
        "fig.update_layout(\n",
        "    title_text=\"Model Comparison: Accuracy & Loss (Train=Solid, Val=Dot)\",\n",
        "    height=500,\n",
        "    width=1200,\n",
        "    template=\"plotly_dark\"\n",
        ")\n",
        "\n",
        "fig.show()"
      ],
      "metadata": {
        "id": "nZ2Ox_0isgY3"
      },
      "execution_count": null,
      "outputs": []
    },
    {
      "cell_type": "markdown",
      "source": [
        "4.4) Predictions\n",
        "This code:\n",
        "\n",
        "Uses the trained Basic CNN model to predict on test images.\n",
        "\n",
        "Identifies correctly and incorrectly classified samples.\n",
        "\n",
        "Randomly selects 100 correct and 100 incorrect predictions.\n",
        "\n",
        "Displays them in a 20×10 grid:\n",
        "\n",
        "✅ Correct predictions → Green title (only predicted label).\n",
        "\n",
        "❌ Incorrect predictions → Red title (Predicted vs True label)."
      ],
      "metadata": {
        "id": "P3S79Vkosx70"
      }
    },
    {
      "cell_type": "code",
      "source": [
        "basic_cnn_predictions = basic_cnn_model.predict(test_images)\n",
        "basic_cnn_predicted_labels = np.argmax(basic_cnn_predictions, axis=1)\n",
        "\n",
        "# Find correctly and incorrectly classified images\n",
        "correctly_classified_indices = np.where(basic_cnn_predicted_labels == test_labels)[0]\n",
        "incorrectly_classified_indices = np.where(basic_cnn_predicted_labels != test_labels)[0]\n",
        "\n",
        "# Define class names for Fashion-MNIST\n",
        "class_names = ['T-shirt/top', 'Trouser', 'Pullover', 'Dress', 'Coat',\n",
        "               'Sandal', 'Shirt', 'Sneaker', 'Bag', 'Ankle boot']\n",
        "\n",
        "# Select a mix of correctly and incorrectly classified images\n",
        "num_correct_to_show = 100\n",
        "num_incorrect_to_show = 100\n",
        "\n",
        "# Ensure we don't try to show more images than available\n",
        "num_correct_to_show = min(num_correct_to_show, len(correctly_classified_indices))\n",
        "num_incorrect_to_show = min(num_incorrect_to_show, len(incorrectly_classified_indices))\n",
        "\n",
        "selected_correct_indices = np.random.choice(correctly_classified_indices, num_correct_to_show, replace=False)\n",
        "selected_incorrect_indices = np.random.choice(incorrectly_classified_indices, num_incorrect_to_show, replace=False)\n",
        "\n",
        "# Combine and shuffle the indices\n",
        "all_indices = np.concatenate((selected_correct_indices, selected_incorrect_indices))\n",
        "np.random.shuffle(all_indices)\n",
        "\n",
        "# Display images in a 20x10 grid\n",
        "num_cols = 20\n",
        "num_rows = 10\n",
        "num_images_to_show = num_correct_to_show + num_incorrect_to_show\n",
        "\n",
        "fig, axes = plt.subplots(num_rows, num_cols, figsize=(2 * num_cols, 2 * num_rows))\n",
        "fig.suptitle(\"Basic CNN Predictions (Mix of Correct and Incorrect)\", fontsize=18, y=1.02)\n",
        "\n",
        "for i, idx in enumerate(all_indices[:num_images_to_show]):\n",
        "    row = i // num_cols\n",
        "    col = i % num_cols\n",
        "    axes[row, col].imshow(test_images[idx].reshape(28, 28), cmap='gray')\n",
        "\n",
        "    pred = class_names[basic_cnn_predicted_labels[idx]]\n",
        "    true = class_names[test_labels[idx]]\n",
        "\n",
        "    if basic_cnn_predicted_labels[idx] == test_labels[idx]:\n",
        "        color = \"green\"\n",
        "        title = f\"{pred}\"\n",
        "    else:\n",
        "        color = \"red\"\n",
        "        title = f\"P:{pred}\\nT:{true}\"\n",
        "\n",
        "    axes[row, col].set_title(title, fontsize=8, color=color)\n",
        "    axes[row, col].axis(\"off\")\n",
        "\n",
        "plt.tight_layout()\n",
        "plt.show()"
      ],
      "metadata": {
        "colab": {
          "base_uri": "https://localhost:8080/"
        },
        "id": "0akqLtu1tmT9",
        "outputId": "002a2389-7589-4788-eb58-5e622c52dcd9"
      },
      "execution_count": null,
      "outputs": [
        {
          "output_type": "stream",
          "name": "stdout",
          "text": [
            "\u001b[1m313/313\u001b[0m \u001b[32m━━━━━━━━━━━━━━━━━━━━\u001b[0m\u001b[37m\u001b[0m \u001b[1m3s\u001b[0m 8ms/step\n"
          ]
        }
      ]
    },
    {
      "cell_type": "markdown",
      "source": [
        "## Project Summary and Conclusion\n",
        "\n",
        "This project successfully implemented and compared three different deep learning models (ANN, Basic CNN, and Deeper CNN) for classifying images from the Fashion-MNIST dataset.\n",
        "\n",
        "**Summary of Work:**\n",
        "\n",
        "1.  **Data Preparation:** The Fashion-MNIST dataset was loaded, normalized, reshaped, and one-hot encoded, preparing it for use with the different model architectures.\n",
        "2.  **Model Development:** Three models of increasing complexity were defined: a basic Artificial Neural Network (ANN), a basic Convolutional Neural Network (CNN), and a deeper CNN with additional layers, batch normalization, and dropout.\n",
        "3.  **Model Training:** Each model was trained using the preprocessed training data with Early Stopping and Model Checkpointing to prevent overfitting and save the best performing weights based on validation loss.\n",
        "4.  **Model Evaluation:** The trained models were evaluated on the test set. Performance metrics (loss and accuracy) were calculated, and the training history was visualized. Confusion matrices were generated to analyze class-specific performance.\n",
        "5.  **Prediction Analysis:** Predictions were made using the Basic CNN model, and examples of correctly and incorrectly classified images were visualized to gain insights into the model's strengths and weaknesses.\n",
        "\n",
        "**Key Findings and Conclusion:**\n",
        "\n",
        "Based on the evaluation results:\n",
        "\n",
        "*   The **Basic CNN model** generally achieved the best balance of performance (highest accuracy, lowest loss) on the test set compared to the ANN and Deeper CNN models.\n",
        "*   The **ANN model** performed reasonably well but was outperformed by both CNN architectures, highlighting the advantage of convolutional layers for image classification tasks.\n",
        "*   The **Deeper CNN model**, despite its increased complexity, did not consistently outperform the Basic CNN model on this dataset. This could be due to various factors such as the dataset size, the architecture choices, or the regularization applied. For this particular task and dataset, the increased complexity of the deeper model might not have been necessary or could have led to some overfitting despite the regularization techniques.\n",
        "\n",
        "In conclusion, the Basic CNN model demonstrated superior performance for this Fashion-MNIST classification task, suggesting that a moderate level of complexity with convolutional layers is effective for this dataset. Further tuning of hyperparameters or architectural variations might potentially improve performance across all models, but the current results clearly show the benefits of CNNs over ANNs for image data."
      ],
      "metadata": {
        "id": "Ju8Eucs4uCTc"
      }
    },
    {
      "cell_type": "markdown",
      "source": [
        "## Assignment: CIFAR-100 Image Classification\n",
        "\n",
        "Your task is to apply the concepts and techniques learned in this Fashion-MNIST project to the CIFAR-100 dataset. CIFAR-100 is a dataset consisting of 60,000 32x32 color images in 100 classes, with 600 images per class. There are 50,000 training images and 10,000 test images.\n",
        "\n",
        "Follow these steps:\n",
        "\n",
        "1.  **Dataset Setup:**\n",
        "    *   Load the CIFAR-100 dataset.\n",
        "    *   Preprocess the data (normalize pixel values, one-hot encode labels). Remember that CIFAR-100 images are 32x32 color images, so the input shape will be different from Fashion-MNIST.\n",
        "    *   Verify the shapes of the processed data.\n",
        "\n",
        "2.  **Model Building:**\n",
        "    *   Adapt the ANN and CNN model architectures for the CIFAR-100 dataset. Consider that CIFAR-100 images are color (3 channels) and have a different resolution (32x32). You might need to adjust the input layer and potentially the number of filters or layers in the CNNs for better performance on a more complex dataset.\n",
        "\n",
        "3.  **Model Training:**\n",
        "    *   Train the models using the preprocessed CIFAR-100 training data. Use Early Stopping and Model Checkpointing as implemented before.\n",
        "\n",
        "4.  **Model Evaluation:**\n",
        "    *   Evaluate the trained models on the CIFAR-100 test set. Compare their performance using loss and accuracy.\n",
        "    *   Visualize training history and confusion matrices.\n",
        "\n",
        "5.  **Prediction Analysis:**\n",
        "    *   Choose the best performing model and analyze its predictions on the CIFAR-100 test set.\n",
        "\n",
        "**Goal:** To understand how model complexity and architecture choices impact performance on a more challenging image classification dataset like CIFAR-100."
      ],
      "metadata": {
        "id": "-6bzwOBEuXaE"
      }
    },
    {
      "cell_type": "markdown",
      "source": [
        "1.1) load the necessity library\n",
        "\n",
        "\n",
        "This section imports the essential libraries:  \n",
        "- **NumPy** for numerical operations  \n",
        "- **TensorFlow / Keras** for building and training deep learning models  \n",
        "- **Matplotlib** for visualizations  "
      ],
      "metadata": {
        "id": "dlLpAy5pvJlb"
      }
    },
    {
      "cell_type": "code",
      "source": [
        "import numpy as np\n",
        "import pandas as pd\n",
        "import tensorflow as tf\n",
        "from tensorflow import keras\n",
        "import matplotlib.pyplot as plt\n",
        "\n",
        "import plotly.graph_objects as go\n",
        "from plotly.subplots import make_subplots"
      ],
      "metadata": {
        "id": "urxI0bSvvPR9"
      },
      "execution_count": null,
      "outputs": []
    },
    {
      "cell_type": "markdown",
      "source": [
        "#### 1.2) Load Dataset\n",
        "\n",
        "Load the **Fashion-MNIST** dataset from Keras, splitting it into:  \n",
        "- `train_images`, `train_labels` → training set  \n",
        "- `test_images`, `test_labels` → test set  \n"
      ],
      "metadata": {
        "id": "aJvZEKdAvh4A"
      }
    },
    {
      "cell_type": "code",
      "source": [
        "import keras\n",
        "\n",
        "(cifar100_train_images, cifar100_train_labels), (cifar100_test_images, cifar100_test_labels) = keras.datasets.cifar100.load_data()\n",
        "\n",
        "print(\"CIFAR-100 Training images shape:\", cifar100_train_images.shape)\n",
        "print(\"CIFAR-100 Testing images shape:\", cifar100_test_images.shape)\n",
        "print(\"CIFAR-100 Training labels shape:\", cifar100_train_labels.shape)\n",
        "print(\"CIFAR-100 Testing labels shape:\", cifar100_test_labels.shape)"
      ],
      "metadata": {
        "colab": {
          "base_uri": "https://localhost:8080/"
        },
        "id": "kBQFxDQqwiQP",
        "outputId": "8f67bc98-44af-4e60-dfd7-6bb6490208e9"
      },
      "execution_count": 29,
      "outputs": [
        {
          "output_type": "stream",
          "name": "stdout",
          "text": [
            "CIFAR-100 Training images shape: (50000, 32, 32, 3)\n",
            "CIFAR-100 Testing images shape: (10000, 32, 32, 3)\n",
            "CIFAR-100 Training labels shape: (50000, 1)\n",
            "CIFAR-100 Testing labels shape: (10000, 1)\n"
          ]
        }
      ]
    },
    {
      "cell_type": "markdown",
      "source": [
        "#### 1.3) Normalize Data\n",
        "\n",
        "Scale pixel values from **0–255** to the range **0–1** for faster and more stable training.  \n",
        "\n",
        "**Example:**  \n",
        "- Before: a pixel value could be `200`  \n",
        "- After: `200 / 255 ≈ 0.78`  \n"
      ],
      "metadata": {
        "id": "b3AdA9UqHtu9"
      }
    },
    {
      "cell_type": "code",
      "source": [
        "cifar100_train_images=cifar100_train_images/255.0\n",
        "cifar100_test_images=cifar100_test_images/255.0"
      ],
      "metadata": {
        "id": "0hN_pY_5Ju5i"
      },
      "execution_count": 33,
      "outputs": []
    },
    {
      "cell_type": "markdown",
      "source": [
        "#### 1.4) Reshape Data\n",
        "\n",
        "Reshape images to **28×28×1** by adding a channel dimension, making them compatible with CNN layers.  \n",
        "\n",
        "**Example:**  \n",
        "- Before: `(60000, 28, 28)` → 60,000 grayscale images without channel info  \n",
        "- After: `(60000, 28, 28, 1)` → channel dimension (`1`) added for CNN input  \n"
      ],
      "metadata": {
        "id": "tp3TqRSqJ2cp"
      }
    },
    {
      "cell_type": "code",
      "source": [
        "cifar_100_train_labels_one_hot = keras.utils.to_categorical(cifar100_train_labels, num_classes=100)\n",
        "cifar_100_test_labels_one_hot = keras.utils.to_categorical(cifar100_test_labels, num_classes=100)"
      ],
      "metadata": {
        "id": "Oi5dOIiPKUi2"
      },
      "execution_count": 52,
      "outputs": []
    },
    {
      "cell_type": "markdown",
      "source": [
        "#### 1.6) Verify Dataset Shapes\n",
        "\n",
        "Print the shapes of images and labels after preprocessing to confirm everything is in the expected format.  \n",
        "\n",
        "**Example output:**  \n",
        "- Training images shape: `(50000, 32, 32, 1)`  \n",
        "- Testing images shape: `(10000, 32, 32, 1)`  \n",
        "- Training labels shape: `(50000, 100)`  \n",
        "- Testing labels shape: `(10000, 100)`  \n"
      ],
      "metadata": {
        "id": "6ZaS8snyMC5G"
      }
    },
    {
      "cell_type": "code",
      "source": [
        "print(\"Training images shape:\",cifar100_train_images.shape)\n",
        "print(\"Testing images shape:\",cifar100_test_images.shape)\n",
        "print(\"Training labels shape:\",cifar_100_train_labels_one_hot.shape)\n",
        "print(\"Testing labels shape:\",cifar_100_test_labels_one_hot.shape)"
      ],
      "metadata": {
        "colab": {
          "base_uri": "https://localhost:8080/"
        },
        "id": "O7pKrPMvMK1P",
        "outputId": "72f4b908-95a7-49e7-b22b-a4885645f9e6"
      },
      "execution_count": 41,
      "outputs": [
        {
          "output_type": "stream",
          "name": "stdout",
          "text": [
            "Training images shape: (50000, 32, 32, 3)\n",
            "Testing images shape: (10000, 32, 32, 3)\n",
            "Training labels shape: (50000, 100)\n",
            "Testing labels shape: (10000, 100)\n"
          ]
        }
      ]
    },
    {
      "cell_type": "markdown",
      "source": [
        "2.model building\n",
        "- **Flatten (32×32→3072)** → 0 params  \n",
        "- **Dense (128, ReLU)** → 100,480 params  \n",
        "- **Dense (64, ReLU)** → 8,256 params  \n",
        "- **Dense (10, Softmax)** → 650 params  \n",
        "\n",
        "**Total params:** ~109K"
      ],
      "metadata": {
        "id": "uF-4Z6N5M10K"
      }
    },
    {
      "cell_type": "code",
      "source": [
        "ann_model=keras.Sequential([\n",
        "    keras.layers.Flatten(input_shape=(32,32,3)),\n",
        "    keras.layers.Dense(128,activation='relu'),\n",
        "    keras.layers.Dense(64,activation='relu'),\n",
        "    keras.layers.Dense(100,activation='softmax')\n",
        "])\n",
        "\n",
        "ann_model.compile(optimizer='adam',\n",
        "                  loss='categorical_crossentropy',\n",
        "                  metrics=['accuracy'])\n",
        "ann_model.summary()"
      ],
      "metadata": {
        "colab": {
          "base_uri": "https://localhost:8080/",
          "height": 346
        },
        "id": "Hmy7pehgNBvR",
        "outputId": "1433632e-3582-417f-a90c-67f20776ba0a"
      },
      "execution_count": 42,
      "outputs": [
        {
          "output_type": "stream",
          "name": "stderr",
          "text": [
            "/usr/local/lib/python3.12/dist-packages/keras/src/layers/reshaping/flatten.py:37: UserWarning:\n",
            "\n",
            "Do not pass an `input_shape`/`input_dim` argument to a layer. When using Sequential models, prefer using an `Input(shape)` object as the first layer in the model instead.\n",
            "\n"
          ]
        },
        {
          "output_type": "display_data",
          "data": {
            "text/plain": [
              "\u001b[1mModel: \"sequential_6\"\u001b[0m\n"
            ],
            "text/html": [
              "<pre style=\"white-space:pre;overflow-x:auto;line-height:normal;font-family:Menlo,'DejaVu Sans Mono',consolas,'Courier New',monospace\"><span style=\"font-weight: bold\">Model: \"sequential_6\"</span>\n",
              "</pre>\n"
            ]
          },
          "metadata": {}
        },
        {
          "output_type": "display_data",
          "data": {
            "text/plain": [
              "┏━━━━━━━━━━━━━━━━━━━━━━━━━━━━━━━━━┳━━━━━━━━━━━━━━━━━━━━━━━━┳━━━━━━━━━━━━━━━┓\n",
              "┃\u001b[1m \u001b[0m\u001b[1mLayer (type)                   \u001b[0m\u001b[1m \u001b[0m┃\u001b[1m \u001b[0m\u001b[1mOutput Shape          \u001b[0m\u001b[1m \u001b[0m┃\u001b[1m \u001b[0m\u001b[1m      Param #\u001b[0m\u001b[1m \u001b[0m┃\n",
              "┡━━━━━━━━━━━━━━━━━━━━━━━━━━━━━━━━━╇━━━━━━━━━━━━━━━━━━━━━━━━╇━━━━━━━━━━━━━━━┩\n",
              "│ flatten_6 (\u001b[38;5;33mFlatten\u001b[0m)             │ (\u001b[38;5;45mNone\u001b[0m, \u001b[38;5;34m3072\u001b[0m)           │             \u001b[38;5;34m0\u001b[0m │\n",
              "├─────────────────────────────────┼────────────────────────┼───────────────┤\n",
              "│ dense_14 (\u001b[38;5;33mDense\u001b[0m)                │ (\u001b[38;5;45mNone\u001b[0m, \u001b[38;5;34m128\u001b[0m)            │       \u001b[38;5;34m393,344\u001b[0m │\n",
              "├─────────────────────────────────┼────────────────────────┼───────────────┤\n",
              "│ dense_15 (\u001b[38;5;33mDense\u001b[0m)                │ (\u001b[38;5;45mNone\u001b[0m, \u001b[38;5;34m64\u001b[0m)             │         \u001b[38;5;34m8,256\u001b[0m │\n",
              "├─────────────────────────────────┼────────────────────────┼───────────────┤\n",
              "│ dense_16 (\u001b[38;5;33mDense\u001b[0m)                │ (\u001b[38;5;45mNone\u001b[0m, \u001b[38;5;34m100\u001b[0m)            │         \u001b[38;5;34m6,500\u001b[0m │\n",
              "└─────────────────────────────────┴────────────────────────┴───────────────┘\n"
            ],
            "text/html": [
              "<pre style=\"white-space:pre;overflow-x:auto;line-height:normal;font-family:Menlo,'DejaVu Sans Mono',consolas,'Courier New',monospace\">┏━━━━━━━━━━━━━━━━━━━━━━━━━━━━━━━━━┳━━━━━━━━━━━━━━━━━━━━━━━━┳━━━━━━━━━━━━━━━┓\n",
              "┃<span style=\"font-weight: bold\"> Layer (type)                    </span>┃<span style=\"font-weight: bold\"> Output Shape           </span>┃<span style=\"font-weight: bold\">       Param # </span>┃\n",
              "┡━━━━━━━━━━━━━━━━━━━━━━━━━━━━━━━━━╇━━━━━━━━━━━━━━━━━━━━━━━━╇━━━━━━━━━━━━━━━┩\n",
              "│ flatten_6 (<span style=\"color: #0087ff; text-decoration-color: #0087ff\">Flatten</span>)             │ (<span style=\"color: #00d7ff; text-decoration-color: #00d7ff\">None</span>, <span style=\"color: #00af00; text-decoration-color: #00af00\">3072</span>)           │             <span style=\"color: #00af00; text-decoration-color: #00af00\">0</span> │\n",
              "├─────────────────────────────────┼────────────────────────┼───────────────┤\n",
              "│ dense_14 (<span style=\"color: #0087ff; text-decoration-color: #0087ff\">Dense</span>)                │ (<span style=\"color: #00d7ff; text-decoration-color: #00d7ff\">None</span>, <span style=\"color: #00af00; text-decoration-color: #00af00\">128</span>)            │       <span style=\"color: #00af00; text-decoration-color: #00af00\">393,344</span> │\n",
              "├─────────────────────────────────┼────────────────────────┼───────────────┤\n",
              "│ dense_15 (<span style=\"color: #0087ff; text-decoration-color: #0087ff\">Dense</span>)                │ (<span style=\"color: #00d7ff; text-decoration-color: #00d7ff\">None</span>, <span style=\"color: #00af00; text-decoration-color: #00af00\">64</span>)             │         <span style=\"color: #00af00; text-decoration-color: #00af00\">8,256</span> │\n",
              "├─────────────────────────────────┼────────────────────────┼───────────────┤\n",
              "│ dense_16 (<span style=\"color: #0087ff; text-decoration-color: #0087ff\">Dense</span>)                │ (<span style=\"color: #00d7ff; text-decoration-color: #00d7ff\">None</span>, <span style=\"color: #00af00; text-decoration-color: #00af00\">100</span>)            │         <span style=\"color: #00af00; text-decoration-color: #00af00\">6,500</span> │\n",
              "└─────────────────────────────────┴────────────────────────┴───────────────┘\n",
              "</pre>\n"
            ]
          },
          "metadata": {}
        },
        {
          "output_type": "display_data",
          "data": {
            "text/plain": [
              "\u001b[1m Total params: \u001b[0m\u001b[38;5;34m408,100\u001b[0m (1.56 MB)\n"
            ],
            "text/html": [
              "<pre style=\"white-space:pre;overflow-x:auto;line-height:normal;font-family:Menlo,'DejaVu Sans Mono',consolas,'Courier New',monospace\"><span style=\"font-weight: bold\"> Total params: </span><span style=\"color: #00af00; text-decoration-color: #00af00\">408,100</span> (1.56 MB)\n",
              "</pre>\n"
            ]
          },
          "metadata": {}
        },
        {
          "output_type": "display_data",
          "data": {
            "text/plain": [
              "\u001b[1m Trainable params: \u001b[0m\u001b[38;5;34m408,100\u001b[0m (1.56 MB)\n"
            ],
            "text/html": [
              "<pre style=\"white-space:pre;overflow-x:auto;line-height:normal;font-family:Menlo,'DejaVu Sans Mono',consolas,'Courier New',monospace\"><span style=\"font-weight: bold\"> Trainable params: </span><span style=\"color: #00af00; text-decoration-color: #00af00\">408,100</span> (1.56 MB)\n",
              "</pre>\n"
            ]
          },
          "metadata": {}
        },
        {
          "output_type": "display_data",
          "data": {
            "text/plain": [
              "\u001b[1m Non-trainable params: \u001b[0m\u001b[38;5;34m0\u001b[0m (0.00 B)\n"
            ],
            "text/html": [
              "<pre style=\"white-space:pre;overflow-x:auto;line-height:normal;font-family:Menlo,'DejaVu Sans Mono',consolas,'Courier New',monospace\"><span style=\"font-weight: bold\"> Non-trainable params: </span><span style=\"color: #00af00; text-decoration-color: #00af00\">0</span> (0.00 B)\n",
              "</pre>\n"
            ]
          },
          "metadata": {}
        }
      ]
    },
    {
      "cell_type": "markdown",
      "source": [
        "- **Conv2D (32, 3×3) + MaxPool** → 320 params  \n",
        "- **Conv2D (64, 3×3) + MaxPool** → 18,496 params  \n",
        "- **Flatten**  \n",
        "- **Dense (64, ReLU)** → 102,464 params  \n",
        "- **Dense (10, Softmax)** → 650 params  \n",
        "\n",
        "**Total params:** ~121K  "
      ],
      "metadata": {
        "id": "LPW6GUAgNwG2"
      }
    },
    {
      "cell_type": "code",
      "source": [
        " basic_cnn_model = keras.Sequential([\n",
        "     keras.layers.Conv2D(32, (3, 3), activation='relu', input_shape=(32, 32, 3)),\n",
        "     keras.layers.MaxPooling2D((2, 2)),\n",
        "     keras.layers.Conv2D(64, (3, 3), activation='relu'),\n",
        "     keras.layers.MaxPooling2D((2, 2)),\n",
        "     keras.layers.Flatten(),\n",
        "     keras.layers.Dense(64, activation='relu'),\n",
        "     keras.layers.Dense(100, activation='softmax')\n",
        " ])\n",
        "\n",
        "basic_cnn_model.compile(optimizer='adam',\n",
        "                        loss='categorical_crossentropy',\n",
        "                        metrics=['accuracy'])\n",
        "basic_cnn_model.summary()\n",
        ""
      ],
      "metadata": {
        "colab": {
          "base_uri": "https://localhost:8080/",
          "height": 442
        },
        "id": "_08cLOa0N0qA",
        "outputId": "b5f46720-cfe5-48cd-ceee-75e9a67a26f9"
      },
      "execution_count": 45,
      "outputs": [
        {
          "output_type": "stream",
          "name": "stderr",
          "text": [
            "/usr/local/lib/python3.12/dist-packages/keras/src/layers/convolutional/base_conv.py:113: UserWarning:\n",
            "\n",
            "Do not pass an `input_shape`/`input_dim` argument to a layer. When using Sequential models, prefer using an `Input(shape)` object as the first layer in the model instead.\n",
            "\n"
          ]
        },
        {
          "output_type": "display_data",
          "data": {
            "text/plain": [
              "\u001b[1mModel: \"sequential_8\"\u001b[0m\n"
            ],
            "text/html": [
              "<pre style=\"white-space:pre;overflow-x:auto;line-height:normal;font-family:Menlo,'DejaVu Sans Mono',consolas,'Courier New',monospace\"><span style=\"font-weight: bold\">Model: \"sequential_8\"</span>\n",
              "</pre>\n"
            ]
          },
          "metadata": {}
        },
        {
          "output_type": "display_data",
          "data": {
            "text/plain": [
              "┏━━━━━━━━━━━━━━━━━━━━━━━━━━━━━━━━━┳━━━━━━━━━━━━━━━━━━━━━━━━┳━━━━━━━━━━━━━━━┓\n",
              "┃\u001b[1m \u001b[0m\u001b[1mLayer (type)                   \u001b[0m\u001b[1m \u001b[0m┃\u001b[1m \u001b[0m\u001b[1mOutput Shape          \u001b[0m\u001b[1m \u001b[0m┃\u001b[1m \u001b[0m\u001b[1m      Param #\u001b[0m\u001b[1m \u001b[0m┃\n",
              "┡━━━━━━━━━━━━━━━━━━━━━━━━━━━━━━━━━╇━━━━━━━━━━━━━━━━━━━━━━━━╇━━━━━━━━━━━━━━━┩\n",
              "│ conv2d_12 (\u001b[38;5;33mConv2D\u001b[0m)              │ (\u001b[38;5;45mNone\u001b[0m, \u001b[38;5;34m30\u001b[0m, \u001b[38;5;34m30\u001b[0m, \u001b[38;5;34m32\u001b[0m)     │           \u001b[38;5;34m896\u001b[0m │\n",
              "├─────────────────────────────────┼────────────────────────┼───────────────┤\n",
              "│ max_pooling2d_12 (\u001b[38;5;33mMaxPooling2D\u001b[0m) │ (\u001b[38;5;45mNone\u001b[0m, \u001b[38;5;34m15\u001b[0m, \u001b[38;5;34m15\u001b[0m, \u001b[38;5;34m32\u001b[0m)     │             \u001b[38;5;34m0\u001b[0m │\n",
              "├─────────────────────────────────┼────────────────────────┼───────────────┤\n",
              "│ conv2d_13 (\u001b[38;5;33mConv2D\u001b[0m)              │ (\u001b[38;5;45mNone\u001b[0m, \u001b[38;5;34m13\u001b[0m, \u001b[38;5;34m13\u001b[0m, \u001b[38;5;34m64\u001b[0m)     │        \u001b[38;5;34m18,496\u001b[0m │\n",
              "├─────────────────────────────────┼────────────────────────┼───────────────┤\n",
              "│ max_pooling2d_13 (\u001b[38;5;33mMaxPooling2D\u001b[0m) │ (\u001b[38;5;45mNone\u001b[0m, \u001b[38;5;34m6\u001b[0m, \u001b[38;5;34m6\u001b[0m, \u001b[38;5;34m64\u001b[0m)       │             \u001b[38;5;34m0\u001b[0m │\n",
              "├─────────────────────────────────┼────────────────────────┼───────────────┤\n",
              "│ flatten_8 (\u001b[38;5;33mFlatten\u001b[0m)             │ (\u001b[38;5;45mNone\u001b[0m, \u001b[38;5;34m2304\u001b[0m)           │             \u001b[38;5;34m0\u001b[0m │\n",
              "├─────────────────────────────────┼────────────────────────┼───────────────┤\n",
              "│ dense_19 (\u001b[38;5;33mDense\u001b[0m)                │ (\u001b[38;5;45mNone\u001b[0m, \u001b[38;5;34m64\u001b[0m)             │       \u001b[38;5;34m147,520\u001b[0m │\n",
              "├─────────────────────────────────┼────────────────────────┼───────────────┤\n",
              "│ dense_20 (\u001b[38;5;33mDense\u001b[0m)                │ (\u001b[38;5;45mNone\u001b[0m, \u001b[38;5;34m100\u001b[0m)            │         \u001b[38;5;34m6,500\u001b[0m │\n",
              "└─────────────────────────────────┴────────────────────────┴───────────────┘\n"
            ],
            "text/html": [
              "<pre style=\"white-space:pre;overflow-x:auto;line-height:normal;font-family:Menlo,'DejaVu Sans Mono',consolas,'Courier New',monospace\">┏━━━━━━━━━━━━━━━━━━━━━━━━━━━━━━━━━┳━━━━━━━━━━━━━━━━━━━━━━━━┳━━━━━━━━━━━━━━━┓\n",
              "┃<span style=\"font-weight: bold\"> Layer (type)                    </span>┃<span style=\"font-weight: bold\"> Output Shape           </span>┃<span style=\"font-weight: bold\">       Param # </span>┃\n",
              "┡━━━━━━━━━━━━━━━━━━━━━━━━━━━━━━━━━╇━━━━━━━━━━━━━━━━━━━━━━━━╇━━━━━━━━━━━━━━━┩\n",
              "│ conv2d_12 (<span style=\"color: #0087ff; text-decoration-color: #0087ff\">Conv2D</span>)              │ (<span style=\"color: #00d7ff; text-decoration-color: #00d7ff\">None</span>, <span style=\"color: #00af00; text-decoration-color: #00af00\">30</span>, <span style=\"color: #00af00; text-decoration-color: #00af00\">30</span>, <span style=\"color: #00af00; text-decoration-color: #00af00\">32</span>)     │           <span style=\"color: #00af00; text-decoration-color: #00af00\">896</span> │\n",
              "├─────────────────────────────────┼────────────────────────┼───────────────┤\n",
              "│ max_pooling2d_12 (<span style=\"color: #0087ff; text-decoration-color: #0087ff\">MaxPooling2D</span>) │ (<span style=\"color: #00d7ff; text-decoration-color: #00d7ff\">None</span>, <span style=\"color: #00af00; text-decoration-color: #00af00\">15</span>, <span style=\"color: #00af00; text-decoration-color: #00af00\">15</span>, <span style=\"color: #00af00; text-decoration-color: #00af00\">32</span>)     │             <span style=\"color: #00af00; text-decoration-color: #00af00\">0</span> │\n",
              "├─────────────────────────────────┼────────────────────────┼───────────────┤\n",
              "│ conv2d_13 (<span style=\"color: #0087ff; text-decoration-color: #0087ff\">Conv2D</span>)              │ (<span style=\"color: #00d7ff; text-decoration-color: #00d7ff\">None</span>, <span style=\"color: #00af00; text-decoration-color: #00af00\">13</span>, <span style=\"color: #00af00; text-decoration-color: #00af00\">13</span>, <span style=\"color: #00af00; text-decoration-color: #00af00\">64</span>)     │        <span style=\"color: #00af00; text-decoration-color: #00af00\">18,496</span> │\n",
              "├─────────────────────────────────┼────────────────────────┼───────────────┤\n",
              "│ max_pooling2d_13 (<span style=\"color: #0087ff; text-decoration-color: #0087ff\">MaxPooling2D</span>) │ (<span style=\"color: #00d7ff; text-decoration-color: #00d7ff\">None</span>, <span style=\"color: #00af00; text-decoration-color: #00af00\">6</span>, <span style=\"color: #00af00; text-decoration-color: #00af00\">6</span>, <span style=\"color: #00af00; text-decoration-color: #00af00\">64</span>)       │             <span style=\"color: #00af00; text-decoration-color: #00af00\">0</span> │\n",
              "├─────────────────────────────────┼────────────────────────┼───────────────┤\n",
              "│ flatten_8 (<span style=\"color: #0087ff; text-decoration-color: #0087ff\">Flatten</span>)             │ (<span style=\"color: #00d7ff; text-decoration-color: #00d7ff\">None</span>, <span style=\"color: #00af00; text-decoration-color: #00af00\">2304</span>)           │             <span style=\"color: #00af00; text-decoration-color: #00af00\">0</span> │\n",
              "├─────────────────────────────────┼────────────────────────┼───────────────┤\n",
              "│ dense_19 (<span style=\"color: #0087ff; text-decoration-color: #0087ff\">Dense</span>)                │ (<span style=\"color: #00d7ff; text-decoration-color: #00d7ff\">None</span>, <span style=\"color: #00af00; text-decoration-color: #00af00\">64</span>)             │       <span style=\"color: #00af00; text-decoration-color: #00af00\">147,520</span> │\n",
              "├─────────────────────────────────┼────────────────────────┼───────────────┤\n",
              "│ dense_20 (<span style=\"color: #0087ff; text-decoration-color: #0087ff\">Dense</span>)                │ (<span style=\"color: #00d7ff; text-decoration-color: #00d7ff\">None</span>, <span style=\"color: #00af00; text-decoration-color: #00af00\">100</span>)            │         <span style=\"color: #00af00; text-decoration-color: #00af00\">6,500</span> │\n",
              "└─────────────────────────────────┴────────────────────────┴───────────────┘\n",
              "</pre>\n"
            ]
          },
          "metadata": {}
        },
        {
          "output_type": "display_data",
          "data": {
            "text/plain": [
              "\u001b[1m Total params: \u001b[0m\u001b[38;5;34m173,412\u001b[0m (677.39 KB)\n"
            ],
            "text/html": [
              "<pre style=\"white-space:pre;overflow-x:auto;line-height:normal;font-family:Menlo,'DejaVu Sans Mono',consolas,'Courier New',monospace\"><span style=\"font-weight: bold\"> Total params: </span><span style=\"color: #00af00; text-decoration-color: #00af00\">173,412</span> (677.39 KB)\n",
              "</pre>\n"
            ]
          },
          "metadata": {}
        },
        {
          "output_type": "display_data",
          "data": {
            "text/plain": [
              "\u001b[1m Trainable params: \u001b[0m\u001b[38;5;34m173,412\u001b[0m (677.39 KB)\n"
            ],
            "text/html": [
              "<pre style=\"white-space:pre;overflow-x:auto;line-height:normal;font-family:Menlo,'DejaVu Sans Mono',consolas,'Courier New',monospace\"><span style=\"font-weight: bold\"> Trainable params: </span><span style=\"color: #00af00; text-decoration-color: #00af00\">173,412</span> (677.39 KB)\n",
              "</pre>\n"
            ]
          },
          "metadata": {}
        },
        {
          "output_type": "display_data",
          "data": {
            "text/plain": [
              "\u001b[1m Non-trainable params: \u001b[0m\u001b[38;5;34m0\u001b[0m (0.00 B)\n"
            ],
            "text/html": [
              "<pre style=\"white-space:pre;overflow-x:auto;line-height:normal;font-family:Menlo,'DejaVu Sans Mono',consolas,'Courier New',monospace\"><span style=\"font-weight: bold\"> Non-trainable params: </span><span style=\"color: #00af00; text-decoration-color: #00af00\">0</span> (0.00 B)\n",
              "</pre>\n"
            ]
          },
          "metadata": {}
        }
      ]
    },
    {
      "cell_type": "markdown",
      "source": [
        "- **Conv2D (32, 3×3) + BN + MaxPool + Dropout** → 320 + 64 params  \n",
        "- **Conv2D (64, 3×3) + BN + MaxPool + Dropout** → 18,496 + 128 params  \n",
        "- **Conv2D (128, 3×3) + BN + MaxPool + Dropout** → 73,856 + 256 params  \n",
        "- **Flatten**  \n",
        "- **Dense (128, ReLU) + BN + Dropout** → 147,584 + 256 params  \n",
        "- **Dense (10, Softmax)** → 1,290 params  \n",
        "\n",
        "**Total params:** ~242K  "
      ],
      "metadata": {
        "id": "idRo4QGqPqr2"
      }
    },
    {
      "cell_type": "code",
      "source": [
        "deeper_cnn_model = keras.Sequential([\n",
        "    keras.layers.Conv2D(32, (3, 3), activation='relu', input_shape=(32, 32, 3)),\n",
        "    keras.layers.BatchNormalization(),\n",
        "    keras.layers.MaxPooling2D((2, 2)),\n",
        "    keras.layers.Dropout(0.25),\n",
        "\n",
        "    keras.layers.Conv2D(64, (3, 3), activation='relu'),\n",
        "    keras.layers.BatchNormalization(),\n",
        "    keras.layers.MaxPooling2D((2, 2)),\n",
        "    keras.layers.Dropout(0.25),\n",
        "\n",
        "    keras.layers.Conv2D(128, (3, 3), activation='relu'),\n",
        "    keras.layers.BatchNormalization(),\n",
        "    keras.layers.MaxPooling2D((2, 2)),\n",
        "    keras.layers.Dropout(0.25),\n",
        "\n",
        "\n",
        "\n",
        "    keras.layers.Flatten(),\n",
        "    keras.layers.Dense(128, activation='relu'),\n",
        "    keras.layers.BatchNormalization(),\n",
        "    keras.layers.Dropout(0.5),\n",
        "\n",
        "    keras.layers.Dense(100, activation='softmax')  # Changed to 100 output classes\n",
        "])\n",
        "\n",
        "deeper_cnn_model.compile(optimizer='adam',\n",
        "                         loss='categorical_crossentropy',\n",
        "                         metrics=['accuracy'])\n",
        "deeper_cnn_model.summary()"
      ],
      "metadata": {
        "colab": {
          "base_uri": "https://localhost:8080/",
          "height": 826
        },
        "id": "oNjLebBJPywv",
        "outputId": "326cc8d5-3c3b-4c88-ee2b-d2fb9d35f851"
      },
      "execution_count": 47,
      "outputs": [
        {
          "output_type": "stream",
          "name": "stderr",
          "text": [
            "/usr/local/lib/python3.12/dist-packages/keras/src/layers/convolutional/base_conv.py:113: UserWarning:\n",
            "\n",
            "Do not pass an `input_shape`/`input_dim` argument to a layer. When using Sequential models, prefer using an `Input(shape)` object as the first layer in the model instead.\n",
            "\n"
          ]
        },
        {
          "output_type": "display_data",
          "data": {
            "text/plain": [
              "\u001b[1mModel: \"sequential_10\"\u001b[0m\n"
            ],
            "text/html": [
              "<pre style=\"white-space:pre;overflow-x:auto;line-height:normal;font-family:Menlo,'DejaVu Sans Mono',consolas,'Courier New',monospace\"><span style=\"font-weight: bold\">Model: \"sequential_10\"</span>\n",
              "</pre>\n"
            ]
          },
          "metadata": {}
        },
        {
          "output_type": "display_data",
          "data": {
            "text/plain": [
              "┏━━━━━━━━━━━━━━━━━━━━━━━━━━━━━━━━━┳━━━━━━━━━━━━━━━━━━━━━━━━┳━━━━━━━━━━━━━━━┓\n",
              "┃\u001b[1m \u001b[0m\u001b[1mLayer (type)                   \u001b[0m\u001b[1m \u001b[0m┃\u001b[1m \u001b[0m\u001b[1mOutput Shape          \u001b[0m\u001b[1m \u001b[0m┃\u001b[1m \u001b[0m\u001b[1m      Param #\u001b[0m\u001b[1m \u001b[0m┃\n",
              "┡━━━━━━━━━━━━━━━━━━━━━━━━━━━━━━━━━╇━━━━━━━━━━━━━━━━━━━━━━━━╇━━━━━━━━━━━━━━━┩\n",
              "│ conv2d_17 (\u001b[38;5;33mConv2D\u001b[0m)              │ (\u001b[38;5;45mNone\u001b[0m, \u001b[38;5;34m30\u001b[0m, \u001b[38;5;34m30\u001b[0m, \u001b[38;5;34m32\u001b[0m)     │           \u001b[38;5;34m896\u001b[0m │\n",
              "├─────────────────────────────────┼────────────────────────┼───────────────┤\n",
              "│ batch_normalization_12          │ (\u001b[38;5;45mNone\u001b[0m, \u001b[38;5;34m30\u001b[0m, \u001b[38;5;34m30\u001b[0m, \u001b[38;5;34m32\u001b[0m)     │           \u001b[38;5;34m128\u001b[0m │\n",
              "│ (\u001b[38;5;33mBatchNormalization\u001b[0m)            │                        │               │\n",
              "├─────────────────────────────────┼────────────────────────┼───────────────┤\n",
              "│ max_pooling2d_17 (\u001b[38;5;33mMaxPooling2D\u001b[0m) │ (\u001b[38;5;45mNone\u001b[0m, \u001b[38;5;34m15\u001b[0m, \u001b[38;5;34m15\u001b[0m, \u001b[38;5;34m32\u001b[0m)     │             \u001b[38;5;34m0\u001b[0m │\n",
              "├─────────────────────────────────┼────────────────────────┼───────────────┤\n",
              "│ dropout_12 (\u001b[38;5;33mDropout\u001b[0m)            │ (\u001b[38;5;45mNone\u001b[0m, \u001b[38;5;34m15\u001b[0m, \u001b[38;5;34m15\u001b[0m, \u001b[38;5;34m32\u001b[0m)     │             \u001b[38;5;34m0\u001b[0m │\n",
              "├─────────────────────────────────┼────────────────────────┼───────────────┤\n",
              "│ conv2d_18 (\u001b[38;5;33mConv2D\u001b[0m)              │ (\u001b[38;5;45mNone\u001b[0m, \u001b[38;5;34m13\u001b[0m, \u001b[38;5;34m13\u001b[0m, \u001b[38;5;34m64\u001b[0m)     │        \u001b[38;5;34m18,496\u001b[0m │\n",
              "├─────────────────────────────────┼────────────────────────┼───────────────┤\n",
              "│ batch_normalization_13          │ (\u001b[38;5;45mNone\u001b[0m, \u001b[38;5;34m13\u001b[0m, \u001b[38;5;34m13\u001b[0m, \u001b[38;5;34m64\u001b[0m)     │           \u001b[38;5;34m256\u001b[0m │\n",
              "│ (\u001b[38;5;33mBatchNormalization\u001b[0m)            │                        │               │\n",
              "├─────────────────────────────────┼────────────────────────┼───────────────┤\n",
              "│ max_pooling2d_18 (\u001b[38;5;33mMaxPooling2D\u001b[0m) │ (\u001b[38;5;45mNone\u001b[0m, \u001b[38;5;34m6\u001b[0m, \u001b[38;5;34m6\u001b[0m, \u001b[38;5;34m64\u001b[0m)       │             \u001b[38;5;34m0\u001b[0m │\n",
              "├─────────────────────────────────┼────────────────────────┼───────────────┤\n",
              "│ dropout_13 (\u001b[38;5;33mDropout\u001b[0m)            │ (\u001b[38;5;45mNone\u001b[0m, \u001b[38;5;34m6\u001b[0m, \u001b[38;5;34m6\u001b[0m, \u001b[38;5;34m64\u001b[0m)       │             \u001b[38;5;34m0\u001b[0m │\n",
              "├─────────────────────────────────┼────────────────────────┼───────────────┤\n",
              "│ conv2d_19 (\u001b[38;5;33mConv2D\u001b[0m)              │ (\u001b[38;5;45mNone\u001b[0m, \u001b[38;5;34m4\u001b[0m, \u001b[38;5;34m4\u001b[0m, \u001b[38;5;34m128\u001b[0m)      │        \u001b[38;5;34m73,856\u001b[0m │\n",
              "├─────────────────────────────────┼────────────────────────┼───────────────┤\n",
              "│ batch_normalization_14          │ (\u001b[38;5;45mNone\u001b[0m, \u001b[38;5;34m4\u001b[0m, \u001b[38;5;34m4\u001b[0m, \u001b[38;5;34m128\u001b[0m)      │           \u001b[38;5;34m512\u001b[0m │\n",
              "│ (\u001b[38;5;33mBatchNormalization\u001b[0m)            │                        │               │\n",
              "├─────────────────────────────────┼────────────────────────┼───────────────┤\n",
              "│ max_pooling2d_19 (\u001b[38;5;33mMaxPooling2D\u001b[0m) │ (\u001b[38;5;45mNone\u001b[0m, \u001b[38;5;34m2\u001b[0m, \u001b[38;5;34m2\u001b[0m, \u001b[38;5;34m128\u001b[0m)      │             \u001b[38;5;34m0\u001b[0m │\n",
              "├─────────────────────────────────┼────────────────────────┼───────────────┤\n",
              "│ dropout_14 (\u001b[38;5;33mDropout\u001b[0m)            │ (\u001b[38;5;45mNone\u001b[0m, \u001b[38;5;34m2\u001b[0m, \u001b[38;5;34m2\u001b[0m, \u001b[38;5;34m128\u001b[0m)      │             \u001b[38;5;34m0\u001b[0m │\n",
              "├─────────────────────────────────┼────────────────────────┼───────────────┤\n",
              "│ flatten_10 (\u001b[38;5;33mFlatten\u001b[0m)            │ (\u001b[38;5;45mNone\u001b[0m, \u001b[38;5;34m512\u001b[0m)            │             \u001b[38;5;34m0\u001b[0m │\n",
              "├─────────────────────────────────┼────────────────────────┼───────────────┤\n",
              "│ dense_23 (\u001b[38;5;33mDense\u001b[0m)                │ (\u001b[38;5;45mNone\u001b[0m, \u001b[38;5;34m128\u001b[0m)            │        \u001b[38;5;34m65,664\u001b[0m │\n",
              "├─────────────────────────────────┼────────────────────────┼───────────────┤\n",
              "│ batch_normalization_15          │ (\u001b[38;5;45mNone\u001b[0m, \u001b[38;5;34m128\u001b[0m)            │           \u001b[38;5;34m512\u001b[0m │\n",
              "│ (\u001b[38;5;33mBatchNormalization\u001b[0m)            │                        │               │\n",
              "├─────────────────────────────────┼────────────────────────┼───────────────┤\n",
              "│ dropout_15 (\u001b[38;5;33mDropout\u001b[0m)            │ (\u001b[38;5;45mNone\u001b[0m, \u001b[38;5;34m128\u001b[0m)            │             \u001b[38;5;34m0\u001b[0m │\n",
              "├─────────────────────────────────┼────────────────────────┼───────────────┤\n",
              "│ dense_24 (\u001b[38;5;33mDense\u001b[0m)                │ (\u001b[38;5;45mNone\u001b[0m, \u001b[38;5;34m100\u001b[0m)            │        \u001b[38;5;34m12,900\u001b[0m │\n",
              "└─────────────────────────────────┴────────────────────────┴───────────────┘\n"
            ],
            "text/html": [
              "<pre style=\"white-space:pre;overflow-x:auto;line-height:normal;font-family:Menlo,'DejaVu Sans Mono',consolas,'Courier New',monospace\">┏━━━━━━━━━━━━━━━━━━━━━━━━━━━━━━━━━┳━━━━━━━━━━━━━━━━━━━━━━━━┳━━━━━━━━━━━━━━━┓\n",
              "┃<span style=\"font-weight: bold\"> Layer (type)                    </span>┃<span style=\"font-weight: bold\"> Output Shape           </span>┃<span style=\"font-weight: bold\">       Param # </span>┃\n",
              "┡━━━━━━━━━━━━━━━━━━━━━━━━━━━━━━━━━╇━━━━━━━━━━━━━━━━━━━━━━━━╇━━━━━━━━━━━━━━━┩\n",
              "│ conv2d_17 (<span style=\"color: #0087ff; text-decoration-color: #0087ff\">Conv2D</span>)              │ (<span style=\"color: #00d7ff; text-decoration-color: #00d7ff\">None</span>, <span style=\"color: #00af00; text-decoration-color: #00af00\">30</span>, <span style=\"color: #00af00; text-decoration-color: #00af00\">30</span>, <span style=\"color: #00af00; text-decoration-color: #00af00\">32</span>)     │           <span style=\"color: #00af00; text-decoration-color: #00af00\">896</span> │\n",
              "├─────────────────────────────────┼────────────────────────┼───────────────┤\n",
              "│ batch_normalization_12          │ (<span style=\"color: #00d7ff; text-decoration-color: #00d7ff\">None</span>, <span style=\"color: #00af00; text-decoration-color: #00af00\">30</span>, <span style=\"color: #00af00; text-decoration-color: #00af00\">30</span>, <span style=\"color: #00af00; text-decoration-color: #00af00\">32</span>)     │           <span style=\"color: #00af00; text-decoration-color: #00af00\">128</span> │\n",
              "│ (<span style=\"color: #0087ff; text-decoration-color: #0087ff\">BatchNormalization</span>)            │                        │               │\n",
              "├─────────────────────────────────┼────────────────────────┼───────────────┤\n",
              "│ max_pooling2d_17 (<span style=\"color: #0087ff; text-decoration-color: #0087ff\">MaxPooling2D</span>) │ (<span style=\"color: #00d7ff; text-decoration-color: #00d7ff\">None</span>, <span style=\"color: #00af00; text-decoration-color: #00af00\">15</span>, <span style=\"color: #00af00; text-decoration-color: #00af00\">15</span>, <span style=\"color: #00af00; text-decoration-color: #00af00\">32</span>)     │             <span style=\"color: #00af00; text-decoration-color: #00af00\">0</span> │\n",
              "├─────────────────────────────────┼────────────────────────┼───────────────┤\n",
              "│ dropout_12 (<span style=\"color: #0087ff; text-decoration-color: #0087ff\">Dropout</span>)            │ (<span style=\"color: #00d7ff; text-decoration-color: #00d7ff\">None</span>, <span style=\"color: #00af00; text-decoration-color: #00af00\">15</span>, <span style=\"color: #00af00; text-decoration-color: #00af00\">15</span>, <span style=\"color: #00af00; text-decoration-color: #00af00\">32</span>)     │             <span style=\"color: #00af00; text-decoration-color: #00af00\">0</span> │\n",
              "├─────────────────────────────────┼────────────────────────┼───────────────┤\n",
              "│ conv2d_18 (<span style=\"color: #0087ff; text-decoration-color: #0087ff\">Conv2D</span>)              │ (<span style=\"color: #00d7ff; text-decoration-color: #00d7ff\">None</span>, <span style=\"color: #00af00; text-decoration-color: #00af00\">13</span>, <span style=\"color: #00af00; text-decoration-color: #00af00\">13</span>, <span style=\"color: #00af00; text-decoration-color: #00af00\">64</span>)     │        <span style=\"color: #00af00; text-decoration-color: #00af00\">18,496</span> │\n",
              "├─────────────────────────────────┼────────────────────────┼───────────────┤\n",
              "│ batch_normalization_13          │ (<span style=\"color: #00d7ff; text-decoration-color: #00d7ff\">None</span>, <span style=\"color: #00af00; text-decoration-color: #00af00\">13</span>, <span style=\"color: #00af00; text-decoration-color: #00af00\">13</span>, <span style=\"color: #00af00; text-decoration-color: #00af00\">64</span>)     │           <span style=\"color: #00af00; text-decoration-color: #00af00\">256</span> │\n",
              "│ (<span style=\"color: #0087ff; text-decoration-color: #0087ff\">BatchNormalization</span>)            │                        │               │\n",
              "├─────────────────────────────────┼────────────────────────┼───────────────┤\n",
              "│ max_pooling2d_18 (<span style=\"color: #0087ff; text-decoration-color: #0087ff\">MaxPooling2D</span>) │ (<span style=\"color: #00d7ff; text-decoration-color: #00d7ff\">None</span>, <span style=\"color: #00af00; text-decoration-color: #00af00\">6</span>, <span style=\"color: #00af00; text-decoration-color: #00af00\">6</span>, <span style=\"color: #00af00; text-decoration-color: #00af00\">64</span>)       │             <span style=\"color: #00af00; text-decoration-color: #00af00\">0</span> │\n",
              "├─────────────────────────────────┼────────────────────────┼───────────────┤\n",
              "│ dropout_13 (<span style=\"color: #0087ff; text-decoration-color: #0087ff\">Dropout</span>)            │ (<span style=\"color: #00d7ff; text-decoration-color: #00d7ff\">None</span>, <span style=\"color: #00af00; text-decoration-color: #00af00\">6</span>, <span style=\"color: #00af00; text-decoration-color: #00af00\">6</span>, <span style=\"color: #00af00; text-decoration-color: #00af00\">64</span>)       │             <span style=\"color: #00af00; text-decoration-color: #00af00\">0</span> │\n",
              "├─────────────────────────────────┼────────────────────────┼───────────────┤\n",
              "│ conv2d_19 (<span style=\"color: #0087ff; text-decoration-color: #0087ff\">Conv2D</span>)              │ (<span style=\"color: #00d7ff; text-decoration-color: #00d7ff\">None</span>, <span style=\"color: #00af00; text-decoration-color: #00af00\">4</span>, <span style=\"color: #00af00; text-decoration-color: #00af00\">4</span>, <span style=\"color: #00af00; text-decoration-color: #00af00\">128</span>)      │        <span style=\"color: #00af00; text-decoration-color: #00af00\">73,856</span> │\n",
              "├─────────────────────────────────┼────────────────────────┼───────────────┤\n",
              "│ batch_normalization_14          │ (<span style=\"color: #00d7ff; text-decoration-color: #00d7ff\">None</span>, <span style=\"color: #00af00; text-decoration-color: #00af00\">4</span>, <span style=\"color: #00af00; text-decoration-color: #00af00\">4</span>, <span style=\"color: #00af00; text-decoration-color: #00af00\">128</span>)      │           <span style=\"color: #00af00; text-decoration-color: #00af00\">512</span> │\n",
              "│ (<span style=\"color: #0087ff; text-decoration-color: #0087ff\">BatchNormalization</span>)            │                        │               │\n",
              "├─────────────────────────────────┼────────────────────────┼───────────────┤\n",
              "│ max_pooling2d_19 (<span style=\"color: #0087ff; text-decoration-color: #0087ff\">MaxPooling2D</span>) │ (<span style=\"color: #00d7ff; text-decoration-color: #00d7ff\">None</span>, <span style=\"color: #00af00; text-decoration-color: #00af00\">2</span>, <span style=\"color: #00af00; text-decoration-color: #00af00\">2</span>, <span style=\"color: #00af00; text-decoration-color: #00af00\">128</span>)      │             <span style=\"color: #00af00; text-decoration-color: #00af00\">0</span> │\n",
              "├─────────────────────────────────┼────────────────────────┼───────────────┤\n",
              "│ dropout_14 (<span style=\"color: #0087ff; text-decoration-color: #0087ff\">Dropout</span>)            │ (<span style=\"color: #00d7ff; text-decoration-color: #00d7ff\">None</span>, <span style=\"color: #00af00; text-decoration-color: #00af00\">2</span>, <span style=\"color: #00af00; text-decoration-color: #00af00\">2</span>, <span style=\"color: #00af00; text-decoration-color: #00af00\">128</span>)      │             <span style=\"color: #00af00; text-decoration-color: #00af00\">0</span> │\n",
              "├─────────────────────────────────┼────────────────────────┼───────────────┤\n",
              "│ flatten_10 (<span style=\"color: #0087ff; text-decoration-color: #0087ff\">Flatten</span>)            │ (<span style=\"color: #00d7ff; text-decoration-color: #00d7ff\">None</span>, <span style=\"color: #00af00; text-decoration-color: #00af00\">512</span>)            │             <span style=\"color: #00af00; text-decoration-color: #00af00\">0</span> │\n",
              "├─────────────────────────────────┼────────────────────────┼───────────────┤\n",
              "│ dense_23 (<span style=\"color: #0087ff; text-decoration-color: #0087ff\">Dense</span>)                │ (<span style=\"color: #00d7ff; text-decoration-color: #00d7ff\">None</span>, <span style=\"color: #00af00; text-decoration-color: #00af00\">128</span>)            │        <span style=\"color: #00af00; text-decoration-color: #00af00\">65,664</span> │\n",
              "├─────────────────────────────────┼────────────────────────┼───────────────┤\n",
              "│ batch_normalization_15          │ (<span style=\"color: #00d7ff; text-decoration-color: #00d7ff\">None</span>, <span style=\"color: #00af00; text-decoration-color: #00af00\">128</span>)            │           <span style=\"color: #00af00; text-decoration-color: #00af00\">512</span> │\n",
              "│ (<span style=\"color: #0087ff; text-decoration-color: #0087ff\">BatchNormalization</span>)            │                        │               │\n",
              "├─────────────────────────────────┼────────────────────────┼───────────────┤\n",
              "│ dropout_15 (<span style=\"color: #0087ff; text-decoration-color: #0087ff\">Dropout</span>)            │ (<span style=\"color: #00d7ff; text-decoration-color: #00d7ff\">None</span>, <span style=\"color: #00af00; text-decoration-color: #00af00\">128</span>)            │             <span style=\"color: #00af00; text-decoration-color: #00af00\">0</span> │\n",
              "├─────────────────────────────────┼────────────────────────┼───────────────┤\n",
              "│ dense_24 (<span style=\"color: #0087ff; text-decoration-color: #0087ff\">Dense</span>)                │ (<span style=\"color: #00d7ff; text-decoration-color: #00d7ff\">None</span>, <span style=\"color: #00af00; text-decoration-color: #00af00\">100</span>)            │        <span style=\"color: #00af00; text-decoration-color: #00af00\">12,900</span> │\n",
              "└─────────────────────────────────┴────────────────────────┴───────────────┘\n",
              "</pre>\n"
            ]
          },
          "metadata": {}
        },
        {
          "output_type": "display_data",
          "data": {
            "text/plain": [
              "\u001b[1m Total params: \u001b[0m\u001b[38;5;34m173,220\u001b[0m (676.64 KB)\n"
            ],
            "text/html": [
              "<pre style=\"white-space:pre;overflow-x:auto;line-height:normal;font-family:Menlo,'DejaVu Sans Mono',consolas,'Courier New',monospace\"><span style=\"font-weight: bold\"> Total params: </span><span style=\"color: #00af00; text-decoration-color: #00af00\">173,220</span> (676.64 KB)\n",
              "</pre>\n"
            ]
          },
          "metadata": {}
        },
        {
          "output_type": "display_data",
          "data": {
            "text/plain": [
              "\u001b[1m Trainable params: \u001b[0m\u001b[38;5;34m172,516\u001b[0m (673.89 KB)\n"
            ],
            "text/html": [
              "<pre style=\"white-space:pre;overflow-x:auto;line-height:normal;font-family:Menlo,'DejaVu Sans Mono',consolas,'Courier New',monospace\"><span style=\"font-weight: bold\"> Trainable params: </span><span style=\"color: #00af00; text-decoration-color: #00af00\">172,516</span> (673.89 KB)\n",
              "</pre>\n"
            ]
          },
          "metadata": {}
        },
        {
          "output_type": "display_data",
          "data": {
            "text/plain": [
              "\u001b[1m Non-trainable params: \u001b[0m\u001b[38;5;34m704\u001b[0m (2.75 KB)\n"
            ],
            "text/html": [
              "<pre style=\"white-space:pre;overflow-x:auto;line-height:normal;font-family:Menlo,'DejaVu Sans Mono',consolas,'Courier New',monospace\"><span style=\"font-weight: bold\"> Non-trainable params: </span><span style=\"color: #00af00; text-decoration-color: #00af00\">704</span> (2.75 KB)\n",
              "</pre>\n"
            ]
          },
          "metadata": {}
        }
      ]
    },
    {
      "cell_type": "markdown",
      "source": [
        "### 3. Train models"
      ],
      "metadata": {
        "id": "42SL-BW-QuyI"
      }
    },
    {
      "cell_type": "markdown",
      "source": [
        "3.1 Training Ann model"
      ],
      "metadata": {
        "id": "xa5uBaw3Zw_0"
      }
    },
    {
      "cell_type": "markdown",
      "source": [
        "- **EarlyStopping**: monitors validation loss, stops if no improvement for 5 epochs, restores best weights.  \n",
        "- **ModelCheckpoint**: saves best ANN weights (`best_ann_model_weights.weights.h5`) based on validation loss.  \n",
        "- **Training**:  \n",
        "  - Epochs: up to 30 (early stopping controls actual run)  \n",
        "  - Batch size: 64  \n",
        "  - Validation on test set  \n",
        "  - Callbacks: EarlyStopping + ModelCheckpoint  "
      ],
      "metadata": {
        "id": "F8gBwBFTQxR1"
      }
    },
    {
      "cell_type": "code",
      "source": [
        "from tensorflow import keras\n",
        "\n",
        "# One-hot encode labels for 100 classes\n",
        "cifar100_train_labels_one_hot = keras.utils.to_categorical(cifar100_train_labels, 100)\n",
        "cifar100_test_labels_one_hot = keras.utils.to_categorical(cifar100_test_labels, 100)\n",
        "\n",
        "# Verify shapes\n",
        "print(\"Train labels one-hot shape:\", cifar100_train_labels_one_hot.shape)  # (50000, 100)\n",
        "print(\"Test labels one-hot shape:\", cifar100_test_labels_one_hot.shape)    # (10000, 100)\n",
        "\n",
        "print(\"Training ANN model...\")\n",
        "ann_history = ann_model.fit(\n",
        "    x=cifar100_train_images,\n",
        "    y=cifar100_train_labels_one_hot,\n",
        "    epochs=30,\n",
        "    batch_size=64,\n",
        "    validation_data=(cifar100_test_images, cifar100_test_labels_one_hot),\n",
        "    callbacks=[early_stopping, model_checkpoint_ann],\n",
        "    shuffle=True\n",
        ")\n",
        "print(\"ANN model training finished.\")\n"
      ],
      "metadata": {
        "colab": {
          "base_uri": "https://localhost:8080/"
        },
        "id": "NzGFQKKAPysM",
        "outputId": "aca72a6b-5aa4-4c33-867b-81248988fc12"
      },
      "execution_count": 64,
      "outputs": [
        {
          "output_type": "stream",
          "name": "stdout",
          "text": [
            "Train labels one-hot shape: (50000, 100)\n",
            "Test labels one-hot shape: (10000, 100)\n",
            "Training ANN model...\n",
            "Epoch 1/30\n",
            "\u001b[1m781/782\u001b[0m \u001b[32m━━━━━━━━━━━━━━━━━━━\u001b[0m\u001b[37m━\u001b[0m \u001b[1m0s\u001b[0m 8ms/step - accuracy: 0.0648 - loss: 4.1281\n",
            "Epoch 1: val_loss improved from inf to 4.00410, saving model to best_ann_model_weights.weights.h5\n",
            "\u001b[1m782/782\u001b[0m \u001b[32m━━━━━━━━━━━━━━━━━━━━\u001b[0m\u001b[37m\u001b[0m \u001b[1m9s\u001b[0m 11ms/step - accuracy: 0.0648 - loss: 4.1280 - val_accuracy: 0.0855 - val_loss: 4.0041\n",
            "Epoch 2/30\n",
            "\u001b[1m777/782\u001b[0m \u001b[32m━━━━━━━━━━━━━━━━━━━\u001b[0m\u001b[37m━\u001b[0m \u001b[1m0s\u001b[0m 9ms/step - accuracy: 0.0878 - loss: 3.9737\n",
            "Epoch 2: val_loss improved from 4.00410 to 3.93294, saving model to best_ann_model_weights.weights.h5\n",
            "\u001b[1m782/782\u001b[0m \u001b[32m━━━━━━━━━━━━━━━━━━━━\u001b[0m\u001b[37m\u001b[0m \u001b[1m8s\u001b[0m 10ms/step - accuracy: 0.0879 - loss: 3.9735 - val_accuracy: 0.0962 - val_loss: 3.9329\n",
            "Epoch 3/30\n",
            "\u001b[1m780/782\u001b[0m \u001b[32m━━━━━━━━━━━━━━━━━━━\u001b[0m\u001b[37m━\u001b[0m \u001b[1m0s\u001b[0m 9ms/step - accuracy: 0.0986 - loss: 3.9039\n",
            "Epoch 3: val_loss improved from 3.93294 to 3.88089, saving model to best_ann_model_weights.weights.h5\n",
            "\u001b[1m782/782\u001b[0m \u001b[32m━━━━━━━━━━━━━━━━━━━━\u001b[0m\u001b[37m\u001b[0m \u001b[1m8s\u001b[0m 10ms/step - accuracy: 0.0986 - loss: 3.9039 - val_accuracy: 0.1055 - val_loss: 3.8809\n",
            "Epoch 4/30\n",
            "\u001b[1m779/782\u001b[0m \u001b[32m━━━━━━━━━━━━━━━━━━━\u001b[0m\u001b[37m━\u001b[0m \u001b[1m0s\u001b[0m 8ms/step - accuracy: 0.1031 - loss: 3.8683\n",
            "Epoch 4: val_loss improved from 3.88089 to 3.84956, saving model to best_ann_model_weights.weights.h5\n",
            "\u001b[1m782/782\u001b[0m \u001b[32m━━━━━━━━━━━━━━━━━━━━\u001b[0m\u001b[37m\u001b[0m \u001b[1m7s\u001b[0m 8ms/step - accuracy: 0.1031 - loss: 3.8682 - val_accuracy: 0.1077 - val_loss: 3.8496\n",
            "Epoch 5/30\n",
            "\u001b[1m779/782\u001b[0m \u001b[32m━━━━━━━━━━━━━━━━━━━\u001b[0m\u001b[37m━\u001b[0m \u001b[1m0s\u001b[0m 9ms/step - accuracy: 0.1113 - loss: 3.8202\n",
            "Epoch 5: val_loss improved from 3.84956 to 3.80924, saving model to best_ann_model_weights.weights.h5\n",
            "\u001b[1m782/782\u001b[0m \u001b[32m━━━━━━━━━━━━━━━━━━━━\u001b[0m\u001b[37m\u001b[0m \u001b[1m8s\u001b[0m 10ms/step - accuracy: 0.1113 - loss: 3.8201 - val_accuracy: 0.1155 - val_loss: 3.8092\n",
            "Epoch 6/30\n",
            "\u001b[1m779/782\u001b[0m \u001b[32m━━━━━━━━━━━━━━━━━━━\u001b[0m\u001b[37m━\u001b[0m \u001b[1m0s\u001b[0m 8ms/step - accuracy: 0.1189 - loss: 3.7820\n",
            "Epoch 6: val_loss improved from 3.80924 to 3.78244, saving model to best_ann_model_weights.weights.h5\n",
            "\u001b[1m782/782\u001b[0m \u001b[32m━━━━━━━━━━━━━━━━━━━━\u001b[0m\u001b[37m\u001b[0m \u001b[1m10s\u001b[0m 10ms/step - accuracy: 0.1189 - loss: 3.7820 - val_accuracy: 0.1209 - val_loss: 3.7824\n",
            "Epoch 7/30\n",
            "\u001b[1m777/782\u001b[0m \u001b[32m━━━━━━━━━━━━━━━━━━━\u001b[0m\u001b[37m━\u001b[0m \u001b[1m0s\u001b[0m 8ms/step - accuracy: 0.1232 - loss: 3.7461\n",
            "Epoch 7: val_loss improved from 3.78244 to 3.75124, saving model to best_ann_model_weights.weights.h5\n",
            "\u001b[1m782/782\u001b[0m \u001b[32m━━━━━━━━━━━━━━━━━━━━\u001b[0m\u001b[37m\u001b[0m \u001b[1m7s\u001b[0m 8ms/step - accuracy: 0.1232 - loss: 3.7461 - val_accuracy: 0.1273 - val_loss: 3.7512\n",
            "Epoch 8/30\n",
            "\u001b[1m779/782\u001b[0m \u001b[32m━━━━━━━━━━━━━━━━━━━\u001b[0m\u001b[37m━\u001b[0m \u001b[1m0s\u001b[0m 9ms/step - accuracy: 0.1285 - loss: 3.7215\n",
            "Epoch 8: val_loss improved from 3.75124 to 3.73540, saving model to best_ann_model_weights.weights.h5\n",
            "\u001b[1m782/782\u001b[0m \u001b[32m━━━━━━━━━━━━━━━━━━━━\u001b[0m\u001b[37m\u001b[0m \u001b[1m8s\u001b[0m 10ms/step - accuracy: 0.1285 - loss: 3.7214 - val_accuracy: 0.1297 - val_loss: 3.7354\n",
            "Epoch 9/30\n",
            "\u001b[1m780/782\u001b[0m \u001b[32m━━━━━━━━━━━━━━━━━━━\u001b[0m\u001b[37m━\u001b[0m \u001b[1m0s\u001b[0m 8ms/step - accuracy: 0.1340 - loss: 3.6923\n",
            "Epoch 9: val_loss improved from 3.73540 to 3.68748, saving model to best_ann_model_weights.weights.h5\n",
            "\u001b[1m782/782\u001b[0m \u001b[32m━━━━━━━━━━━━━━━━━━━━\u001b[0m\u001b[37m\u001b[0m \u001b[1m7s\u001b[0m 8ms/step - accuracy: 0.1340 - loss: 3.6922 - val_accuracy: 0.1383 - val_loss: 3.6875\n",
            "Epoch 10/30\n",
            "\u001b[1m780/782\u001b[0m \u001b[32m━━━━━━━━━━━━━━━━━━━\u001b[0m\u001b[37m━\u001b[0m \u001b[1m0s\u001b[0m 9ms/step - accuracy: 0.1405 - loss: 3.6560\n",
            "Epoch 10: val_loss improved from 3.68748 to 3.65724, saving model to best_ann_model_weights.weights.h5\n",
            "\u001b[1m782/782\u001b[0m \u001b[32m━━━━━━━━━━━━━━━━━━━━\u001b[0m\u001b[37m\u001b[0m \u001b[1m8s\u001b[0m 10ms/step - accuracy: 0.1405 - loss: 3.6560 - val_accuracy: 0.1448 - val_loss: 3.6572\n",
            "Epoch 11/30\n",
            "\u001b[1m779/782\u001b[0m \u001b[32m━━━━━━━━━━━━━━━━━━━\u001b[0m\u001b[37m━\u001b[0m \u001b[1m0s\u001b[0m 9ms/step - accuracy: 0.1469 - loss: 3.6349\n",
            "Epoch 11: val_loss improved from 3.65724 to 3.64244, saving model to best_ann_model_weights.weights.h5\n",
            "\u001b[1m782/782\u001b[0m \u001b[32m━━━━━━━━━━━━━━━━━━━━\u001b[0m\u001b[37m\u001b[0m \u001b[1m10s\u001b[0m 10ms/step - accuracy: 0.1470 - loss: 3.6349 - val_accuracy: 0.1488 - val_loss: 3.6424\n",
            "Epoch 12/30\n",
            "\u001b[1m776/782\u001b[0m \u001b[32m━━━━━━━━━━━━━━━━━━━\u001b[0m\u001b[37m━\u001b[0m \u001b[1m0s\u001b[0m 8ms/step - accuracy: 0.1548 - loss: 3.5968\n",
            "Epoch 12: val_loss improved from 3.64244 to 3.62433, saving model to best_ann_model_weights.weights.h5\n",
            "\u001b[1m782/782\u001b[0m \u001b[32m━━━━━━━━━━━━━━━━━━━━\u001b[0m\u001b[37m\u001b[0m \u001b[1m7s\u001b[0m 9ms/step - accuracy: 0.1548 - loss: 3.5968 - val_accuracy: 0.1479 - val_loss: 3.6243\n",
            "Epoch 13/30\n",
            "\u001b[1m776/782\u001b[0m \u001b[32m━━━━━━━━━━━━━━━━━━━\u001b[0m\u001b[37m━\u001b[0m \u001b[1m0s\u001b[0m 9ms/step - accuracy: 0.1584 - loss: 3.5816\n",
            "Epoch 13: val_loss improved from 3.62433 to 3.60579, saving model to best_ann_model_weights.weights.h5\n",
            "\u001b[1m782/782\u001b[0m \u001b[32m━━━━━━━━━━━━━━━━━━━━\u001b[0m\u001b[37m\u001b[0m \u001b[1m8s\u001b[0m 10ms/step - accuracy: 0.1584 - loss: 3.5816 - val_accuracy: 0.1518 - val_loss: 3.6058\n",
            "Epoch 14/30\n",
            "\u001b[1m782/782\u001b[0m \u001b[32m━━━━━━━━━━━━━━━━━━━━\u001b[0m\u001b[37m\u001b[0m \u001b[1m0s\u001b[0m 8ms/step - accuracy: 0.1566 - loss: 3.5774\n",
            "Epoch 14: val_loss improved from 3.60579 to 3.59488, saving model to best_ann_model_weights.weights.h5\n",
            "\u001b[1m782/782\u001b[0m \u001b[32m━━━━━━━━━━━━━━━━━━━━\u001b[0m\u001b[37m\u001b[0m \u001b[1m7s\u001b[0m 9ms/step - accuracy: 0.1566 - loss: 3.5774 - val_accuracy: 0.1581 - val_loss: 3.5949\n",
            "Epoch 15/30\n",
            "\u001b[1m778/782\u001b[0m \u001b[32m━━━━━━━━━━━━━━━━━━━\u001b[0m\u001b[37m━\u001b[0m \u001b[1m0s\u001b[0m 9ms/step - accuracy: 0.1650 - loss: 3.5449\n",
            "Epoch 15: val_loss improved from 3.59488 to 3.58061, saving model to best_ann_model_weights.weights.h5\n",
            "\u001b[1m782/782\u001b[0m \u001b[32m━━━━━━━━━━━━━━━━━━━━\u001b[0m\u001b[37m\u001b[0m \u001b[1m8s\u001b[0m 10ms/step - accuracy: 0.1650 - loss: 3.5449 - val_accuracy: 0.1593 - val_loss: 3.5806\n",
            "Epoch 16/30\n",
            "\u001b[1m782/782\u001b[0m \u001b[32m━━━━━━━━━━━━━━━━━━━━\u001b[0m\u001b[37m\u001b[0m \u001b[1m0s\u001b[0m 9ms/step - accuracy: 0.1640 - loss: 3.5243\n",
            "Epoch 16: val_loss improved from 3.58061 to 3.56403, saving model to best_ann_model_weights.weights.h5\n",
            "\u001b[1m782/782\u001b[0m \u001b[32m━━━━━━━━━━━━━━━━━━━━\u001b[0m\u001b[37m\u001b[0m \u001b[1m10s\u001b[0m 10ms/step - accuracy: 0.1640 - loss: 3.5243 - val_accuracy: 0.1638 - val_loss: 3.5640\n",
            "Epoch 17/30\n",
            "\u001b[1m777/782\u001b[0m \u001b[32m━━━━━━━━━━━━━━━━━━━\u001b[0m\u001b[37m━\u001b[0m \u001b[1m0s\u001b[0m 8ms/step - accuracy: 0.1681 - loss: 3.5211\n",
            "Epoch 17: val_loss improved from 3.56403 to 3.55519, saving model to best_ann_model_weights.weights.h5\n",
            "\u001b[1m782/782\u001b[0m \u001b[32m━━━━━━━━━━━━━━━━━━━━\u001b[0m\u001b[37m\u001b[0m \u001b[1m7s\u001b[0m 9ms/step - accuracy: 0.1681 - loss: 3.5210 - val_accuracy: 0.1641 - val_loss: 3.5552\n",
            "Epoch 18/30\n",
            "\u001b[1m781/782\u001b[0m \u001b[32m━━━━━━━━━━━━━━━━━━━\u001b[0m\u001b[37m━\u001b[0m \u001b[1m0s\u001b[0m 9ms/step - accuracy: 0.1688 - loss: 3.5100\n",
            "Epoch 18: val_loss improved from 3.55519 to 3.54051, saving model to best_ann_model_weights.weights.h5\n",
            "\u001b[1m782/782\u001b[0m \u001b[32m━━━━━━━━━━━━━━━━━━━━\u001b[0m\u001b[37m\u001b[0m \u001b[1m8s\u001b[0m 10ms/step - accuracy: 0.1688 - loss: 3.5100 - val_accuracy: 0.1701 - val_loss: 3.5405\n",
            "Epoch 19/30\n",
            "\u001b[1m779/782\u001b[0m \u001b[32m━━━━━━━━━━━━━━━━━━━\u001b[0m\u001b[37m━\u001b[0m \u001b[1m0s\u001b[0m 9ms/step - accuracy: 0.1702 - loss: 3.4945\n",
            "Epoch 19: val_loss improved from 3.54051 to 3.52895, saving model to best_ann_model_weights.weights.h5\n",
            "\u001b[1m782/782\u001b[0m \u001b[32m━━━━━━━━━━━━━━━━━━━━\u001b[0m\u001b[37m\u001b[0m \u001b[1m8s\u001b[0m 10ms/step - accuracy: 0.1702 - loss: 3.4945 - val_accuracy: 0.1711 - val_loss: 3.5290\n",
            "Epoch 20/30\n",
            "\u001b[1m781/782\u001b[0m \u001b[32m━━━━━━━━━━━━━━━━━━━\u001b[0m\u001b[37m━\u001b[0m \u001b[1m0s\u001b[0m 8ms/step - accuracy: 0.1784 - loss: 3.4681\n",
            "Epoch 20: val_loss improved from 3.52895 to 3.52532, saving model to best_ann_model_weights.weights.h5\n",
            "\u001b[1m782/782\u001b[0m \u001b[32m━━━━━━━━━━━━━━━━━━━━\u001b[0m\u001b[37m\u001b[0m \u001b[1m9s\u001b[0m 9ms/step - accuracy: 0.1784 - loss: 3.4681 - val_accuracy: 0.1703 - val_loss: 3.5253\n",
            "Epoch 21/30\n",
            "\u001b[1m776/782\u001b[0m \u001b[32m━━━━━━━━━━━━━━━━━━━\u001b[0m\u001b[37m━\u001b[0m \u001b[1m0s\u001b[0m 9ms/step - accuracy: 0.1783 - loss: 3.4695\n",
            "Epoch 21: val_loss improved from 3.52532 to 3.51375, saving model to best_ann_model_weights.weights.h5\n",
            "\u001b[1m782/782\u001b[0m \u001b[32m━━━━━━━━━━━━━━━━━━━━\u001b[0m\u001b[37m\u001b[0m \u001b[1m8s\u001b[0m 10ms/step - accuracy: 0.1783 - loss: 3.4695 - val_accuracy: 0.1723 - val_loss: 3.5138\n",
            "Epoch 22/30\n",
            "\u001b[1m778/782\u001b[0m \u001b[32m━━━━━━━━━━━━━━━━━━━\u001b[0m\u001b[37m━\u001b[0m \u001b[1m0s\u001b[0m 9ms/step - accuracy: 0.1763 - loss: 3.4716\n",
            "Epoch 22: val_loss improved from 3.51375 to 3.50928, saving model to best_ann_model_weights.weights.h5\n",
            "\u001b[1m782/782\u001b[0m \u001b[32m━━━━━━━━━━━━━━━━━━━━\u001b[0m\u001b[37m\u001b[0m \u001b[1m8s\u001b[0m 10ms/step - accuracy: 0.1763 - loss: 3.4715 - val_accuracy: 0.1764 - val_loss: 3.5093\n",
            "Epoch 23/30\n",
            "\u001b[1m782/782\u001b[0m \u001b[32m━━━━━━━━━━━━━━━━━━━━\u001b[0m\u001b[37m\u001b[0m \u001b[1m0s\u001b[0m 8ms/step - accuracy: 0.1824 - loss: 3.4424\n",
            "Epoch 23: val_loss improved from 3.50928 to 3.48795, saving model to best_ann_model_weights.weights.h5\n",
            "\u001b[1m782/782\u001b[0m \u001b[32m━━━━━━━━━━━━━━━━━━━━\u001b[0m\u001b[37m\u001b[0m \u001b[1m7s\u001b[0m 9ms/step - accuracy: 0.1824 - loss: 3.4424 - val_accuracy: 0.1771 - val_loss: 3.4880\n",
            "Epoch 24/30\n",
            "\u001b[1m777/782\u001b[0m \u001b[32m━━━━━━━━━━━━━━━━━━━\u001b[0m\u001b[37m━\u001b[0m \u001b[1m0s\u001b[0m 9ms/step - accuracy: 0.1852 - loss: 3.4205\n",
            "Epoch 24: val_loss improved from 3.48795 to 3.47845, saving model to best_ann_model_weights.weights.h5\n",
            "\u001b[1m782/782\u001b[0m \u001b[32m━━━━━━━━━━━━━━━━━━━━\u001b[0m\u001b[37m\u001b[0m \u001b[1m11s\u001b[0m 10ms/step - accuracy: 0.1852 - loss: 3.4205 - val_accuracy: 0.1807 - val_loss: 3.4784\n",
            "Epoch 25/30\n",
            "\u001b[1m778/782\u001b[0m \u001b[32m━━━━━━━━━━━━━━━━━━━\u001b[0m\u001b[37m━\u001b[0m \u001b[1m0s\u001b[0m 9ms/step - accuracy: 0.1837 - loss: 3.4226\n",
            "Epoch 25: val_loss improved from 3.47845 to 3.46707, saving model to best_ann_model_weights.weights.h5\n",
            "\u001b[1m782/782\u001b[0m \u001b[32m━━━━━━━━━━━━━━━━━━━━\u001b[0m\u001b[37m\u001b[0m \u001b[1m8s\u001b[0m 11ms/step - accuracy: 0.1838 - loss: 3.4226 - val_accuracy: 0.1833 - val_loss: 3.4671\n",
            "Epoch 26/30\n",
            "\u001b[1m779/782\u001b[0m \u001b[32m━━━━━━━━━━━━━━━━━━━\u001b[0m\u001b[37m━\u001b[0m \u001b[1m0s\u001b[0m 8ms/step - accuracy: 0.1912 - loss: 3.4022\n",
            "Epoch 26: val_loss improved from 3.46707 to 3.46621, saving model to best_ann_model_weights.weights.h5\n",
            "\u001b[1m782/782\u001b[0m \u001b[32m━━━━━━━━━━━━━━━━━━━━\u001b[0m\u001b[37m\u001b[0m \u001b[1m7s\u001b[0m 9ms/step - accuracy: 0.1912 - loss: 3.4022 - val_accuracy: 0.1855 - val_loss: 3.4662\n",
            "Epoch 27/30\n",
            "\u001b[1m781/782\u001b[0m \u001b[32m━━━━━━━━━━━━━━━━━━━\u001b[0m\u001b[37m━\u001b[0m \u001b[1m0s\u001b[0m 10ms/step - accuracy: 0.1930 - loss: 3.3880\n",
            "Epoch 27: val_loss improved from 3.46621 to 3.45934, saving model to best_ann_model_weights.weights.h5\n",
            "\u001b[1m782/782\u001b[0m \u001b[32m━━━━━━━━━━━━━━━━━━━━\u001b[0m\u001b[37m\u001b[0m \u001b[1m8s\u001b[0m 10ms/step - accuracy: 0.1930 - loss: 3.3880 - val_accuracy: 0.1807 - val_loss: 3.4593\n",
            "Epoch 28/30\n",
            "\u001b[1m780/782\u001b[0m \u001b[32m━━━━━━━━━━━━━━━━━━━\u001b[0m\u001b[37m━\u001b[0m \u001b[1m0s\u001b[0m 8ms/step - accuracy: 0.1928 - loss: 3.3762\n",
            "Epoch 28: val_loss improved from 3.45934 to 3.44564, saving model to best_ann_model_weights.weights.h5\n",
            "\u001b[1m782/782\u001b[0m \u001b[32m━━━━━━━━━━━━━━━━━━━━\u001b[0m\u001b[37m\u001b[0m \u001b[1m7s\u001b[0m 9ms/step - accuracy: 0.1928 - loss: 3.3763 - val_accuracy: 0.1877 - val_loss: 3.4456\n",
            "Epoch 29/30\n",
            "\u001b[1m779/782\u001b[0m \u001b[32m━━━━━━━━━━━━━━━━━━━\u001b[0m\u001b[37m━\u001b[0m \u001b[1m0s\u001b[0m 9ms/step - accuracy: 0.1935 - loss: 3.3783\n",
            "Epoch 29: val_loss improved from 3.44564 to 3.43745, saving model to best_ann_model_weights.weights.h5\n",
            "\u001b[1m782/782\u001b[0m \u001b[32m━━━━━━━━━━━━━━━━━━━━\u001b[0m\u001b[37m\u001b[0m \u001b[1m8s\u001b[0m 10ms/step - accuracy: 0.1935 - loss: 3.3783 - val_accuracy: 0.1897 - val_loss: 3.4374\n",
            "Epoch 30/30\n",
            "\u001b[1m778/782\u001b[0m \u001b[32m━━━━━━━━━━━━━━━━━━━\u001b[0m\u001b[37m━\u001b[0m \u001b[1m0s\u001b[0m 9ms/step - accuracy: 0.1986 - loss: 3.3580\n",
            "Epoch 30: val_loss did not improve from 3.43745\n",
            "\u001b[1m782/782\u001b[0m \u001b[32m━━━━━━━━━━━━━━━━━━━━\u001b[0m\u001b[37m\u001b[0m \u001b[1m8s\u001b[0m 10ms/step - accuracy: 0.1986 - loss: 3.3581 - val_accuracy: 0.1874 - val_loss: 3.4399\n",
            "ANN model training finished.\n"
          ]
        }
      ]
    },
    {
      "cell_type": "markdown",
      "source": [
        "3.2) Training Basic CNN Model"
      ],
      "metadata": {
        "id": "T868ddjvY-hc"
      }
    },
    {
      "cell_type": "markdown",
      "source": [
        "- **ModelCheckpoint**: saves best Basic CNN weights (`best_basic_cnn_model_weights.weights.h5`) based on validation loss.  \n",
        "- **Training**:  \n",
        "  - Epochs: up to 30 (early stopping controls actual run)  \n",
        "  - Batch size: 64  \n",
        "  - Validation on test set  \n",
        "  - Callbacks: EarlyStopping + ModelCheckpoint"
      ],
      "metadata": {
        "id": "o658YVuaZNEg"
      }
    },
    {
      "cell_type": "code",
      "source": [
        "import tensorflow as tf\n",
        "\n",
        "# Convert numpy arrays to tf.data.Dataset (shuffling + batching)\n",
        "BATCH_SIZE = 128\n",
        "AUTOTUNE = tf.data.AUTOTUNE\n",
        "\n",
        "train_ds = tf.data.Dataset.from_tensor_slices((cifar100_train_images, cifar100_train_labels_one_hot))\n",
        "train_ds = train_ds.shuffle(buffer_size=50000).batch(BATCH_SIZE).prefetch(AUTOTUNE)\n",
        "\n",
        "val_ds = tf.data.Dataset.from_tensor_slices((cifar100_test_images, cifar100_test_labels_one_hot))\n",
        "val_ds = val_ds.batch(BATCH_SIZE).prefetch(AUTOTUNE)\n",
        "\n",
        "# Compile model (ensure compiled)\n",
        "basic_cnn_model.compile(optimizer=tf.keras.optimizers.Adam(1e-3),\n",
        "                        loss='categorical_crossentropy',\n",
        "                        metrics=['accuracy'])\n",
        "\n",
        "# Callbacks\n",
        "early_stopping = tf.keras.callbacks.EarlyStopping(monitor='val_loss', patience=5, restore_best_weights=True)\n",
        "model_checkpoint_cnn = tf.keras.callbacks.ModelCheckpoint(\n",
        "    filepath='best_basic_cnn_model_weights.weights.h5',\n",
        "    monitor='val_loss',\n",
        "    save_best_only=True,\n",
        "    save_weights_only=True,\n",
        "    mode='min',\n",
        "    verbose=1\n",
        ")\n",
        "\n",
        "print(\"Training Basic CNN model using tf.data.Dataset...\")\n",
        "basic_cnn_history = basic_cnn_model.fit(\n",
        "    train_ds,\n",
        "    epochs=30,\n",
        "    validation_data=val_ds,\n",
        "    callbacks=[early_stopping, model_checkpoint_cnn]\n",
        ")\n",
        "print(\"Basic CNN training finished.\")\n"
      ],
      "metadata": {
        "colab": {
          "base_uri": "https://localhost:8080/"
        },
        "id": "jwmHV1ixZMKz",
        "outputId": "fa0e4a7a-466f-46c0-e6e0-7dcd180930f1"
      },
      "execution_count": 69,
      "outputs": [
        {
          "output_type": "stream",
          "name": "stdout",
          "text": [
            "Training Basic CNN model using tf.data.Dataset...\n",
            "Epoch 1/30\n",
            "\u001b[1m391/391\u001b[0m \u001b[32m━━━━━━━━━━━━━━━━━━━━\u001b[0m\u001b[37m\u001b[0m \u001b[1m0s\u001b[0m 120ms/step - accuracy: 0.0088 - loss: 4.6054\n",
            "Epoch 1: val_loss improved from inf to 4.60517, saving model to best_basic_cnn_model_weights.weights.h5\n",
            "\u001b[1m391/391\u001b[0m \u001b[32m━━━━━━━━━━━━━━━━━━━━\u001b[0m\u001b[37m\u001b[0m \u001b[1m57s\u001b[0m 131ms/step - accuracy: 0.0088 - loss: 4.6054 - val_accuracy: 0.0100 - val_loss: 4.6052\n",
            "Epoch 2/30\n",
            "\u001b[1m391/391\u001b[0m \u001b[32m━━━━━━━━━━━━━━━━━━━━\u001b[0m\u001b[37m\u001b[0m \u001b[1m0s\u001b[0m 119ms/step - accuracy: 0.0089 - loss: 4.6054\n",
            "Epoch 2: val_loss did not improve from 4.60517\n",
            "\u001b[1m391/391\u001b[0m \u001b[32m━━━━━━━━━━━━━━━━━━━━\u001b[0m\u001b[37m\u001b[0m \u001b[1m52s\u001b[0m 133ms/step - accuracy: 0.0089 - loss: 4.6054 - val_accuracy: 0.0100 - val_loss: 4.6052\n",
            "Epoch 3/30\n",
            "\u001b[1m391/391\u001b[0m \u001b[32m━━━━━━━━━━━━━━━━━━━━\u001b[0m\u001b[37m\u001b[0m \u001b[1m0s\u001b[0m 120ms/step - accuracy: 0.0095 - loss: 4.6054\n",
            "Epoch 3: val_loss did not improve from 4.60517\n",
            "\u001b[1m391/391\u001b[0m \u001b[32m━━━━━━━━━━━━━━━━━━━━\u001b[0m\u001b[37m\u001b[0m \u001b[1m51s\u001b[0m 130ms/step - accuracy: 0.0095 - loss: 4.6054 - val_accuracy: 0.0100 - val_loss: 4.6052\n",
            "Epoch 4/30\n",
            "\u001b[1m391/391\u001b[0m \u001b[32m━━━━━━━━━━━━━━━━━━━━\u001b[0m\u001b[37m\u001b[0m \u001b[1m0s\u001b[0m 119ms/step - accuracy: 0.0091 - loss: 4.6053\n",
            "Epoch 4: val_loss did not improve from 4.60517\n",
            "\u001b[1m391/391\u001b[0m \u001b[32m━━━━━━━━━━━━━━━━━━━━\u001b[0m\u001b[37m\u001b[0m \u001b[1m50s\u001b[0m 129ms/step - accuracy: 0.0091 - loss: 4.6053 - val_accuracy: 0.0100 - val_loss: 4.6052\n",
            "Epoch 5/30\n",
            "\u001b[1m391/391\u001b[0m \u001b[32m━━━━━━━━━━━━━━━━━━━━\u001b[0m\u001b[37m\u001b[0m \u001b[1m0s\u001b[0m 122ms/step - accuracy: 0.0090 - loss: 4.6054\n",
            "Epoch 5: val_loss did not improve from 4.60517\n",
            "\u001b[1m391/391\u001b[0m \u001b[32m━━━━━━━━━━━━━━━━━━━━\u001b[0m\u001b[37m\u001b[0m \u001b[1m82s\u001b[0m 129ms/step - accuracy: 0.0090 - loss: 4.6054 - val_accuracy: 0.0100 - val_loss: 4.6052\n",
            "Epoch 6/30\n",
            "\u001b[1m391/391\u001b[0m \u001b[32m━━━━━━━━━━━━━━━━━━━━\u001b[0m\u001b[37m\u001b[0m \u001b[1m0s\u001b[0m 122ms/step - accuracy: 0.0102 - loss: 4.6053\n",
            "Epoch 6: val_loss did not improve from 4.60517\n",
            "\u001b[1m391/391\u001b[0m \u001b[32m━━━━━━━━━━━━━━━━━━━━\u001b[0m\u001b[37m\u001b[0m \u001b[1m50s\u001b[0m 129ms/step - accuracy: 0.0101 - loss: 4.6053 - val_accuracy: 0.0100 - val_loss: 4.6052\n",
            "Basic CNN training finished.\n"
          ]
        }
      ]
    },
    {
      "cell_type": "markdown",
      "source": [
        "### 4. Model Evaluation\n",
        "\n",
        "#### 4.1) Model Evaluation Code Explanation\n",
        "\n",
        "Import utilities → Load weights (ANN, Basic CNN, Deeper CNN) → Evaluate on test set → Get loss & accuracy → Print results"
      ],
      "metadata": {
        "id": "pYcaEjgvb-cM"
      }
    },
    {
      "cell_type": "code",
      "source": [
        "import matplotlib.pyplot as plt\n",
        "import numpy as np\n",
        "from sklearn.metrics import confusion_matrix, classification_report\n",
        "from tensorflow import keras\n",
        "\n",
        "# --- Ensure consistent test-label variables (one-hot) exist ---\n",
        "# If you already have these variables, this will simply reassign them.\n",
        "# If not, this will create the one-hot encodings assuming CIFAR-100 (100 classes).\n",
        "try:\n",
        "    # integer labels variable (shape (N,1) or (N,))\n",
        "    _ = cifar100_test_labels\n",
        "except NameError:\n",
        "    # try to fall back to other common names\n",
        "    if 'cifar_100_test_labels' in globals():\n",
        "        cifar100_test_labels = cifar_100_test_labels\n",
        "    else:\n",
        "        raise NameError(\"Can't find `cifar100_test_labels` or `cifar_100_test_labels` in your namespace.\")\n",
        "\n",
        "if 'cifar100_test_labels_one_hot' not in globals() and 'cifar_100_test_labels_one_hot' in globals():\n",
        "    cifar100_test_labels_one_hot = cifar_100_test_labels_one_hot\n",
        "\n",
        "if 'cifar100_test_labels_one_hot' not in globals():\n",
        "    # create one-hot assuming labels are integer class ids 0..99\n",
        "    cifar100_test_labels_one_hot = keras.utils.to_categorical(np.squeeze(cifar100_test_labels), num_classes=100)\n",
        "    print(\"Created cifar100_test_labels_one_hot with shape:\", cifar100_test_labels_one_hot.shape)\n",
        "\n",
        "# --- Safe weight loading helper ---\n",
        "def safe_load_weights(model, filepath, by_name_fallback=True):\n",
        "    try:\n",
        "        model.load_weights(filepath)\n",
        "        print(f\"Loaded weights from {filepath} (full load).\")\n",
        "        return True\n",
        "    except Exception as e:\n",
        "        print(f\"Full load failed for {filepath}: {e}\")\n",
        "        if by_name_fallback:\n",
        "            try:\n",
        "                model.load_weights(filepath, by_name=True)\n",
        "                print(f\"Loaded matching layers by name from {filepath}. Unmatched layers remain uninitialized.\")\n",
        "                return True\n",
        "            except Exception as e2:\n",
        "                print(f\"by_name load also failed for {filepath}: {e2}\")\n",
        "        return False\n",
        "\n",
        "# --- Try loading weights (with safe fallback) ---\n",
        "ann_ok = safe_load_weights(ann_model, 'best_ann_model_weights.weights.h5')\n",
        "basic_ok = safe_load_weights(basic_cnn_model, 'best_basic_cnn_model_weights.weights.h5')\n",
        "deeper_ok = safe_load_weights(deeper_cnn_model, 'best_deeper_cnn_model_weights.weights.h5')\n",
        "\n",
        "# --- Ensure models are compiled (so evaluate works) ---\n",
        "# Use the same loss/metrics you trained with. If you used categorical_crossentropy, use one-hot labels.\n",
        "# If your model was compiled already, compile again to be safe.\n",
        "ann_model.compile(optimizer=keras.optimizers.Adam(1e-3), loss='categorical_crossentropy', metrics=['accuracy'])\n",
        "basic_cnn_model.compile(optimizer=keras.optimizers.Adam(1e-3), loss='categorical_crossentropy', metrics=['accuracy'])\n",
        "deeper_cnn_model.compile(optimizer=keras.optimizers.Adam(1e-3), loss='categorical_crossentropy', metrics=['accuracy'])\n",
        "\n",
        "# --- Evaluate models ---\n",
        "# Use one-hot labels because loss='categorical_crossentropy'\n",
        "loss_ann, accuracy_ann = ann_model.evaluate(cifar100_test_images, cifar100_test_labels_one_hot, verbose=0)\n",
        "loss_basic_cnn, accuracy_basic_cnn = basic_cnn_model.evaluate(cifar100_test_images, cifar100_test_labels_one_hot, verbose=0)\n",
        "loss_deeper_cnn, accuracy_deeper_cnn = deeper_cnn_model.evaluate(cifar100_test_images, cifar100_test_labels_one_hot, verbose=0)\n",
        "\n",
        "print(\"\\nEvaluation summary:\")\n",
        "print(f\"ANN        -> loss: {loss_ann:.4f}, acc: {accuracy_ann:.4f}\")\n",
        "print(f\"Basic CNN  -> loss: {loss_basic_cnn:.4f}, acc: {accuracy_basic_cnn:.4f}\")\n",
        "print(f\"Deeper CNN -> loss: {loss_deeper_cnn:.4f}, acc: {accuracy_deeper_cnn:.4f}\")\n",
        "\n",
        "# --- Plot Loss & Accuracy comparison (dark mode) ---\n",
        "models = ['ANN', 'Basic CNN', 'Deeper CNN']\n",
        "losses = [loss_ann, loss_basic_cnn, loss_deeper_cnn]\n",
        "accuracies = [accuracy_ann, accuracy_basic_cnn, accuracy_deeper_cnn]\n",
        "\n",
        "plt.style.use(\"dark_background\")\n",
        "fig, axes = plt.subplots(1, 2, figsize=(12, 5))\n",
        "\n",
        "axes[0].bar(models, losses, color='#FF6F61', edgecolor='white', width=0.6)\n",
        "axes[0].set_title('Model Test Loss', fontsize=14, fontweight='bold')\n",
        "axes[0].set_ylabel('Loss', fontsize=12)\n",
        "axes[0].grid(True, linestyle='--', alpha=0.4)\n",
        "\n",
        "axes[1].bar(models, accuracies, color='#6BCB77', edgecolor='white', width=0.6)\n",
        "axes[1].set_title('Model Test Accuracy', fontsize=14, fontweight='bold')\n",
        "axes[1].set_ylabel('Accuracy', fontsize=12)\n",
        "axes[1].grid(True, linestyle='--', alpha=0.4)\n",
        "\n",
        "plt.suptitle(\"✨ Model Performance Comparison ✨\", fontsize=16, fontweight='bold')\n",
        "plt.tight_layout()\n",
        "plt.show()\n"
      ],
      "metadata": {
        "colab": {
          "base_uri": "https://localhost:8080/",
          "height": 1000
        },
        "id": "eoqCiJ3VcS1L",
        "outputId": "63604bde-8f79-4999-dd03-e9c09de89e2d"
      },
      "execution_count": 75,
      "outputs": [
        {
          "output_type": "stream",
          "name": "stdout",
          "text": [
            "Loaded weights from best_ann_model_weights.weights.h5 (full load).\n",
            "Loaded weights from best_basic_cnn_model_weights.weights.h5 (full load).\n",
            "Full load failed for best_deeper_cnn_model_weights.weights.h5: A total of 3 objects could not be loaded. Example error message for object <Conv2D name=conv2d_17, built=True>:\n",
            "\n",
            "The shape of the target variable and the shape of the target value in `variable.assign(value)` must match. variable.shape=(3, 3, 3, 32), Received: value.shape=(3, 3, 1, 32). Target variable: <Variable path=sequential_10/conv2d_17/kernel, shape=(3, 3, 3, 32), dtype=float32, value=[[[[ 1.12749174e-01 -1.36483029e-01  6.91380054e-02 -7.51265362e-02\n",
            "     1.26395479e-01  1.02461323e-01 -9.33706760e-04  1.21407226e-01\n",
            "    -4.65605184e-02  8.39174390e-02 -2.13986635e-03 -1.35215864e-01\n",
            "     4.36708480e-02  7.55379796e-02  7.33406842e-03 -1.72685534e-02\n",
            "    -6.16443157e-02  1.93495899e-02  5.33314943e-02 -1.29457712e-01\n",
            "     2.86698341e-02 -2.19503939e-02 -9.89193022e-02 -2.69903988e-02\n",
            "    -4.24340367e-04 -3.09777185e-02 -4.76430207e-02  5.50155342e-02\n",
            "    -1.83598697e-03  1.17706701e-01 -8.58364552e-02 -9.61933285e-02]\n",
            "   [-9.79563743e-02 -6.54622391e-02  1.33837119e-01 -8.58687013e-02\n",
            "     1.02943674e-01  6.91401213e-02  3.62952054e-02  1.36354700e-01\n",
            "     1.17571756e-01  1.12518981e-01  1.89491957e-02 -1.02054939e-01\n",
            "     6.81234896e-02 -5.83488271e-02 -3.92196029e-02 -6.44178689e-03\n",
            "    -6.00198656e-02 -5.74690774e-02  6.57196790e-02  3.02696675e-02\n",
            "    -1.13813274e-01  8.69629830e-02  1.21335343e-01  1.34130195e-01\n",
            "    -1.28601491e-01 -7.92582333e-02 -9.29315984e-02 -3.88109535e-02\n",
            "    -2.02807933e-02 -1.26960069e-01  8.75558704e-02 -6.39493689e-02]\n",
            "   [-5.55389151e-02 -5.58165014e-02 -6.24992475e-02 -4.68513370e-03\n",
            "     1.14017129e-02  5.67107499e-02  3.85348499e-02 -5.29791787e-02\n",
            "     1.13452896e-01  1.08909309e-02 -1.32847279e-01  1.17868528e-01\n",
            "     4.41587269e-02  9.89513099e-03 -4.89091724e-02  8.27942789e-03\n",
            "     9.20452178e-03 -5.39086387e-02 -6.79406375e-02  1.22810617e-01\n",
            "    -7.70958588e-02 -1.33991599e-01  5.50082177e-02 -7.82933980e-02\n",
            "     1.13698646e-01 -5.36584333e-02 -9.74537879e-02 -7.75424466e-02\n",
            "    -4.02854234e-02 -4.83633727e-02  6.96315467e-02  8.94065648e-02]]\n",
            "\n",
            "  [[-9.97836143e-02 -4.93994206e-02  8.53882879e-02 -7.31426701e-02\n",
            "    -1.31136850e-02 -7.27017224e-03  1.58068538e-03 -1.18717782e-01\n",
            "     1.24367312e-01  1.21175304e-01 -7.35612214e-03 -1.80507675e-02\n",
            "    -3.62031758e-02  7.29992986e-04  7.82021284e-02 -1.18684448e-01\n",
            "     6.03273958e-02  6.35486543e-02  4.96438742e-02 -4.71753478e-02\n",
            "    -3.70015502e-02  7.42296726e-02  3.18890512e-02  1.20848864e-02\n",
            "     9.27732587e-02 -2.05973089e-02 -1.04503423e-01  1.29189923e-01\n",
            "     9.20912623e-03  4.19535637e-02  8.75813663e-02 -8.19168538e-02]\n",
            "   [-6.06084689e-02 -4.60141897e-03  3.37729901e-02 -2.44314969e-03\n",
            "    -6.69733584e-02 -7.08238557e-02 -9.87336189e-02 -9.25281867e-02\n",
            "    -4.66257706e-02  5.43604195e-02 -1.02113776e-01  9.87323076e-02\n",
            "     7.51738846e-02  9.46673006e-02 -1.27239779e-01 -1.65020674e-02\n",
            "    -1.13233522e-01 -3.60084772e-02  2.07647979e-02  1.01733789e-01\n",
            "    -1.01938985e-01  6.88036978e-02 -1.28790587e-01 -6.59301803e-02\n",
            "    -1.33900434e-01 -4.39247340e-02 -9.29576159e-03  9.14354175e-02\n",
            "     3.49439085e-02 -7.21050426e-02 -7.54418001e-02  4.90566790e-02]\n",
            "   [ 7.30045587e-02 -1.17774159e-02 -1.99008137e-02  5.19366860e-02\n",
            "     1.17578372e-01  1.96525753e-02 -1.20119497e-01 -7.42467269e-02\n",
            "     5.40255010e-03  7.49327838e-02  4.78124171e-02  8.00376236e-02\n",
            "     5.74199557e-02 -4.76599038e-02 -1.33620366e-01  7.87877291e-02\n",
            "    -7.10126758e-03  2.67408788e-03  9.58374292e-02 -2.15345398e-02\n",
            "    -3.78133357e-03 -5.08784950e-02 -7.32854009e-04 -7.13717565e-02\n",
            "    -1.22538596e-01  1.28352568e-01  1.15667686e-01  5.00730425e-02\n",
            "    -8.73927549e-02 -8.99645686e-02 -5.40815890e-02  6.55989945e-02]]\n",
            "\n",
            "  [[-7.38977715e-02 -2.81841904e-02  1.16064101e-02 -1.22724935e-01\n",
            "     3.31274867e-02  2.04010010e-02  1.09378412e-01 -4.99971360e-02\n",
            "     8.92627686e-02 -4.89316732e-02  3.79733294e-02  1.02169588e-01\n",
            "     7.23589659e-02  5.18776178e-02 -3.58557701e-03  1.79491192e-02\n",
            "     7.63192326e-02 -2.02973485e-02 -3.78647074e-02 -2.90649235e-02\n",
            "    -2.29407921e-02 -8.51670355e-02  6.77469224e-02  4.79139984e-02\n",
            "    -6.47533983e-02 -1.16577089e-01 -9.10121277e-02  7.33280927e-02\n",
            "     3.86737138e-02  7.53634870e-02 -1.12802304e-01  3.05597931e-02]\n",
            "   [ 9.58838016e-02  5.25053144e-02 -3.67589742e-02  6.41761869e-02\n",
            "     4.50280309e-02  5.05744815e-02 -8.67871046e-02  7.21105784e-02\n",
            "     1.00150302e-01 -1.23327687e-01 -5.07232547e-03 -6.27939776e-02\n",
            "    -7.41018429e-02 -8.56938735e-02  2.64968574e-02 -4.48865145e-02\n",
            "     7.65042007e-02  5.75613081e-02  1.18900284e-01 -1.03793375e-01\n",
            "     1.28678843e-01 -1.00142211e-01  5.83374500e-03  2.78241187e-02\n",
            "    -3.08782756e-02 -1.55881643e-02  8.76226872e-02  1.95990801e-02\n",
            "    -1.35266930e-01 -8.26366171e-02  1.16977915e-01 -3.02554518e-02]\n",
            "   [ 1.20371088e-01 -6.44941404e-02 -5.64254001e-02  4.49302495e-02\n",
            "     1.29274502e-01  9.50284004e-02  8.89035761e-02 -3.22147459e-02\n",
            "     5.77423275e-02  7.20725954e-03  1.23678818e-01  8.94995481e-02\n",
            "    -1.10403538e-01 -6.89680874e-02 -1.35317832e-01  7.29760379e-02\n",
            "    -2.60802507e-02 -1.05486959e-01 -2.12733746e-02  1.26646474e-01\n",
            "    -6.81841969e-02  8.08679461e-02  8.08515251e-02 -7.04023167e-02\n",
            "    -6.68229535e-02  4.22849208e-02 -3.37663293e-03 -3.88542265e-02\n",
            "    -9.50912833e-02 -6.31844625e-02  1.00370377e-01 -8.15163031e-02]]]\n",
            "\n",
            "\n",
            " [[[ 5.94542921e-02  3.95303816e-02  6.35164082e-02 -4.62254807e-02\n",
            "    -9.03820992e-02  3.67985964e-02 -5.61711118e-02  7.20123202e-02\n",
            "    -1.12460420e-01 -2.41426155e-02  6.52566850e-02 -7.14910701e-02\n",
            "     1.07624650e-01 -1.01091057e-01 -6.42694011e-02  1.18430629e-01\n",
            "     4.61799055e-02  7.10836053e-02 -1.30782098e-01  1.27654657e-01\n",
            "    -1.36958480e-01  1.30491123e-01 -9.43058133e-02  6.89767748e-02\n",
            "    -4.48234975e-02  2.89462656e-02  1.33151188e-01  9.25051272e-02\n",
            "    -8.01927745e-02 -1.11262918e-01 -1.29474849e-01  5.56089729e-02]\n",
            "   [ 2.81579345e-02  6.77410364e-02  7.43533373e-02 -1.35723561e-01\n",
            "     6.68537468e-02  4.43553925e-02 -9.39767063e-03 -2.93019339e-02\n",
            "     6.69984370e-02  1.30424127e-01  4.89401072e-02 -2.22053081e-02\n",
            "     1.00076661e-01 -1.21048532e-01 -1.12047270e-01 -4.93691489e-02\n",
            "    -3.19018960e-03  2.89914161e-02  1.32902548e-01  1.35846719e-01\n",
            "     9.43919569e-02 -7.54505843e-02 -3.09653729e-02 -7.83769116e-02\n",
            "    -5.21229580e-02  1.05893895e-01  5.02735674e-02  1.15873650e-01\n",
            "    -1.50937662e-02 -1.14976913e-02 -1.17009655e-01  4.42571789e-02]\n",
            "   [-4.88315448e-02  7.73671865e-02  1.58668011e-02 -1.19579427e-01\n",
            "     3.09035182e-02  1.32750377e-01  5.35950214e-02  6.56641126e-02\n",
            "     3.44910324e-02  1.19529322e-01 -1.10709555e-01  3.40798646e-02\n",
            "     9.62097496e-02 -8.88690650e-02  1.29713997e-01 -1.45682469e-02\n",
            "    -1.24891430e-01  1.04733229e-01  1.14041492e-01  6.62045330e-02\n",
            "    -7.18023181e-02 -4.08759341e-02 -8.04315656e-02 -1.09726980e-01\n",
            "     6.24752641e-02 -8.51244554e-02  1.37123242e-01  4.74379957e-02\n",
            "    -2.67010331e-02 -9.34513062e-02  1.07099950e-01  1.20270953e-01]]\n",
            "\n",
            "  [[-8.36080611e-02 -5.40558919e-02 -1.02694049e-01 -2.75852904e-02\n",
            "    -1.08072653e-01 -1.20978713e-01  3.65267694e-02 -2.72057950e-02\n",
            "     8.10392201e-03 -8.62731934e-02 -1.28873587e-02  9.40905809e-02\n",
            "     1.09366313e-01 -5.64711392e-02 -1.20603129e-01 -7.83559233e-02\n",
            "    -1.77152678e-02  9.86875892e-02  1.20912775e-01  9.73113775e-02\n",
            "     9.83834118e-02  6.85110986e-02  7.04845488e-02  1.13981411e-01\n",
            "     1.15251258e-01 -8.00402537e-02 -1.37294799e-01 -1.01245023e-01\n",
            "    -4.49098423e-02  6.11142516e-02  1.25469819e-01  1.21310994e-01]\n",
            "   [ 1.05195194e-01  6.26927018e-02 -8.98172855e-02 -9.44638848e-02\n",
            "    -9.93521959e-02 -3.78593802e-03 -4.98666391e-02  1.03909597e-01\n",
            "    -4.45335135e-02 -1.03496969e-01 -1.08070582e-01 -1.06238112e-01\n",
            "     5.82140833e-02 -3.58956456e-02  9.85827148e-02  1.01784766e-02\n",
            "    -8.12127590e-02 -6.40819967e-03 -3.39930207e-02 -9.20726806e-02\n",
            "    -1.57349855e-02 -7.16352463e-03 -8.72310922e-02 -1.09405965e-01\n",
            "    -8.42358619e-02  7.52638131e-02 -5.73918223e-02 -4.10837606e-02\n",
            "     4.18335646e-02 -2.64186114e-02  1.37273446e-01  1.18629947e-01]\n",
            "   [-1.31530687e-02 -1.66583657e-02  4.16682810e-02  8.90743583e-02\n",
            "    -1.17280006e-01  1.01334363e-01 -1.27452880e-01 -8.60568136e-02\n",
            "    -1.16634540e-01 -1.89196840e-02  1.01847813e-01  1.12967983e-01\n",
            "    -1.29733354e-01 -8.89471173e-02 -1.74017176e-02 -2.18382478e-02\n",
            "     3.29408497e-02 -8.16110671e-02  6.15319461e-02 -5.69814444e-03\n",
            "    -1.93463936e-02  6.99003190e-02  1.12523273e-01  1.38214231e-03\n",
            "     1.11242279e-01  6.76206946e-02  7.13961124e-02  2.33819187e-02\n",
            "    -9.07804072e-02  3.28997225e-02  1.31548509e-01 -1.21088281e-01]]\n",
            "\n",
            "  [[ 1.01585090e-01  1.27986953e-01 -4.92821485e-02 -5.53679690e-02\n",
            "     8.82329494e-02 -1.21975839e-02  2.51153857e-02 -3.86320055e-03\n",
            "     1.00352153e-01 -4.01697308e-02 -2.77782083e-02  6.28187954e-02\n",
            "    -6.44758493e-02  9.00968164e-02 -5.01973331e-02 -8.13044310e-02\n",
            "    -8.49175826e-02  6.20827079e-03  1.65585577e-02 -2.59991437e-02\n",
            "     1.16050139e-01 -9.17684436e-02  5.00762761e-02  7.76317865e-02\n",
            "    -1.22300699e-01 -5.51422760e-02  5.52952141e-02 -1.25722349e-01\n",
            "    -1.56728625e-02 -1.04987428e-01  3.59164774e-02  9.31618661e-02]\n",
            "   [ 6.18200004e-03 -5.41644394e-02  5.47338575e-02 -3.75451073e-02\n",
            "     1.28393993e-01  3.86748016e-02  6.67986274e-03 -7.86850005e-02\n",
            "     6.10894114e-02  1.16545215e-01  6.10437691e-02 -2.47472078e-02\n",
            "    -1.28951967e-02  1.16322860e-01 -1.31967098e-01 -6.16806448e-02\n",
            "     8.48630071e-03  3.92943621e-05 -4.80601266e-02  2.12546885e-02\n",
            "    -2.66974792e-02  1.17253587e-01 -1.23536967e-01  3.76294106e-02\n",
            "     8.78593773e-02  1.08277515e-01  6.05393052e-02  8.87586623e-02\n",
            "     2.37369239e-02 -8.76843259e-02 -9.64581817e-02  3.18788439e-02]\n",
            "   [-1.22466736e-01 -6.84174597e-02  9.11873430e-02 -4.04684097e-02\n",
            "    -1.09531790e-01 -6.07281476e-02  9.28092003e-02  3.44188809e-02\n",
            "     1.23747215e-01  4.24133837e-02 -8.71267468e-02 -1.33007184e-01\n",
            "    -1.03678137e-01 -5.09204119e-02 -6.41791448e-02 -6.60020411e-02\n",
            "     1.31284893e-02 -7.11992383e-02 -5.04432917e-02 -7.47255534e-02\n",
            "    -8.88856202e-02 -1.34120762e-01  4.74873185e-02  2.13891268e-02\n",
            "     9.00726616e-02  1.31143317e-01 -6.83107153e-02  7.76113421e-02\n",
            "    -1.25484318e-01  5.33531457e-02  1.39500648e-02 -2.44403407e-02]]]\n",
            "\n",
            "\n",
            " [[[-6.48312569e-02 -9.70825553e-02 -6.04900718e-03 -1.36135161e-01\n",
            "     3.52886170e-02 -9.40851793e-02 -3.89108211e-02 -1.32497102e-02\n",
            "     9.46375281e-02 -2.75223404e-02  3.40434611e-02  9.50059295e-02\n",
            "     9.56286788e-02 -7.43269473e-02  5.69487810e-02  1.14874288e-01\n",
            "     5.86475432e-02  1.31953880e-01  6.66092336e-02  1.04142204e-01\n",
            "     1.16947994e-01  8.93624425e-02  7.88171142e-02 -7.19220564e-02\n",
            "    -1.34360045e-01 -1.33802697e-01 -1.36923820e-01 -1.06112659e-02\n",
            "     7.61952251e-02 -3.08640301e-02 -2.09133923e-02  7.52398223e-02]\n",
            "   [ 7.25604147e-02  5.19449413e-02 -1.19425237e-01  1.24066934e-01\n",
            "     8.06892663e-02 -1.15190737e-01 -5.27662113e-02 -1.06050089e-01\n",
            "    -9.35104489e-03 -8.23890418e-02 -3.17099839e-02 -1.34782404e-01\n",
            "     2.03607529e-02  1.02886423e-01  4.91231829e-02 -1.34883299e-01\n",
            "    -8.30887631e-02 -7.70205110e-02 -1.17049143e-01  9.74890292e-02\n",
            "     6.95430040e-02 -3.17428559e-02  3.18368226e-02  3.07352394e-02\n",
            "     7.16841519e-02 -1.13773920e-01  8.35553259e-02  5.14570624e-02\n",
            "     9.94250178e-02  4.27494347e-02 -3.47192660e-02  1.26744360e-02]\n",
            "   [ 3.07622254e-02  1.30613193e-01  1.29373744e-01 -6.88598305e-02\n",
            "    -9.66928601e-02  9.71059799e-02 -1.84959397e-02  9.44897532e-04\n",
            "     1.18208244e-01 -3.94740850e-02 -3.04469913e-02 -1.23604819e-01\n",
            "    -1.06343009e-01  7.45791346e-02 -5.58064952e-02  1.26654074e-01\n",
            "    -6.28790408e-02  1.07903123e-01  1.23075411e-01  6.64572120e-02\n",
            "     9.93178785e-03  3.84830534e-02 -9.78187323e-02 -1.05443746e-01\n",
            "     6.66932464e-02 -2.53334716e-02 -1.21124581e-01 -2.62099653e-02\n",
            "    -9.69770253e-02 -4.26467732e-02 -1.16730124e-01  7.97235519e-02]]\n",
            "\n",
            "  [[-1.32052526e-01 -1.27658471e-01 -1.23355888e-01  4.36610729e-02\n",
            "     6.83999509e-02  8.01855028e-02  2.79904157e-02  8.68337005e-02\n",
            "    -1.62274092e-02 -8.42382312e-02  1.05664209e-01  4.56552356e-02\n",
            "    -1.13110490e-01 -5.27516678e-02  5.00326753e-02 -4.00950685e-02\n",
            "    -1.29313916e-01  9.88717824e-02  3.68070155e-02  5.44868112e-02\n",
            "     8.48326832e-02  4.52094376e-02 -1.34001240e-01 -2.74771601e-02\n",
            "     5.07207811e-02 -1.12150855e-01 -8.05288553e-02 -1.08180650e-01\n",
            "     5.25602996e-02 -2.05819085e-02 -7.03103468e-02  1.29502490e-01]\n",
            "   [-1.59857199e-02  6.64192736e-02  7.87295252e-02  2.24775225e-02\n",
            "    -9.91997123e-03  5.50142080e-02 -4.63661179e-02  4.30497527e-03\n",
            "    -6.50771484e-02 -1.04070365e-01  3.49659473e-02  1.16304204e-01\n",
            "    -3.25063765e-02 -1.29787445e-01  1.66734010e-02  1.03204146e-01\n",
            "    -2.87084281e-02 -8.18106681e-02  9.32896137e-02  4.66159880e-02\n",
            "    -6.45508692e-02 -8.91341791e-02 -1.78731754e-02  8.49091560e-02\n",
            "    -1.01611778e-01  7.33289123e-02  3.22731882e-02  1.98029876e-02\n",
            "     1.15577236e-01  1.44422054e-04  1.36647090e-01 -1.05589226e-01]\n",
            "   [ 6.04568124e-02 -3.79045904e-02 -7.19907954e-02 -1.28588229e-01\n",
            "    -1.00621581e-02  2.81004161e-02  3.19445580e-02 -7.69181401e-02\n",
            "     3.46933752e-02  9.14448202e-02  1.12111464e-01  1.30792961e-01\n",
            "     2.24116445e-02 -9.21774209e-02  6.19336218e-02 -7.90748596e-02\n",
            "    -9.61411744e-02 -8.20034593e-02 -7.72206634e-02  1.10219270e-01\n",
            "    -4.56960425e-02 -1.43043175e-02 -5.48533425e-02 -5.06393388e-02\n",
            "    -2.22545862e-03 -4.18668985e-02 -2.69187987e-02  7.43088871e-02\n",
            "    -6.79935142e-02  5.18002659e-02 -4.33509722e-02 -1.19402528e-01]]\n",
            "\n",
            "  [[ 3.14408243e-02 -1.62498504e-02  9.43456590e-02  9.77649391e-02\n",
            "     1.24547437e-01 -8.71037170e-02  1.19353846e-01 -2.85066590e-02\n",
            "     8.46815556e-02  2.36444324e-02 -5.36578745e-02  2.08247751e-02\n",
            "    -7.82028437e-02 -9.45589095e-02  9.81900990e-02 -1.21054724e-01\n",
            "     1.23937741e-01 -1.60935521e-02  3.10170650e-03  2.83533186e-02\n",
            "     1.03023559e-01 -5.91079071e-02  1.09734386e-01  2.79954523e-02\n",
            "    -4.87405658e-02 -1.28096655e-01  1.21261373e-01  9.91737843e-02\n",
            "    -1.09780714e-01 -2.01460719e-03 -5.53703383e-02 -6.76770657e-02]\n",
            "   [-8.01044554e-02  1.18668422e-01 -3.64796743e-02 -8.78193974e-02\n",
            "     1.16483867e-03 -2.40655839e-02 -6.70315698e-02 -5.72650358e-02\n",
            "     7.05513805e-02  4.35678512e-02  1.35996535e-01  2.41795331e-02\n",
            "    -3.89404669e-02  1.13675460e-01 -1.34368002e-01  5.09140640e-02\n",
            "     7.93989748e-02 -9.14490670e-02 -1.35455504e-01  9.10713226e-02\n",
            "     3.92274708e-02 -6.76118806e-02  7.01232105e-02  2.45270431e-02\n",
            "     2.56699324e-02 -8.78606588e-02  1.22516751e-02  1.27879634e-01\n",
            "     5.78012168e-02  8.69234353e-02  9.33643281e-02 -1.36008680e-01]\n",
            "   [-1.09319389e-03 -1.13791294e-01 -1.21643849e-01 -1.49206817e-03\n",
            "    -1.01470783e-01 -4.84077632e-02  4.26174700e-03  5.42290360e-02\n",
            "     2.54223794e-02 -6.88825697e-02 -1.32703811e-01 -1.35946944e-01\n",
            "     4.55652475e-02  2.20172852e-02 -5.77203110e-02  1.00037649e-01\n",
            "     7.55676627e-03  6.11680150e-02 -1.13435693e-01  1.18113160e-02\n",
            "     4.81661111e-02 -1.36151344e-01  9.90486145e-02 -2.82371342e-02\n",
            "     1.39659941e-02 -2.17999145e-02  4.88892347e-02 -2.46761367e-02\n",
            "     9.47271883e-02 -8.12549442e-02 -1.07122593e-01  1.25050530e-01]]]]>\n",
            "\n",
            "List of objects that could not be loaded:\n",
            "[<Conv2D name=conv2d_17, built=True>, <Dense name=dense_23, built=True>, <Dense name=dense_24, built=True>]\n",
            "by_name load also failed for best_deeper_cnn_model_weights.weights.h5: Invalid keyword arguments: {'by_name': True}\n",
            "\n",
            "Evaluation summary:\n",
            "ANN        -> loss: 3.4374, acc: 0.1897\n",
            "Basic CNN  -> loss: 4.6052, acc: 0.0100\n",
            "Deeper CNN -> loss: 4.9179, acc: 0.0100\n"
          ]
        },
        {
          "output_type": "stream",
          "name": "stderr",
          "text": [
            "/tmp/ipython-input-572807476.py:86: UserWarning:\n",
            "\n",
            "Glyph 10024 (\\N{SPARKLES}) missing from font(s) DejaVu Sans.\n",
            "\n",
            "/usr/local/lib/python3.12/dist-packages/IPython/core/pylabtools.py:151: UserWarning:\n",
            "\n",
            "Glyph 10024 (\\N{SPARKLES}) missing from font(s) DejaVu Sans.\n",
            "\n"
          ]
        },
        {
          "output_type": "display_data",
          "data": {
            "text/plain": [
              "<Figure size 1200x500 with 2 Axes>"
            ],
            "image/png": "[encoded data removed]"
          },
          "metadata": {}
        }
      ]
    },
    {
      "cell_type": "markdown",
      "source": [
        "#### 4.2) Model Evaluation (Confusion Matrix & Report)\n",
        "\n",
        "- Predict test images (ANN, Basic CNN, Deeper CNN)  \n",
        "- Convert one-hot labels to integers  \n",
        "- Get predicted labels with `argmax`  \n",
        "- Print confusion matrix &"
      ],
      "metadata": {
        "id": "LDlzQjeGglHH"
      }
    },
    {
      "cell_type": "code",
      "source": [
        "import numpy as np\n",
        "import matplotlib.pyplot as plt\n",
        "import seaborn as sns\n",
        "from sklearn.metrics import confusion_matrix\n",
        "\n",
        "# --- Predict on CIFAR-100 test set ---\n",
        "print(\"Predicting...\")\n",
        "ann_predictions = ann_model.predict(cifar100_test_images, verbose=0)\n",
        "basic_cnn_predictions = basic_cnn_model.predict(cifar100_test_images, verbose=0)\n",
        "deeper_cnn_predictions = deeper_cnn_model.predict(cifar100_test_images, verbose=0)\n",
        "\n",
        "# --- Convert one-hot labels to integer class indices ---\n",
        "test_labels_int = np.argmax(cifar100_test_labels_one_hot, axis=1)\n",
        "\n",
        "ann_predicted_labels = np.argmax(ann_predictions, axis=1)\n",
        "basic_predicted_labels = np.argmax(basic_cnn_predictions, axis=1)\n",
        "deeper_predicted_labels = np.argmax(deeper_cnn_predictions, axis=1)\n",
        "\n",
        "# --- Compute confusion matrices ---\n",
        "cm_ann = confusion_matrix(test_labels_int, ann_predicted_labels)\n",
        "cm_basic = confusion_matrix(test_labels_int, basic_predicted_labels)\n",
        "cm_deeper = confusion_matrix(test_labels_int, deeper_predicted_labels)\n",
        "\n",
        "# --- Plot (only top-10 most frequent classes for visibility) ---\n",
        "# Find 10 classes where model predicted most often\n",
        "top_classes = np.bincount(test_labels_int).argsort()[-10:]\n",
        "\n",
        "fig, axes = plt.subplots(1, 3, figsize=(20, 6))\n",
        "plt.style.use(\"dark_background\")\n",
        "\n",
        "for ax, cm, title in zip(\n",
        "    axes,\n",
        "    [cm_ann, cm_basic, cm_deeper],\n",
        "    [\"ANN Model\", \"Basic CNN Model\", \"Deeper CNN Model\"]\n",
        "):\n",
        "    cm_subset = cm[np.ix_(top_classes, top_classes)]\n",
        "    sns.heatmap(\n",
        "        cm_subset,\n",
        "        annot=False,  # too dense for 100 classes; turn off annotations\n",
        "        fmt=\"d\",\n",
        "        cmap=\"mako\",\n",
        "        ax=ax,\n",
        "        cbar=False\n",
        "    )\n",
        "    ax.set_title(title, fontsize=13, fontweight='bold')\n",
        "    ax.set_xlabel(\"Predicted (Top 10 classes)\")\n",
        "    ax.set_ylabel(\"Actual (Top 10 classes)\")\n",
        "\n",
        "plt.suptitle(\"🔥 Confusion Matrices (Top 10 Classes) for CIFAR-100 Models 🔥\", fontsize=16, fontweight=\"bold\")\n",
        "plt.tight_layout()\n",
        "plt.show()\n"
      ],
      "metadata": {
        "colab": {
          "base_uri": "https://localhost:8080/",
          "height": 511
        },
        "id": "sRa47bFYgyfD",
        "outputId": "ef1c946c-8d4d-4f92-bd70-fcd4d9de00df"
      },
      "execution_count": 76,
      "outputs": [
        {
          "output_type": "stream",
          "name": "stdout",
          "text": [
            "Predicting...\n"
          ]
        },
        {
          "output_type": "stream",
          "name": "stderr",
          "text": [
            "/tmp/ipython-input-2274327011.py:50: UserWarning:\n",
            "\n",
            "Glyph 128293 (\\N{FIRE}) missing from font(s) DejaVu Sans.\n",
            "\n",
            "/usr/local/lib/python3.12/dist-packages/IPython/core/pylabtools.py:151: UserWarning:\n",
            "\n",
            "Glyph 128293 (\\N{FIRE}) missing from font(s) DejaVu Sans.\n",
            "\n"
          ]
        },
        {
          "output_type": "display_data",
          "data": {
            "text/plain": [
              "<Figure size 2000x600 with 3 Axes>"
            ],
            "image/png": "[encoded data removed]"
          },
          "metadata": {}
        }
      ]
    },
    {
      "cell_type": "code",
      "source": [
        "import plotly.graph_objects as go\n",
        "from plotly.subplots import make_subplots\n",
        "\n",
        "models = {\n",
        "    \"ANN\": (\"cyan\", ann_history),\n",
        "    \"Basic CNN\": (\"magenta\", basic_cnn_history),\n",
        "    \"Deeper CNN\": (\"yellow\", deeper_cnn_history)\n",
        "}\n",
        "\n",
        "fig = make_subplots(rows=1, cols=2, subplot_titles=('Accuracy', 'Loss'))\n",
        "\n",
        "for name, (color, history) in models.items():\n",
        "    # Accuracy\n",
        "    fig.add_trace(go.Scatter(\n",
        "        y=history.history['accuracy'], mode='lines+markers',\n",
        "        name=f\"{name} Train\", line=dict(color=color, dash='solid')\n",
        "    ), row=1, col=1)\n",
        "\n",
        "    fig.add_trace(go.Scatter(\n",
        "        y=history.history['val_accuracy'], mode='lines+markers',\n",
        "        name=f\"{name} Val\", line=dict(color=color, dash='dot'), showlegend=False\n",
        "    ), row=1, col=1)\n",
        "\n",
        "    # Loss\n",
        "    fig.add_trace(go.Scatter(\n",
        "        y=history.history['loss'], mode='lines+markers',\n",
        "        name=f\"{name} Train\", line=dict(color=color, dash='solid')\n",
        "    ), row=1, col=2)\n",
        "\n",
        "    fig.add_trace(go.Scatter(\n",
        "        y=history.history['val_loss'], mode='lines+markers',\n",
        "        name=f\"{name} Val\", line=dict(color=color, dash='dot'), showlegend=False\n",
        "    ), row=1, col=2)\n",
        "\n",
        "# Layout tweaks\n",
        "fig.update_layout(\n",
        "    title_text=\"Model Comparison: Accuracy & Loss (Train=Solid, Val=Dot) ✨\",\n",
        "    height=550,\n",
        "    width=1200,\n",
        "    template=\"plotly_dark\"\n",
        ")\n",
        "\n",
        "# Add axis labels\n",
        "fig.update_xaxes(title_text=\"Epoch\", row=1, col=1)\n",
        "fig.update_yaxes(title_text=\"Accuracy\", row=1, col=1)\n",
        "fig.update_xaxes(title_text=\"Epoch\", row=1, col=2)\n",
        "fig.update_yaxes(title_text=\"Loss\", row=1, col=2)\n",
        "\n",
        "fig.show()\n"
      ],
      "metadata": {
        "colab": {
          "base_uri": "https://localhost:8080/",
          "height": 587
        },
        "id": "PJP14z1jhT6f",
        "outputId": "7571e107-bbff-4007-b6be-b1f2b7629fdf"
      },
      "execution_count": 82,
      "outputs": [
        {
          "output_type": "display_data",
          "data": {
            "text/html": [
              "<html>\n",
              "<head><meta charset=\"utf-8\" /></head>\n",
              "<body>\n",
              "    <div>            <script src=\"https://cdnjs.cloudflare.com/ajax/libs/mathjax/2.7.5/MathJax.js?config=TeX-AMS-MML_SVG\"></script><script type=\"text/javascript\">if (window.MathJax && window.MathJax.Hub && window.MathJax.Hub.Config) {window.MathJax.Hub.Config({SVG: {font: \"STIX-Web\"}});}</script>                <script type=\"text/javascript\">window.PlotlyConfig = {MathJaxConfig: 'local'};</script>\n",
              "        <script charset=\"utf-8\" src=\"https://cdn.plot.ly/plotly-2.35.2.min.js\"></script>                <div id=\"1842d8e2-015c-4583-86f3-8abaf70a61fe\" class=\"plotly-graph-div\" style=\"height:550px; width:1200px;\"></div>            <script type=\"text/javascript\">                                    window.PLOTLYENV=window.PLOTLYENV || {};                                    if (document.getElementById(\"1842d8e2-015c-4583-86f3-8abaf70a61fe\")) {                    Plotly.newPlot(                        \"1842d8e2-015c-4583-86f3-8abaf70a61fe\",                        [{\"line\":{\"color\":\"cyan\",\"dash\":\"solid\"},\"mode\":\"lines+markers\",\"name\":\"ANN Train\",\"y\":[0.07231999933719635,0.09098000079393387,0.10010000318288803,0.10679999738931656,0.11234000325202942,0.11828000098466873,0.12501999735832214,0.13091999292373657,0.13624000549316406,0.1427599936723709,0.1495400071144104,0.15352000296115875,0.15620000660419464,0.16035999357700348,0.16485999524593353,0.164900004863739,0.16867999732494354,0.1697400063276291,0.17287999391555786,0.1752600073814392,0.1784999966621399,0.18077999353408813,0.18267999589443207,0.18427999317646027,0.18709999322891235,0.1886799931526184,0.1903800070285797,0.19167999923229218,0.19383999705314636,0.1966399997472763],\"type\":\"scatter\",\"xaxis\":\"x\",\"yaxis\":\"y\"},{\"line\":{\"color\":\"cyan\",\"dash\":\"dot\"},\"mode\":\"lines+markers\",\"name\":\"ANN Val\",\"showlegend\":false,\"y\":[0.08550000190734863,0.09619999676942825,0.1054999977350235,0.10769999772310257,0.11550000309944153,0.120899997651577,0.12729999423027039,0.12970000505447388,0.13830000162124634,0.14480000734329224,0.14880000054836273,0.14790000021457672,0.1518000066280365,0.15809999406337738,0.15929999947547913,0.16380000114440918,0.16410000622272491,0.17010000348091125,0.17110000550746918,0.17030000686645508,0.17229999601840973,0.17640000581741333,0.17710000276565552,0.18070000410079956,0.18330000340938568,0.18549999594688416,0.18070000410079956,0.18770000338554382,0.18970000743865967,0.1873999983072281],\"type\":\"scatter\",\"xaxis\":\"x\",\"yaxis\":\"y\"},{\"line\":{\"color\":\"cyan\",\"dash\":\"solid\"},\"mode\":\"lines+markers\",\"name\":\"ANN Train\",\"y\":[4.081676006317139,3.9538421630859375,3.8951635360717773,3.849086284637451,3.8098387718200684,3.7770724296569824,3.747347593307495,3.7159430980682373,3.682079315185547,3.6490390300750732,3.622166872024536,3.6001665592193604,3.5802652835845947,3.561894178390503,3.5449979305267334,3.53106427192688,3.516184091567993,3.504991292953491,3.4912102222442627,3.477736234664917,3.4648008346557617,3.4535505771636963,3.4399497509002686,3.4284677505493164,3.417163133621216,3.4064688682556152,3.3950884342193604,3.3849387168884277,3.3785274028778076,3.3679821491241455],\"type\":\"scatter\",\"xaxis\":\"x2\",\"yaxis\":\"y2\"},{\"line\":{\"color\":\"cyan\",\"dash\":\"dot\"},\"mode\":\"lines+markers\",\"name\":\"ANN Val\",\"showlegend\":false,\"y\":[4.0040974617004395,3.9329354763031006,3.880892515182495,3.8495590686798096,3.8092448711395264,3.7824418544769287,3.7512366771698,3.735395669937134,3.6874823570251465,3.6572389602661133,3.642444610595703,3.6243293285369873,3.6057937145233154,3.5948848724365234,3.580613374710083,3.564030408859253,3.555189847946167,3.5405113697052,3.5289530754089355,3.5253183841705322,3.5137524604797363,3.509275436401367,3.4879519939422607,3.4784488677978516,3.4670660495758057,3.4662065505981445,3.4593441486358643,3.445643424987793,3.4374468326568604,3.4398512840270996],\"type\":\"scatter\",\"xaxis\":\"x2\",\"yaxis\":\"y2\"},{\"line\":{\"color\":\"magenta\",\"dash\":\"solid\"},\"mode\":\"lines+markers\",\"name\":\"Basic CNN Train\",\"y\":[0.008299999870359898,0.0083600003272295,0.008960000239312649,0.008700000122189522,0.008299999870359898,0.009399999864399433],\"type\":\"scatter\",\"xaxis\":\"x\",\"yaxis\":\"y\"},{\"line\":{\"color\":\"magenta\",\"dash\":\"dot\"},\"mode\":\"lines+markers\",\"name\":\"Basic CNN Val\",\"showlegend\":false,\"y\":[0.009999999776482582,0.009999999776482582,0.009999999776482582,0.009999999776482582,0.009999999776482582,0.009999999776482582],\"type\":\"scatter\",\"xaxis\":\"x\",\"yaxis\":\"y\"},{\"line\":{\"color\":\"magenta\",\"dash\":\"solid\"},\"mode\":\"lines+markers\",\"name\":\"Basic CNN Train\",\"y\":[4.605605125427246,4.605552673339844,4.60557746887207,4.605564594268799,4.605558395385742,4.605575084686279],\"type\":\"scatter\",\"xaxis\":\"x2\",\"yaxis\":\"y2\"},{\"line\":{\"color\":\"magenta\",\"dash\":\"dot\"},\"mode\":\"lines+markers\",\"name\":\"Basic CNN Val\",\"showlegend\":false,\"y\":[4.605172634124756,4.605173110961914,4.605175018310547,4.605174541473389,4.605174541473389,4.605174541473389],\"type\":\"scatter\",\"xaxis\":\"x2\",\"yaxis\":\"y2\"},{\"line\":{\"color\":\"yellow\",\"dash\":\"solid\"},\"mode\":\"lines+markers\",\"name\":\"Deeper CNN Train\",\"y\":[0.7325500249862671,0.8230000138282776,0.8449000120162964,0.8531833291053772,0.861133337020874,0.8687333464622498,0.8712000250816345,0.8773333430290222,0.880299985408783,0.8823666572570801,0.8860499858856201,0.8847000002861023,0.8874333500862122,0.890999972820282,0.8905166387557983,0.8939666748046875,0.8967333436012268,0.8950166702270508,0.8966833353042603,0.8976666927337646,0.8979499936103821,0.9006500244140625,0.9002000093460083,0.9010999798774719,0.9028666615486145,0.90420001745224,0.9043166637420654,0.9032333493232727,0.9057499766349792,0.9051499962806702],\"type\":\"scatter\",\"xaxis\":\"x\",\"yaxis\":\"y\"},{\"line\":{\"color\":\"yellow\",\"dash\":\"dot\"},\"mode\":\"lines+markers\",\"name\":\"Deeper CNN Val\",\"showlegend\":false,\"y\":[0.8140000104904175,0.8521999716758728,0.849399983882904,0.8754000067710876,0.8503000140190125,0.8652999997138977,0.8812000155448914,0.8838000297546387,0.8813999891281128,0.892300009727478,0.8773000240325928,0.8913000226020813,0.8889999985694885,0.8912000060081482,0.8944000005722046,0.8914999961853027,0.8939999938011169,0.8770999908447266,0.8992999792098999,0.8982999920845032,0.8982999920845032,0.9014000296592712,0.9032999873161316,0.8888999819755554,0.8726000189781189,0.9042999744415283,0.9007999897003174,0.8806999921798706,0.9049000144004822,0.885699987411499],\"type\":\"scatter\",\"xaxis\":\"x\",\"yaxis\":\"y\"},{\"line\":{\"color\":\"yellow\",\"dash\":\"solid\"},\"mode\":\"lines+markers\",\"name\":\"Deeper CNN Train\",\"y\":[0.7633621692657471,0.491761714220047,0.43063369393348694,0.4067884683609009,0.3796537220478058,0.36227622628211975,0.3521250784397125,0.337910532951355,0.32917097210884094,0.32341551780700684,0.31403613090515137,0.31311145424842834,0.3073676824569702,0.2997817099094391,0.2956567406654358,0.29145053029060364,0.28602659702301025,0.2844823896884918,0.28199437260627747,0.2804933190345764,0.27939268946647644,0.2727322578430176,0.273183137178421,0.2704768478870392,0.26775065064430237,0.2631559669971466,0.26269733905792236,0.26235154271125793,0.25761181116104126,0.2588883340358734],\"type\":\"scatter\",\"xaxis\":\"x2\",\"yaxis\":\"y2\"},{\"line\":{\"color\":\"yellow\",\"dash\":\"dot\"},\"mode\":\"lines+markers\",\"name\":\"Deeper CNN Val\",\"showlegend\":false,\"y\":[0.5154275894165039,0.3864901661872864,0.4033832252025604,0.339254230260849,0.39755484461784363,0.3519834578037262,0.3172224462032318,0.31107744574546814,0.319440633058548,0.2893216907978058,0.332401305437088,0.30041998624801636,0.31050923466682434,0.29929229617118835,0.28285595774650574,0.2885875999927521,0.2859455645084381,0.32778745889663696,0.27868086099624634,0.27513769268989563,0.27866610884666443,0.2705117464065552,0.2667340934276581,0.29277142882347107,0.3459436595439911,0.2638746500015259,0.267636775970459,0.31489819288253784,0.2622976005077362,0.3145194947719574],\"type\":\"scatter\",\"xaxis\":\"x2\",\"yaxis\":\"y2\"}],                        {\"template\":{\"data\":{\"barpolar\":[{\"marker\":{\"line\":{\"color\":\"rgb(17,17,17)\",\"width\":0.5},\"pattern\":{\"fillmode\":\"overlay\",\"size\":10,\"solidity\":0.2}},\"type\":\"barpolar\"}],\"bar\":[{\"error_x\":{\"color\":\"#f2f5fa\"},\"error_y\":{\"color\":\"#f2f5fa\"},\"marker\":{\"line\":{\"color\":\"rgb(17,17,17)\",\"width\":0.5},\"pattern\":{\"fillmode\":\"overlay\",\"size\":10,\"solidity\":0.2}},\"type\":\"bar\"}],\"carpet\":[{\"aaxis\":{\"endlinecolor\":\"#A2B1C6\",\"gridcolor\":\"#506784\",\"linecolor\":\"#506784\",\"minorgridcolor\":\"#506784\",\"startlinecolor\":\"#A2B1C6\"},\"baxis\":{\"endlinecolor\":\"#A2B1C6\",\"gridcolor\":\"#506784\",\"linecolor\":\"#506784\",\"minorgridcolor\":\"#506784\",\"startlinecolor\":\"#A2B1C6\"},\"type\":\"carpet\"}],\"choropleth\":[{\"colorbar\":{\"outlinewidth\":0,\"ticks\":\"\"},\"type\":\"choropleth\"}],\"contourcarpet\":[{\"colorbar\":{\"outlinewidth\":0,\"ticks\":\"\"},\"type\":\"contourcarpet\"}],\"contour\":[{\"colorbar\":{\"outlinewidth\":0,\"ticks\":\"\"},\"colorscale\":[[0.0,\"#0d0887\"],[0.1111111111111111,\"#46039f\"],[0.2222222222222222,\"#7201a8\"],[0.3333333333333333,\"#9c179e\"],[0.4444444444444444,\"#bd3786\"],[0.5555555555555556,\"#d8576b\"],[0.6666666666666666,\"#ed7953\"],[0.7777777777777778,\"#fb9f3a\"],[0.8888888888888888,\"#fdca26\"],[1.0,\"#f0f921\"]],\"type\":\"contour\"}],\"heatmapgl\":[{\"colorbar\":{\"outlinewidth\":0,\"ticks\":\"\"},\"colorscale\":[[0.0,\"#0d0887\"],[0.1111111111111111,\"#46039f\"],[0.2222222222222222,\"#7201a8\"],[0.3333333333333333,\"#9c179e\"],[0.4444444444444444,\"#bd3786\"],[0.5555555555555556,\"#d8576b\"],[0.6666666666666666,\"#ed7953\"],[0.7777777777777778,\"#fb9f3a\"],[0.8888888888888888,\"#fdca26\"],[1.0,\"#f0f921\"]],\"type\":\"heatmapgl\"}],\"heatmap\":[{\"colorbar\":{\"outlinewidth\":0,\"ticks\":\"\"},\"colorscale\":[[0.0,\"#0d0887\"],[0.1111111111111111,\"#46039f\"],[0.2222222222222222,\"#7201a8\"],[0.3333333333333333,\"#9c179e\"],[0.4444444444444444,\"#bd3786\"],[0.5555555555555556,\"#d8576b\"],[0.6666666666666666,\"#ed7953\"],[0.7777777777777778,\"#fb9f3a\"],[0.8888888888888888,\"#fdca26\"],[1.0,\"#f0f921\"]],\"type\":\"heatmap\"}],\"histogram2dcontour\":[{\"colorbar\":{\"outlinewidth\":0,\"ticks\":\"\"},\"colorscale\":[[0.0,\"#0d0887\"],[0.1111111111111111,\"#46039f\"],[0.2222222222222222,\"#7201a8\"],[0.3333333333333333,\"#9c179e\"],[0.4444444444444444,\"#bd3786\"],[0.5555555555555556,\"#d8576b\"],[0.6666666666666666,\"#ed7953\"],[0.7777777777777778,\"#fb9f3a\"],[0.8888888888888888,\"#fdca26\"],[1.0,\"#f0f921\"]],\"type\":\"histogram2dcontour\"}],\"histogram2d\":[{\"colorbar\":{\"outlinewidth\":0,\"ticks\":\"\"},\"colorscale\":[[0.0,\"#0d0887\"],[0.1111111111111111,\"#46039f\"],[0.2222222222222222,\"#7201a8\"],[0.3333333333333333,\"#9c179e\"],[0.4444444444444444,\"#bd3786\"],[0.5555555555555556,\"#d8576b\"],[0.6666666666666666,\"#ed7953\"],[0.7777777777777778,\"#fb9f3a\"],[0.8888888888888888,\"#fdca26\"],[1.0,\"#f0f921\"]],\"type\":\"histogram2d\"}],\"histogram\":[{\"marker\":{\"pattern\":{\"fillmode\":\"overlay\",\"size\":10,\"solidity\":0.2}},\"type\":\"histogram\"}],\"mesh3d\":[{\"colorbar\":{\"outlinewidth\":0,\"ticks\":\"\"},\"type\":\"mesh3d\"}],\"parcoords\":[{\"line\":{\"colorbar\":{\"outlinewidth\":0,\"ticks\":\"\"}},\"type\":\"parcoords\"}],\"pie\":[{\"automargin\":true,\"type\":\"pie\"}],\"scatter3d\":[{\"line\":{\"colorbar\":{\"outlinewidth\":0,\"ticks\":\"\"}},\"marker\":{\"colorbar\":{\"outlinewidth\":0,\"ticks\":\"\"}},\"type\":\"scatter3d\"}],\"scattercarpet\":[{\"marker\":{\"colorbar\":{\"outlinewidth\":0,\"ticks\":\"\"}},\"type\":\"scattercarpet\"}],\"scattergeo\":[{\"marker\":{\"colorbar\":{\"outlinewidth\":0,\"ticks\":\"\"}},\"type\":\"scattergeo\"}],\"scattergl\":[{\"marker\":{\"line\":{\"color\":\"#283442\"}},\"type\":\"scattergl\"}],\"scattermapbox\":[{\"marker\":{\"colorbar\":{\"outlinewidth\":0,\"ticks\":\"\"}},\"type\":\"scattermapbox\"}],\"scatterpolargl\":[{\"marker\":{\"colorbar\":{\"outlinewidth\":0,\"ticks\":\"\"}},\"type\":\"scatterpolargl\"}],\"scatterpolar\":[{\"marker\":{\"colorbar\":{\"outlinewidth\":0,\"ticks\":\"\"}},\"type\":\"scatterpolar\"}],\"scatter\":[{\"marker\":{\"line\":{\"color\":\"#283442\"}},\"type\":\"scatter\"}],\"scatterternary\":[{\"marker\":{\"colorbar\":{\"outlinewidth\":0,\"ticks\":\"\"}},\"type\":\"scatterternary\"}],\"surface\":[{\"colorbar\":{\"outlinewidth\":0,\"ticks\":\"\"},\"colorscale\":[[0.0,\"#0d0887\"],[0.1111111111111111,\"#46039f\"],[0.2222222222222222,\"#7201a8\"],[0.3333333333333333,\"#9c179e\"],[0.4444444444444444,\"#bd3786\"],[0.5555555555555556,\"#d8576b\"],[0.6666666666666666,\"#ed7953\"],[0.7777777777777778,\"#fb9f3a\"],[0.8888888888888888,\"#fdca26\"],[1.0,\"#f0f921\"]],\"type\":\"surface\"}],\"table\":[{\"cells\":{\"fill\":{\"color\":\"#506784\"},\"line\":{\"color\":\"rgb(17,17,17)\"}},\"header\":{\"fill\":{\"color\":\"#2a3f5f\"},\"line\":{\"color\":\"rgb(17,17,17)\"}},\"type\":\"table\"}]},\"layout\":{\"annotationdefaults\":{\"arrowcolor\":\"#f2f5fa\",\"arrowhead\":0,\"arrowwidth\":1},\"autotypenumbers\":\"strict\",\"coloraxis\":{\"colorbar\":{\"outlinewidth\":0,\"ticks\":\"\"}},\"colorscale\":{\"diverging\":[[0,\"#8e0152\"],[0.1,\"#c51b7d\"],[0.2,\"#de77ae\"],[0.3,\"#f1b6da\"],[0.4,\"#fde0ef\"],[0.5,\"#f7f7f7\"],[0.6,\"#e6f5d0\"],[0.7,\"#b8e186\"],[0.8,\"#7fbc41\"],[0.9,\"#4d9221\"],[1,\"#276419\"]],\"sequential\":[[0.0,\"#0d0887\"],[0.1111111111111111,\"#46039f\"],[0.2222222222222222,\"#7201a8\"],[0.3333333333333333,\"#9c179e\"],[0.4444444444444444,\"#bd3786\"],[0.5555555555555556,\"#d8576b\"],[0.6666666666666666,\"#ed7953\"],[0.7777777777777778,\"#fb9f3a\"],[0.8888888888888888,\"#fdca26\"],[1.0,\"#f0f921\"]],\"sequentialminus\":[[0.0,\"#0d0887\"],[0.1111111111111111,\"#46039f\"],[0.2222222222222222,\"#7201a8\"],[0.3333333333333333,\"#9c179e\"],[0.4444444444444444,\"#bd3786\"],[0.5555555555555556,\"#d8576b\"],[0.6666666666666666,\"#ed7953\"],[0.7777777777777778,\"#fb9f3a\"],[0.8888888888888888,\"#fdca26\"],[1.0,\"#f0f921\"]]},\"colorway\":[\"#636efa\",\"#EF553B\",\"#00cc96\",\"#ab63fa\",\"#FFA15A\",\"#19d3f3\",\"#FF6692\",\"#B6E880\",\"#FF97FF\",\"#FECB52\"],\"font\":{\"color\":\"#f2f5fa\"},\"geo\":{\"bgcolor\":\"rgb(17,17,17)\",\"lakecolor\":\"rgb(17,17,17)\",\"landcolor\":\"rgb(17,17,17)\",\"showlakes\":true,\"showland\":true,\"subunitcolor\":\"#506784\"},\"hoverlabel\":{\"align\":\"left\"},\"hovermode\":\"closest\",\"mapbox\":{\"style\":\"dark\"},\"paper_bgcolor\":\"rgb(17,17,17)\",\"plot_bgcolor\":\"rgb(17,17,17)\",\"polar\":{\"angularaxis\":{\"gridcolor\":\"#506784\",\"linecolor\":\"#506784\",\"ticks\":\"\"},\"bgcolor\":\"rgb(17,17,17)\",\"radialaxis\":{\"gridcolor\":\"#506784\",\"linecolor\":\"#506784\",\"ticks\":\"\"}},\"scene\":{\"xaxis\":{\"backgroundcolor\":\"rgb(17,17,17)\",\"gridcolor\":\"#506784\",\"gridwidth\":2,\"linecolor\":\"#506784\",\"showbackground\":true,\"ticks\":\"\",\"zerolinecolor\":\"#C8D4E3\"},\"yaxis\":{\"backgroundcolor\":\"rgb(17,17,17)\",\"gridcolor\":\"#506784\",\"gridwidth\":2,\"linecolor\":\"#506784\",\"showbackground\":true,\"ticks\":\"\",\"zerolinecolor\":\"#C8D4E3\"},\"zaxis\":{\"backgroundcolor\":\"rgb(17,17,17)\",\"gridcolor\":\"#506784\",\"gridwidth\":2,\"linecolor\":\"#506784\",\"showbackground\":true,\"ticks\":\"\",\"zerolinecolor\":\"#C8D4E3\"}},\"shapedefaults\":{\"line\":{\"color\":\"#f2f5fa\"}},\"sliderdefaults\":{\"bgcolor\":\"#C8D4E3\",\"bordercolor\":\"rgb(17,17,17)\",\"borderwidth\":1,\"tickwidth\":0},\"ternary\":{\"aaxis\":{\"gridcolor\":\"#506784\",\"linecolor\":\"#506784\",\"ticks\":\"\"},\"baxis\":{\"gridcolor\":\"#506784\",\"linecolor\":\"#506784\",\"ticks\":\"\"},\"bgcolor\":\"rgb(17,17,17)\",\"caxis\":{\"gridcolor\":\"#506784\",\"linecolor\":\"#506784\",\"ticks\":\"\"}},\"title\":{\"x\":0.05},\"updatemenudefaults\":{\"bgcolor\":\"#506784\",\"borderwidth\":0},\"xaxis\":{\"automargin\":true,\"gridcolor\":\"#283442\",\"linecolor\":\"#506784\",\"ticks\":\"\",\"title\":{\"standoff\":15},\"zerolinecolor\":\"#283442\",\"zerolinewidth\":2},\"yaxis\":{\"automargin\":true,\"gridcolor\":\"#283442\",\"linecolor\":\"#506784\",\"ticks\":\"\",\"title\":{\"standoff\":15},\"zerolinecolor\":\"#283442\",\"zerolinewidth\":2}}},\"xaxis\":{\"anchor\":\"y\",\"domain\":[0.0,0.45],\"title\":{\"text\":\"Epoch\"}},\"yaxis\":{\"anchor\":\"x\",\"domain\":[0.0,1.0],\"title\":{\"text\":\"Accuracy\"}},\"xaxis2\":{\"anchor\":\"y2\",\"domain\":[0.55,1.0],\"title\":{\"text\":\"Epoch\"}},\"yaxis2\":{\"anchor\":\"x2\",\"domain\":[0.0,1.0],\"title\":{\"text\":\"Loss\"}},\"annotations\":[{\"font\":{\"size\":16},\"showarrow\":false,\"text\":\"Accuracy\",\"x\":0.225,\"xanchor\":\"center\",\"xref\":\"paper\",\"y\":1.0,\"yanchor\":\"bottom\",\"yref\":\"paper\"},{\"font\":{\"size\":16},\"showarrow\":false,\"text\":\"Loss\",\"x\":0.775,\"xanchor\":\"center\",\"xref\":\"paper\",\"y\":1.0,\"yanchor\":\"bottom\",\"yref\":\"paper\"}],\"title\":{\"text\":\"Model Comparison: Accuracy & Loss (Train=Solid, Val=Dot) ✨\"},\"height\":550,\"width\":1200},                        {\"responsive\": true}                    ).then(function(){\n",
              "                            \n",
              "var gd = document.getElementById('1842d8e2-015c-4583-86f3-8abaf70a61fe');\n",
              "var x = new MutationObserver(function (mutations, observer) {{\n",
              "        var display = window.getComputedStyle(gd).display;\n",
              "        if (!display || display === 'none') {{\n",
              "            console.log([gd, 'removed!']);\n",
              "            Plotly.purge(gd);\n",
              "            observer.disconnect();\n",
              "        }}\n",
              "}});\n",
              "\n",
              "// Listen for the removal of the full notebook cells\n",
              "var notebookContainer = gd.closest('#notebook-container');\n",
              "if (notebookContainer) {{\n",
              "    x.observe(notebookContainer, {childList: true});\n",
              "}}\n",
              "\n",
              "// Listen for the clearing of the current output cell\n",
              "var outputEl = gd.closest('.output');\n",
              "if (outputEl) {{\n",
              "    x.observe(outputEl, {childList: true});\n",
              "}}\n",
              "\n",
              "                        })                };                            </script>        </div>\n",
              "</body>\n",
              "</html>"
            ]
          },
          "metadata": {}
        }
      ]
    },
    {
      "cell_type": "markdown",
      "source": [
        "#### 4.4) Predictions\n",
        "\n",
        "This code:\n",
        "- Uses the trained **Basic CNN model** to predict on test images.  \n",
        "- Identifies **correctly** and **incorrectly** classified samples.  \n",
        "- Randomly selects 100 correct and 100 incorrect predictions.  \n",
        "- Displays them in a **20×10 grid**:  \n",
        "  - ✅ Correct predictions → **Green title** (only predicted label).  \n",
        "  - ❌ Incorrect predictions → **Red title** (Predicted vs True label).  \n"
      ],
      "metadata": {
        "id": "-0Oo9jNSiyJX"
      }
    },
    {
      "cell_type": "code",
      "source": [
        "import numpy as np\n",
        "import matplotlib.pyplot as plt\n",
        "\n",
        "# Predictions\n",
        "basic_cnn_predictions = basic_cnn_model.predict(cifar100_test_images)\n",
        "basic_cnn_predicted_labels = np.argmax(basic_cnn_predictions, axis=1)\n",
        "\n",
        "# Integer labels\n",
        "if cifar100_test_labels.ndim > 1:\n",
        "    test_labels_int = np.argmax(cifar100_test_labels, axis=1)\n",
        "else:\n",
        "    test_labels_int = cifar100_test_labels\n",
        "\n",
        "# Selected 12 classes (example)\n",
        "selected_classes = [0, 1, 2, 3, 4, 5, 6, 7, 8, 9, 10, 11]\n",
        "class_names = ['apple', 'aquarium_fish', 'baby', 'bear', 'beaver',\n",
        "               'bed', 'bee', 'beetle', 'bicycle', 'bottle', 'bowl', 'boy']\n",
        "\n",
        "# Filter indices for selected classes\n",
        "indices_selected = np.where(np.isin(test_labels_int, selected_classes))[0]\n",
        "\n",
        "# Correct & incorrect indices\n",
        "correct_indices = indices_selected[basic_cnn_predicted_labels[indices_selected] == test_labels_int[indices_selected]]\n",
        "incorrect_indices = indices_selected[basic_cnn_predicted_labels[indices_selected] != test_labels_int[indices_selected]]\n",
        "\n",
        "# Sample a mix\n",
        "num_correct = min(24, len(correct_indices))\n",
        "num_incorrect = min(24, len(incorrect_indices))\n",
        "\n",
        "selected_correct = np.random.choice(correct_indices, num_correct, replace=False)\n",
        "selected_incorrect = np.random.choice(incorrect_indices, num_incorrect, replace=False)\n",
        "\n",
        "all_indices = np.concatenate((selected_correct, selected_incorrect))\n",
        "np.random.shuffle(all_indices)\n",
        "\n",
        "# Grid layout\n",
        "num_cols = 12\n",
        "num_rows = (len(all_indices) + num_cols - 1) // num_cols\n",
        "\n",
        "fig, axes = plt.subplots(num_rows, num_cols, figsize=(2*num_cols, 2*num_rows), facecolor='white')\n",
        "fig.suptitle(\"Basic CNN Predictions on CIFAR-100 (12 Classes)\", fontsize=18, y=1.05, color='black')\n",
        "\n",
        "for i, idx in enumerate(all_indices):\n",
        "    row, col = divmod(i, num_cols)\n",
        "    axes[row, col].imshow(cifar100_test_images[idx])\n",
        "    axes[row, col].set_facecolor('white')\n",
        "\n",
        "    pred = class_names[basic_cnn_predicted_labels[idx]]\n",
        "    true = class_names[test_labels_int[idx]]\n",
        "\n",
        "    if basic_cnn_predicted_labels[idx] == test_labels_int[idx]:\n",
        "        axes[row, col].set_title(f\"{pred}\", fontsize=7, color=\"green\")\n",
        "    else:\n",
        "        axes[row, col].set_title(f\"P:{pred}\\nT:{true}\", fontsize=6, color=\"red\")\n",
        "\n",
        "    axes[row, col].axis(\"off\")\n",
        "\n",
        "# Turn off extra axes\n",
        "for j in range(len(all_indices), num_rows*num_cols):\n",
        "    row, col = divmod(j, num_cols)\n",
        "    axes[row, col].axis(\"off\")\n",
        "\n",
        "plt.subplots_adjust(top=0.88, hspace=0.6, wspace=0.3)\n",
        "plt.show()\n"
      ],
      "metadata": {
        "colab": {
          "base_uri": "https://localhost:8080/",
          "height": 274
        },
        "id": "XHRW77ExjHMi",
        "outputId": "31930749-5427-459a-daaf-415623f8409f"
      },
      "execution_count": 96,
      "outputs": [
        {
          "output_type": "stream",
          "name": "stdout",
          "text": [
            "\u001b[1m313/313\u001b[0m \u001b[32m━━━━━━━━━━━━━━━━━━━━\u001b[0m\u001b[37m\u001b[0m \u001b[1m4s\u001b[0m 14ms/step\n"
          ]
        },
        {
          "output_type": "display_data",
          "data": {
            "text/plain": [
              "<Figure size 2400x400 with 24 Axes>"
            ],
            "image/png": "[encoded data removed]"
          },
          "metadata": {}
        }
      ]
    }
  ],
  "metadata": {
    "colab": {
      "provenance": [],
      "authorship_tag": "ABX9TyM0XELSRWGHHCrzLCzzvmLk",
      "include_colab_link": true
    },
    "kernelspec": {
      "display_name": "Python 3",
      "name": "python3"
    },
    "language_info": {
      "name": "python"
    }
  },
  "nbformat": 4,
  "nbformat_minor": 0
}